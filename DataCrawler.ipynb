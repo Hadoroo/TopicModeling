{
 "cells": [
  {
   "cell_type": "code",
   "execution_count": null,
   "metadata": {},
   "outputs": [
    {
     "name": "stdout",
     "output_type": "stream",
     "text": [
      "Elemen artikel tidak ditemukan di halaman 1, kemungkinan masih ada CAPTCHA.\n",
      "Halaman 2 selesai, total artikel terkumpul: 10\n",
      "Halaman 3 selesai, total artikel terkumpul: 20\n",
      "Halaman 4 selesai, total artikel terkumpul: 30\n",
      "Halaman 5 selesai, total artikel terkumpul: 40\n",
      "Halaman 6 selesai, total artikel terkumpul: 50\n",
      "Halaman 7 selesai, total artikel terkumpul: 60\n",
      "Halaman 8 selesai, total artikel terkumpul: 70\n",
      "Halaman 9 selesai, total artikel terkumpul: 80\n",
      "Halaman 10 selesai, total artikel terkumpul: 90\n",
      "Halaman 11 selesai, total artikel terkumpul: 100\n",
      "Halaman 12 selesai, total artikel terkumpul: 110\n",
      "Halaman 13 selesai, total artikel terkumpul: 120\n",
      "Halaman 14 selesai, total artikel terkumpul: 130\n",
      "Halaman 15 selesai, total artikel terkumpul: 140\n",
      "Halaman 16 selesai, total artikel terkumpul: 150\n",
      "Halaman 17 selesai, total artikel terkumpul: 160\n"
     ]
    },
    {
     "ename": "KeyboardInterrupt",
     "evalue": "",
     "output_type": "error",
     "traceback": [
      "\u001b[1;31m---------------------------------------------------------------------------\u001b[0m",
      "\u001b[1;31mKeyboardInterrupt\u001b[0m                         Traceback (most recent call last)",
      "Cell \u001b[1;32mIn[3], line 26\u001b[0m\n\u001b[0;32m     23\u001b[0m search_url \u001b[38;5;241m=\u001b[39m \u001b[38;5;124mf\u001b[39m\u001b[38;5;124m\"\u001b[39m\u001b[38;5;124mhttps://scholar.google.com/scholar?q=\u001b[39m\u001b[38;5;132;01m{\u001b[39;00mquery\u001b[38;5;132;01m}\u001b[39;00m\u001b[38;5;124m&start=\u001b[39m\u001b[38;5;132;01m{\u001b[39;00mstart\u001b[38;5;132;01m}\u001b[39;00m\u001b[38;5;124m\"\u001b[39m\n\u001b[0;32m     25\u001b[0m driver\u001b[38;5;241m.\u001b[39mget(search_url)\n\u001b[1;32m---> 26\u001b[0m \u001b[43mtime\u001b[49m\u001b[38;5;241;43m.\u001b[39;49m\u001b[43msleep\u001b[49m\u001b[43m(\u001b[49m\u001b[38;5;241;43m5\u001b[39;49m\u001b[43m)\u001b[49m  \u001b[38;5;66;03m# Tambahkan delay untuk menghindari deteksi bot\u001b[39;00m\n\u001b[0;32m     28\u001b[0m \u001b[38;5;66;03m# Deteksi CAPTCHA\u001b[39;00m\n\u001b[0;32m     29\u001b[0m \u001b[38;5;28;01mif\u001b[39;00m \u001b[38;5;124m\"\u001b[39m\u001b[38;5;124mI\u001b[39m\u001b[38;5;124m'\u001b[39m\u001b[38;5;124mm not a robot\u001b[39m\u001b[38;5;124m\"\u001b[39m \u001b[38;5;129;01min\u001b[39;00m driver\u001b[38;5;241m.\u001b[39mpage_source \u001b[38;5;129;01mor\u001b[39;00m \u001b[38;5;124m\"\u001b[39m\u001b[38;5;124mTolong tunjukkan bahwa Anda bukan robot\u001b[39m\u001b[38;5;124m\"\u001b[39m \u001b[38;5;129;01min\u001b[39;00m driver\u001b[38;5;241m.\u001b[39mpage_source:\n",
      "\u001b[1;31mKeyboardInterrupt\u001b[0m: "
     ]
    }
   ],
   "source": [
    "from selenium import webdriver\n",
    "from selenium.webdriver.common.by import By\n",
    "from selenium.webdriver.edge.service import Service\n",
    "from selenium.webdriver.edge.options import Options\n",
    "from selenium.webdriver.support.ui import WebDriverWait\n",
    "from selenium.webdriver.support import expected_conditions as EC\n",
    "from webdriver_manager.microsoft import EdgeChromiumDriverManager\n",
    "import time\n",
    "import random\n",
    "\n",
    "service = Service(EdgeChromiumDriverManager().install())\n",
    "options = Options()\n",
    "options.add_argument(\"--start-maximized\")\n",
    "options.add_argument(\"user-agent=Mozilla/5.0 (Windows NT 10.0; Win64; x64) AppleWebKit/537.36 (KHTML, like Gecko) Chrome/91.0.4472.124 Safari/537.36\")\n",
    "\n",
    "driver = webdriver.Edge(service=service, options=options)\n",
    "\n",
    "query = \"2024\"\n",
    "max_pages = 1000\n",
    "titles_list = []\n",
    "\n",
    "for page in range(max_pages):\n",
    "    start = page * 10  # Google Scholar menampilkan 10 artikel per halaman\n",
    "    search_url = f\"https://scholar.google.com/scholar?q={query}&start={start}\"\n",
    "    \n",
    "    driver.get(search_url)\n",
    "\n",
    "    # Gunakan delay acak agar lebih manusiawi\n",
    "    time.sleep(random.uniform(2, 4))  # Rentang waktu 2-4 detik\n",
    "\n",
    "    # Deteksi CAPTCHA\n",
    "    if \"I'm not a robot\" in driver.page_source or \"Tolong tunjukkan bahwa Anda bukan robot\" in driver.page_source:\n",
    "        print(\"CAPTCHA terdeteksi! Silakan selesaikan secara manual.\")\n",
    "        while True:\n",
    "            time.sleep(1)  # Cek setiap 1 detik untuk mempercepat deteksi\n",
    "            if \"I'm not a robot\" not in driver.page_source and \"Tolong tunjukkan bahwa Anda bukan robot\" not in driver.page_source:\n",
    "                print(\"CAPTCHA selesai, lanjutkan scraping.\")\n",
    "                break\n",
    "\n",
    "    # Tunggu elemen artikel muncul\n",
    "    wait = WebDriverWait(driver, 10)\n",
    "    try:\n",
    "        wait.until(EC.presence_of_all_elements_located((By.CSS_SELECTOR, \"h3.gs_rt\")))\n",
    "    except:\n",
    "        print(f\"Elemen artikel tidak ditemukan di halaman {page + 1}, kemungkinan masih ada CAPTCHA.\")\n",
    "        continue  # Lewati halaman ini dan lanjutkan ke halaman berikutnya\n",
    "\n",
    "    # Ambil semua judul artikel\n",
    "    titles = driver.find_elements(By.CSS_SELECTOR, \"h3.gs_rt\")\n",
    "    if not titles:\n",
    "        print(f\"Tidak ada judul di halaman {page + 1}, mungkin Google memblokir akses.\")\n",
    "        break\n",
    "\n",
    "    for title in titles:\n",
    "        if title.text.strip():\n",
    "            titles_list.append(title.text.strip())\n",
    "\n",
    "    print(f\"Halaman {page + 1} selesai, total artikel terkumpul: {len(titles_list)}\")\n",
    "\n",
    "# Tutup browser setelah selesai\n",
    "driver.quit()\n"
   ]
  },
  {
   "cell_type": "code",
   "execution_count": 2,
   "metadata": {},
   "outputs": [
    {
     "name": "stdout",
     "output_type": "stream",
     "text": [
      "Data berhasil disimpan ke judul_scholar.csv\n"
     ]
    }
   ],
   "source": [
    "import pandas as pd\n",
    "\n",
    "# Simpan data ke dalam DataFrame\n",
    "df = pd.DataFrame({\"Judul\": titles_list})\n",
    "\n",
    "# Simpan ke file CSV\n",
    "df.to_csv(\"judul_scholar.csv\", index=False, encoding=\"utf-8\")\n",
    "\n",
    "print(\"Data berhasil disimpan ke judul_scholar.csv\")\n"
   ]
  },
  {
   "cell_type": "code",
   "execution_count": 3,
   "metadata": {},
   "outputs": [
    {
     "data": {
      "text/html": [
       "<div>\n",
       "<style scoped>\n",
       "    .dataframe tbody tr th:only-of-type {\n",
       "        vertical-align: middle;\n",
       "    }\n",
       "\n",
       "    .dataframe tbody tr th {\n",
       "        vertical-align: top;\n",
       "    }\n",
       "\n",
       "    .dataframe thead th {\n",
       "        text-align: right;\n",
       "    }\n",
       "</style>\n",
       "<table border=\"1\" class=\"dataframe\">\n",
       "  <thead>\n",
       "    <tr style=\"text-align: right;\">\n",
       "      <th></th>\n",
       "      <th>Judul</th>\n",
       "    </tr>\n",
       "  </thead>\n",
       "  <tbody>\n",
       "    <tr>\n",
       "      <th>0</th>\n",
       "      <td>GenBank 2024 update</td>\n",
       "    </tr>\n",
       "    <tr>\n",
       "      <th>1</th>\n",
       "      <td>[PDF] 2024</td>\n",
       "    </tr>\n",
       "    <tr>\n",
       "      <th>2</th>\n",
       "      <td>[PDF] The State of the World's Mangroves 2024</td>\n",
       "    </tr>\n",
       "    <tr>\n",
       "      <th>3</th>\n",
       "      <td>The voiceprivacy 2024 challenge evaluation plan</td>\n",
       "    </tr>\n",
       "    <tr>\n",
       "      <th>4</th>\n",
       "      <td>[PDF] 2024</td>\n",
       "    </tr>\n",
       "  </tbody>\n",
       "</table>\n",
       "</div>"
      ],
      "text/plain": [
       "                                             Judul\n",
       "0                              GenBank 2024 update\n",
       "1                                       [PDF] 2024\n",
       "2    [PDF] The State of the World's Mangroves 2024\n",
       "3  The voiceprivacy 2024 challenge evaluation plan\n",
       "4                                       [PDF] 2024"
      ]
     },
     "execution_count": 3,
     "metadata": {},
     "output_type": "execute_result"
    }
   ],
   "source": [
    "df.head()"
   ]
  }
 ],
 "metadata": {
  "kernelspec": {
   "display_name": "Python 3",
   "language": "python",
   "name": "python3"
  },
  "language_info": {
   "codemirror_mode": {
    "name": "ipython",
    "version": 3
   },
   "file_extension": ".py",
   "mimetype": "text/x-python",
   "name": "python",
   "nbconvert_exporter": "python",
   "pygments_lexer": "ipython3",
   "version": "3.12.5"
  }
 },
 "nbformat": 4,
 "nbformat_minor": 2
}
