{
  "cells": [
    {
      "cell_type": "code",
      "execution_count": null,
      "metadata": {},
      "outputs": [
        {
          "ename": "",
          "evalue": "",
          "output_type": "error",
          "traceback": [
            "\u001b[1;31mRunning cells with 'Python 3.11.9' requires the ipykernel package.\n",
            "\u001b[1;31mRun the following command to install 'ipykernel' into the Python environment. \n",
            "\u001b[1;31mCommand: '\"c:/Users/Anisa Wandalia/AppData/Local/Microsoft/WindowsApps/python3.11.exe\" -m pip install ipykernel -U --user --force-reinstall'"
          ]
        }
      ],
      "source": [
        "from selenium import webdriver\n",
        "from selenium.webdriver.common.by import By\n",
        "from selenium.webdriver.edge.service import Service\n",
        "from selenium.webdriver.edge.options import Options\n",
        "from selenium.webdriver.support.ui import WebDriverWait\n",
        "from selenium.webdriver.support import expected_conditions as EC\n",
        "from webdriver_manager.microsoft import EdgeChromiumDriverManager\n",
        "import time\n",
        "import random\n",
        "\n",
        "service = Service(EdgeChromiumDriverManager().install())\n",
        "options = Options()\n",
        "options.add_argument(\"--start-maximized\")\n",
        "options.add_argument(\"user-agent=Mozilla/5.0 (Windows NT 10.0; Win64; x64) AppleWebKit/537.36 (KHTML, like Gecko) Chrome/91.0.4472.124 Safari/537.36\")\n",
        "\n",
        "driver = webdriver.Edge(service=service, options=options)\n",
        "\n",
        "query = [\"2024\", \"2023\", \"2022\", \"2021\", \"2020\", \"2019\", \"2018\", \"2017\", \"2016\", \"2015\"]\n",
        "max_pages = 100\n",
        "titles_list = []\n",
        "\n",
        "for i in range(query):\n",
        "    for page in range(max_pages):\n",
        "        start = page * 10  # Google Scholar menampilkan 10 artikel per halaman\n",
        "        search_url = f\"https://scholar.google.com/scholar?q={query[i]}&start={start}\"\n",
        "        \n",
        "        driver.get(search_url)\n",
        "\n",
        "        # Gunakan delay acak agar lebih manusiawi\n",
        "        time.sleep(random.uniform(2, 4))  # Rentang waktu 2-4 detik\n",
        "\n",
        "        # Deteksi CAPTCHA\n",
        "        if \"I'm not a robot\" in driver.page_source or \"Tolong tunjukkan bahwa Anda bukan robot\" in driver.page_source:\n",
        "            print(\"CAPTCHA terdeteksi! Silakan selesaikan secara manual.\")\n",
        "            while True:\n",
        "                time.sleep(1)  # Cek setiap 1 detik untuk mempercepat deteksi\n",
        "                if \"I'm not a robot\" not in driver.page_source and \"Tolong tunjukkan bahwa Anda bukan robot\" not in driver.page_source:\n",
        "                    print(\"CAPTCHA selesai, lanjutkan scraping.\")\n",
        "                    break\n",
        "\n",
        "        # Tunggu elemen artikel muncul\n",
        "        wait = WebDriverWait(driver, 10)\n",
        "        try:\n",
        "            wait.until(EC.presence_of_all_elements_located((By.CSS_SELECTOR, \"h3.gs_rt\")))\n",
        "        except:\n",
        "            print(f\"Elemen artikel tidak ditemukan di halaman {page + 1}, kemungkinan masih ada CAPTCHA.\")\n",
        "            continue  # Lewati halaman ini dan lanjutkan ke halaman berikutnya\n",
        "\n",
        "        # Ambil semua judul artikel\n",
        "        titles = driver.find_elements(By.CSS_SELECTOR, \"h3.gs_rt\")\n",
        "        if not titles:\n",
        "            print(f\"Tidak ada judul di halaman {page + 1}, mungkin Google memblokir akses.\")\n",
        "            break\n",
        "\n",
        "        for title in titles:\n",
        "            if title.text.strip():\n",
        "                titles_list.append(title.text.strip())\n",
        "\n",
        "        print(f\"Halaman {page + 1} selesai, total artikel terkumpul: {len(titles_list)}\")\n",
        "\n",
        "# Tutup browser setelah selesai\n",
        "driver.quit()\n"
      ]
    },
    {
      "cell_type": "code",
      "execution_count": null,
      "metadata": {},
      "outputs": [],
      "source": [
        "import pandas as pd\n",
        "\n",
        "# Simpan data ke dalam DataFrame\n",
        "df = pd.DataFrame({\"Judul\": titles_list})\n",
        "\n",
        "# Simpan ke file CSV\n",
        "df.to_csv(\"judul_scholar.csv\", index=False, encoding=\"utf-8\")\n",
        "\n",
        "print(\"Data berhasil disimpan ke judul_scholar.csv\")\n"
      ]
    },
    {
      "cell_type": "code",
      "execution_count": null,
      "metadata": {},
      "outputs": [],
      "source": [
        "df.head()"
      ]
    }
  ],
  "metadata": {
    "kernelspec": {
      "display_name": "Python 3",
      "language": "python",
      "name": "python3"
    },
    "language_info": {
      "codemirror_mode": {
        "name": "ipython",
        "version": 3
      },
      "file_extension": ".py",
      "mimetype": "text/x-python",
      "name": "python",
      "nbconvert_exporter": "python",
      "pygments_lexer": "ipython3",
      "version": "3.11.9"
    }
  },
  "nbformat": 4,
  "nbformat_minor": 2
}
