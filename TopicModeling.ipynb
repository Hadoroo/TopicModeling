{
 "cells": [
  {
   "cell_type": "code",
   "execution_count": 14,
   "metadata": {},
   "outputs": [],
   "source": [
    "from bertopic import BERTopic\n",
    "import pandas as pd\n",
    "import deepl"
   ]
  },
  {
   "cell_type": "code",
   "execution_count": 6,
   "metadata": {},
   "outputs": [],
   "source": [
    "data = pd.read_csv(\"data_crawl2.csv\")"
   ]
  },
  {
   "cell_type": "code",
   "execution_count": 7,
   "metadata": {},
   "outputs": [
    {
     "data": {
      "text/html": [
       "<div>\n",
       "<style scoped>\n",
       "    .dataframe tbody tr th:only-of-type {\n",
       "        vertical-align: middle;\n",
       "    }\n",
       "\n",
       "    .dataframe tbody tr th {\n",
       "        vertical-align: top;\n",
       "    }\n",
       "\n",
       "    .dataframe thead th {\n",
       "        text-align: right;\n",
       "    }\n",
       "</style>\n",
       "<table border=\"1\" class=\"dataframe\">\n",
       "  <thead>\n",
       "    <tr style=\"text-align: right;\">\n",
       "      <th></th>\n",
       "      <th>title</th>\n",
       "      <th>link</th>\n",
       "      <th>abstract</th>\n",
       "    </tr>\n",
       "  </thead>\n",
       "  <tbody>\n",
       "    <tr>\n",
       "      <th>0</th>\n",
       "      <td>Faktor-faktor yang mempengaruhi literasi finan...</td>\n",
       "      <td>https://e-journal.unipma.ac.id/index.php/asset...</td>\n",
       "      <td>Tujuan penelitian ini untuk menjelaskan:(1) pe...</td>\n",
       "    </tr>\n",
       "    <tr>\n",
       "      <th>1</th>\n",
       "      <td>… (survei pada mahasiswa sarjana jurusan ilmu ...</td>\n",
       "      <td>http://repository.ub.ac.id/162980/</td>\n",
       "      <td>Penelitian ini bertujuan untuk : 1) Mengetahui...</td>\n",
       "    </tr>\n",
       "    <tr>\n",
       "      <th>2</th>\n",
       "      <td>Rancang Bangun Aplikasi Sistem Informasi Manaj...</td>\n",
       "      <td>http://j-ptiik.ub.ac.id/index.php/j-ptiik/arti...</td>\n",
       "      <td>Laboratorium Biomedik adalah salah satu labora...</td>\n",
       "    </tr>\n",
       "    <tr>\n",
       "      <th>3</th>\n",
       "      <td>[PDF][PDF] Optimasi pemanfaatan energi listrik...</td>\n",
       "      <td>https://daudraven1.wordpress.com/wp-content/up...</td>\n",
       "      <td>… Elektro Fakultas Teknik Universitas Brawijay...</td>\n",
       "    </tr>\n",
       "    <tr>\n",
       "      <th>4</th>\n",
       "      <td>… consumer review oleh beauty vlogger terhadap...</td>\n",
       "      <td>http://repository.ub.ac.id/10185/</td>\n",
       "      <td>Penelitian ini bertujuan untuk menganalisis da...</td>\n",
       "    </tr>\n",
       "  </tbody>\n",
       "</table>\n",
       "</div>"
      ],
      "text/plain": [
       "                                               title  \\\n",
       "0  Faktor-faktor yang mempengaruhi literasi finan...   \n",
       "1  … (survei pada mahasiswa sarjana jurusan ilmu ...   \n",
       "2  Rancang Bangun Aplikasi Sistem Informasi Manaj...   \n",
       "3  [PDF][PDF] Optimasi pemanfaatan energi listrik...   \n",
       "4  … consumer review oleh beauty vlogger terhadap...   \n",
       "\n",
       "                                                link  \\\n",
       "0  https://e-journal.unipma.ac.id/index.php/asset...   \n",
       "1                 http://repository.ub.ac.id/162980/   \n",
       "2  http://j-ptiik.ub.ac.id/index.php/j-ptiik/arti...   \n",
       "3  https://daudraven1.wordpress.com/wp-content/up...   \n",
       "4                  http://repository.ub.ac.id/10185/   \n",
       "\n",
       "                                            abstract  \n",
       "0  Tujuan penelitian ini untuk menjelaskan:(1) pe...  \n",
       "1  Penelitian ini bertujuan untuk : 1) Mengetahui...  \n",
       "2  Laboratorium Biomedik adalah salah satu labora...  \n",
       "3  … Elektro Fakultas Teknik Universitas Brawijay...  \n",
       "4  Penelitian ini bertujuan untuk menganalisis da...  "
      ]
     },
     "execution_count": 7,
     "metadata": {},
     "output_type": "execute_result"
    }
   ],
   "source": [
    "data.head()"
   ]
  },
  {
   "cell_type": "code",
   "execution_count": 8,
   "metadata": {},
   "outputs": [],
   "source": [
    "data2 = data['title']"
   ]
  },
  {
   "cell_type": "code",
   "execution_count": null,
   "metadata": {},
   "outputs": [],
   "source": [
    "auth_key = \"your_deepl_api_key\"  # Get your API key from DeepL\n",
    "translator = deepl.Translator(auth_key)\n",
    "\n",
    "# Translate a specific column\n",
    "df['text_translated'] = df['text'].apply(lambda x: translator.translate_text(x, target_lang=\"EN-US\").text if pd.notnull(x) else x)\n",
    "\n",
    "df.to_csv(\"translated_dataset.csv\", index=False)"
   ]
  },
  {
   "cell_type": "code",
   "execution_count": 2,
   "metadata": {},
   "outputs": [],
   "source": [
    "model = BERTopic()"
   ]
  },
  {
   "cell_type": "code",
   "execution_count": 9,
   "metadata": {},
   "outputs": [
    {
     "data": {
      "application/vnd.jupyter.widget-view+json": {
       "model_id": "e55312f283fd4c22b647c41f3c329bc0",
       "version_major": 2,
       "version_minor": 0
      },
      "text/plain": [
       "modules.json:   0%|          | 0.00/349 [00:00<?, ?B/s]"
      ]
     },
     "metadata": {},
     "output_type": "display_data"
    },
    {
     "data": {
      "application/vnd.jupyter.widget-view+json": {
       "model_id": "5f81ee52fd3d4b139126a2cddb4d5bf6",
       "version_major": 2,
       "version_minor": 0
      },
      "text/plain": [
       "config_sentence_transformers.json:   0%|          | 0.00/116 [00:00<?, ?B/s]"
      ]
     },
     "metadata": {},
     "output_type": "display_data"
    },
    {
     "data": {
      "application/vnd.jupyter.widget-view+json": {
       "model_id": "fdd6668b64da487e89c01d7f6e02483b",
       "version_major": 2,
       "version_minor": 0
      },
      "text/plain": [
       "README.md:   0%|          | 0.00/10.7k [00:00<?, ?B/s]"
      ]
     },
     "metadata": {},
     "output_type": "display_data"
    },
    {
     "data": {
      "application/vnd.jupyter.widget-view+json": {
       "model_id": "00990626600e40139ad442cf3c879618",
       "version_major": 2,
       "version_minor": 0
      },
      "text/plain": [
       "sentence_bert_config.json:   0%|          | 0.00/53.0 [00:00<?, ?B/s]"
      ]
     },
     "metadata": {},
     "output_type": "display_data"
    },
    {
     "data": {
      "application/vnd.jupyter.widget-view+json": {
       "model_id": "d5486e5b30634b85964b592c2570a4d4",
       "version_major": 2,
       "version_minor": 0
      },
      "text/plain": [
       "config.json:   0%|          | 0.00/612 [00:00<?, ?B/s]"
      ]
     },
     "metadata": {},
     "output_type": "display_data"
    },
    {
     "data": {
      "application/vnd.jupyter.widget-view+json": {
       "model_id": "196a9a7a7afd4903ad1c2b7d79fcaa34",
       "version_major": 2,
       "version_minor": 0
      },
      "text/plain": [
       "model.safetensors:   0%|          | 0.00/90.9M [00:00<?, ?B/s]"
      ]
     },
     "metadata": {},
     "output_type": "display_data"
    },
    {
     "data": {
      "application/vnd.jupyter.widget-view+json": {
       "model_id": "9fd0b81c970749ef962b71244bb43aec",
       "version_major": 2,
       "version_minor": 0
      },
      "text/plain": [
       "tokenizer_config.json:   0%|          | 0.00/350 [00:00<?, ?B/s]"
      ]
     },
     "metadata": {},
     "output_type": "display_data"
    },
    {
     "data": {
      "application/vnd.jupyter.widget-view+json": {
       "model_id": "fb998c7cf78b40539a739bf1b9d45930",
       "version_major": 2,
       "version_minor": 0
      },
      "text/plain": [
       "vocab.txt:   0%|          | 0.00/232k [00:00<?, ?B/s]"
      ]
     },
     "metadata": {},
     "output_type": "display_data"
    },
    {
     "data": {
      "application/vnd.jupyter.widget-view+json": {
       "model_id": "421f8c5e1eba4c98804e97e2cdbbeab3",
       "version_major": 2,
       "version_minor": 0
      },
      "text/plain": [
       "tokenizer.json:   0%|          | 0.00/466k [00:00<?, ?B/s]"
      ]
     },
     "metadata": {},
     "output_type": "display_data"
    },
    {
     "data": {
      "application/vnd.jupyter.widget-view+json": {
       "model_id": "98faa0122d2e44af9d962d98ad8b3ede",
       "version_major": 2,
       "version_minor": 0
      },
      "text/plain": [
       "special_tokens_map.json:   0%|          | 0.00/112 [00:00<?, ?B/s]"
      ]
     },
     "metadata": {},
     "output_type": "display_data"
    },
    {
     "data": {
      "application/vnd.jupyter.widget-view+json": {
       "model_id": "0ad412e1b0de43dfbbc0e61c047c0e47",
       "version_major": 2,
       "version_minor": 0
      },
      "text/plain": [
       "1_Pooling%2Fconfig.json:   0%|          | 0.00/190 [00:00<?, ?B/s]"
      ]
     },
     "metadata": {},
     "output_type": "display_data"
    }
   ],
   "source": [
    "topics,prob = model.fit_transform(data2)"
   ]
  },
  {
   "cell_type": "code",
   "execution_count": 12,
   "metadata": {},
   "outputs": [
    {
     "data": {
      "text/html": [
       "<div>\n",
       "<style scoped>\n",
       "    .dataframe tbody tr th:only-of-type {\n",
       "        vertical-align: middle;\n",
       "    }\n",
       "\n",
       "    .dataframe tbody tr th {\n",
       "        vertical-align: top;\n",
       "    }\n",
       "\n",
       "    .dataframe thead th {\n",
       "        text-align: right;\n",
       "    }\n",
       "</style>\n",
       "<table border=\"1\" class=\"dataframe\">\n",
       "  <thead>\n",
       "    <tr style=\"text-align: right;\">\n",
       "      <th></th>\n",
       "      <th>Topic</th>\n",
       "      <th>Count</th>\n",
       "      <th>Name</th>\n",
       "      <th>Representation</th>\n",
       "      <th>Representative_Docs</th>\n",
       "    </tr>\n",
       "  </thead>\n",
       "  <tbody>\n",
       "    <tr>\n",
       "      <th>0</th>\n",
       "      <td>-1</td>\n",
       "      <td>14</td>\n",
       "      <td>-1_faktorfaktor_yang_mempengaruhi_pada</td>\n",
       "      <td>[faktorfaktor, yang, mempengaruhi, pada, brawi...</td>\n",
       "      <td>[Analisis Faktor-Faktor Yang Mempengaruhi Peng...</td>\n",
       "    </tr>\n",
       "    <tr>\n",
       "      <th>1</th>\n",
       "      <td>0</td>\n",
       "      <td>197</td>\n",
       "      <td>0_universitas_brawijaya_mahasiswa_pada</td>\n",
       "      <td>[universitas, brawijaya, mahasiswa, pada, faku...</td>\n",
       "      <td>[… Merek terhadap Word of Mouth dan Keputusan ...</td>\n",
       "    </tr>\n",
       "    <tr>\n",
       "      <th>2</th>\n",
       "      <td>1</td>\n",
       "      <td>139</td>\n",
       "      <td>1_dan_terhadap_pengaruh_pada</td>\n",
       "      <td>[dan, terhadap, pengaruh, pada, di, studi, per...</td>\n",
       "      <td>[Pengaruh Struktur Aktiva, Ukuran Perusahaan, ...</td>\n",
       "    </tr>\n",
       "    <tr>\n",
       "      <th>3</th>\n",
       "      <td>2</td>\n",
       "      <td>44</td>\n",
       "      <td>2_pada_terhadap_survei_brand</td>\n",
       "      <td>[pada, terhadap, survei, brand, pengaruh, pemb...</td>\n",
       "      <td>[… Dan Sales Promotion Terhadap Brand Equity D...</td>\n",
       "    </tr>\n",
       "    <tr>\n",
       "      <th>4</th>\n",
       "      <td>3</td>\n",
       "      <td>16</td>\n",
       "      <td>3_bank_syariah_keuangan_umum</td>\n",
       "      <td>[bank, syariah, keuangan, umum, banking, pada,...</td>\n",
       "      <td>[Pengaruh Rasio Keuangan Terhadap Kinerja Keua...</td>\n",
       "    </tr>\n",
       "  </tbody>\n",
       "</table>\n",
       "</div>"
      ],
      "text/plain": [
       "   Topic  Count                                    Name  \\\n",
       "0     -1     14  -1_faktorfaktor_yang_mempengaruhi_pada   \n",
       "1      0    197  0_universitas_brawijaya_mahasiswa_pada   \n",
       "2      1    139            1_dan_terhadap_pengaruh_pada   \n",
       "3      2     44            2_pada_terhadap_survei_brand   \n",
       "4      3     16            3_bank_syariah_keuangan_umum   \n",
       "\n",
       "                                      Representation  \\\n",
       "0  [faktorfaktor, yang, mempengaruhi, pada, brawi...   \n",
       "1  [universitas, brawijaya, mahasiswa, pada, faku...   \n",
       "2  [dan, terhadap, pengaruh, pada, di, studi, per...   \n",
       "3  [pada, terhadap, survei, brand, pengaruh, pemb...   \n",
       "4  [bank, syariah, keuangan, umum, banking, pada,...   \n",
       "\n",
       "                                 Representative_Docs  \n",
       "0  [Analisis Faktor-Faktor Yang Mempengaruhi Peng...  \n",
       "1  [… Merek terhadap Word of Mouth dan Keputusan ...  \n",
       "2  [Pengaruh Struktur Aktiva, Ukuran Perusahaan, ...  \n",
       "3  [… Dan Sales Promotion Terhadap Brand Equity D...  \n",
       "4  [Pengaruh Rasio Keuangan Terhadap Kinerja Keua...  "
      ]
     },
     "execution_count": 12,
     "metadata": {},
     "output_type": "execute_result"
    }
   ],
   "source": [
    "model.get_topic_info()"
   ]
  },
  {
   "cell_type": "code",
   "execution_count": 13,
   "metadata": {},
   "outputs": [
    {
     "data": {
      "text/html": [
       "<div>\n",
       "<style scoped>\n",
       "    .dataframe tbody tr th:only-of-type {\n",
       "        vertical-align: middle;\n",
       "    }\n",
       "\n",
       "    .dataframe tbody tr th {\n",
       "        vertical-align: top;\n",
       "    }\n",
       "\n",
       "    .dataframe thead th {\n",
       "        text-align: right;\n",
       "    }\n",
       "</style>\n",
       "<table border=\"1\" class=\"dataframe\">\n",
       "  <thead>\n",
       "    <tr style=\"text-align: right;\">\n",
       "      <th></th>\n",
       "      <th>Topic</th>\n",
       "      <th>Count</th>\n",
       "    </tr>\n",
       "  </thead>\n",
       "  <tbody>\n",
       "    <tr>\n",
       "      <th>1</th>\n",
       "      <td>0</td>\n",
       "      <td>197</td>\n",
       "    </tr>\n",
       "    <tr>\n",
       "      <th>3</th>\n",
       "      <td>1</td>\n",
       "      <td>139</td>\n",
       "    </tr>\n",
       "    <tr>\n",
       "      <th>2</th>\n",
       "      <td>2</td>\n",
       "      <td>44</td>\n",
       "    </tr>\n",
       "    <tr>\n",
       "      <th>4</th>\n",
       "      <td>3</td>\n",
       "      <td>16</td>\n",
       "    </tr>\n",
       "    <tr>\n",
       "      <th>0</th>\n",
       "      <td>-1</td>\n",
       "      <td>14</td>\n",
       "    </tr>\n",
       "  </tbody>\n",
       "</table>\n",
       "</div>"
      ],
      "text/plain": [
       "   Topic  Count\n",
       "1      0    197\n",
       "3      1    139\n",
       "2      2     44\n",
       "4      3     16\n",
       "0     -1     14"
      ]
     },
     "execution_count": 13,
     "metadata": {},
     "output_type": "execute_result"
    }
   ],
   "source": [
    "model.get_topic_freq()"
   ]
  },
  {
   "cell_type": "code",
   "execution_count": null,
   "metadata": {},
   "outputs": [],
   "source": []
  }
 ],
 "metadata": {
  "kernelspec": {
   "display_name": "Python 3",
   "language": "python",
   "name": "python3"
  },
  "language_info": {
   "codemirror_mode": {
    "name": "ipython",
    "version": 3
   },
   "file_extension": ".py",
   "mimetype": "text/x-python",
   "name": "python",
   "nbconvert_exporter": "python",
   "pygments_lexer": "ipython3",
   "version": "3.12.5"
  }
 },
 "nbformat": 4,
 "nbformat_minor": 2
}
