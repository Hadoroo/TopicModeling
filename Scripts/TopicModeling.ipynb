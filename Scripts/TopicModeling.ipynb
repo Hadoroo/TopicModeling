{
 "cells": [
  {
   "cell_type": "code",
   "execution_count": 10,
   "metadata": {},
   "outputs": [],
   "source": [
    "from bertopic import BERTopic\n",
    "import pandas as pd\n",
    "from sentence_transformers import SentenceTransformer"
   ]
  },
  {
   "cell_type": "code",
   "execution_count": 11,
   "metadata": {},
   "outputs": [],
   "source": [
    "data = pd.read_csv(\"judul_scholar_clean.csv\")"
   ]
  },
  {
   "cell_type": "code",
   "execution_count": 12,
   "metadata": {},
   "outputs": [
    {
     "data": {
      "text/html": [
       "<div>\n",
       "<style scoped>\n",
       "    .dataframe tbody tr th:only-of-type {\n",
       "        vertical-align: middle;\n",
       "    }\n",
       "\n",
       "    .dataframe tbody tr th {\n",
       "        vertical-align: top;\n",
       "    }\n",
       "\n",
       "    .dataframe thead th {\n",
       "        text-align: right;\n",
       "    }\n",
       "</style>\n",
       "<table border=\"1\" class=\"dataframe\">\n",
       "  <thead>\n",
       "    <tr style=\"text-align: right;\">\n",
       "      <th></th>\n",
       "      <th>title</th>\n",
       "    </tr>\n",
       "  </thead>\n",
       "  <tbody>\n",
       "    <tr>\n",
       "      <th>0</th>\n",
       "      <td>genbank update</td>\n",
       "    </tr>\n",
       "    <tr>\n",
       "      <th>1</th>\n",
       "      <td>state world mangrove</td>\n",
       "    </tr>\n",
       "    <tr>\n",
       "      <th>2</th>\n",
       "      <td>voiceprivacy challenge evaluation plan</td>\n",
       "    </tr>\n",
       "    <tr>\n",
       "      <th>3</th>\n",
       "      <td>wikipathways next generation pathway database</td>\n",
       "    </tr>\n",
       "    <tr>\n",
       "      <th>4</th>\n",
       "      <td>ieee international conference robotics automat...</td>\n",
       "    </tr>\n",
       "  </tbody>\n",
       "</table>\n",
       "</div>"
      ],
      "text/plain": [
       "                                               title\n",
       "0                                     genbank update\n",
       "1                               state world mangrove\n",
       "2             voiceprivacy challenge evaluation plan\n",
       "3      wikipathways next generation pathway database\n",
       "4  ieee international conference robotics automat..."
      ]
     },
     "execution_count": 12,
     "metadata": {},
     "output_type": "execute_result"
    }
   ],
   "source": [
    "data.head()"
   ]
  },
  {
   "cell_type": "code",
   "execution_count": 13,
   "metadata": {},
   "outputs": [],
   "source": [
    "embedding_model = SentenceTransformer(\"paraphrase-multilingual-MiniLM-L12-v2\")\n",
    "\n",
    "model = BERTopic(embedding_model=embedding_model)"
   ]
  },
  {
   "cell_type": "code",
   "execution_count": 14,
   "metadata": {},
   "outputs": [],
   "source": [
    "topics,prob = model.fit_transform(data['title'])"
   ]
  },
  {
   "cell_type": "code",
   "execution_count": 15,
   "metadata": {},
   "outputs": [
    {
     "data": {
      "text/html": [
       "<div>\n",
       "<style scoped>\n",
       "    .dataframe tbody tr th:only-of-type {\n",
       "        vertical-align: middle;\n",
       "    }\n",
       "\n",
       "    .dataframe tbody tr th {\n",
       "        vertical-align: top;\n",
       "    }\n",
       "\n",
       "    .dataframe thead th {\n",
       "        text-align: right;\n",
       "    }\n",
       "</style>\n",
       "<table border=\"1\" class=\"dataframe\">\n",
       "  <thead>\n",
       "    <tr style=\"text-align: right;\">\n",
       "      <th></th>\n",
       "      <th>Topic</th>\n",
       "      <th>Count</th>\n",
       "      <th>Name</th>\n",
       "      <th>Representation</th>\n",
       "      <th>Representative_Docs</th>\n",
       "    </tr>\n",
       "  </thead>\n",
       "  <tbody>\n",
       "    <tr>\n",
       "      <th>0</th>\n",
       "      <td>-1</td>\n",
       "      <td>737</td>\n",
       "      <td>-1_application_education_analysis_learning</td>\n",
       "      <td>[application, education, analysis, learning, m...</td>\n",
       "      <td>[foundation large language model fundamental c...</td>\n",
       "    </tr>\n",
       "    <tr>\n",
       "      <th>1</th>\n",
       "      <td>0</td>\n",
       "      <td>205</td>\n",
       "      <td>0_network_image_learning_neural</td>\n",
       "      <td>[network, image, learning, neural, deep, machi...</td>\n",
       "      <td>[computational technique based machine learnin...</td>\n",
       "    </tr>\n",
       "    <tr>\n",
       "      <th>2</th>\n",
       "      <td>1</td>\n",
       "      <td>175</td>\n",
       "      <td>1_alloy_aluminum_corrosion_aluminium</td>\n",
       "      <td>[alloy, aluminum, corrosion, aluminium, fricti...</td>\n",
       "      <td>[corrosion resistance property ormosil coating...</td>\n",
       "    </tr>\n",
       "    <tr>\n",
       "      <th>3</th>\n",
       "      <td>2</td>\n",
       "      <td>100</td>\n",
       "      <td>2_political_history_crisis_politics</td>\n",
       "      <td>[political, history, crisis, politics, set, es...</td>\n",
       "      <td>[capital critique political economy volume 1, ...</td>\n",
       "    </tr>\n",
       "    <tr>\n",
       "      <th>4</th>\n",
       "      <td>3</td>\n",
       "      <td>76</td>\n",
       "      <td>3_heart_cardiovascular_guideline_management</td>\n",
       "      <td>[heart, cardiovascular, guideline, management,...</td>\n",
       "      <td>[esc guideline cardiovascular assessment manag...</td>\n",
       "    </tr>\n",
       "    <tr>\n",
       "      <th>5</th>\n",
       "      <td>4</td>\n",
       "      <td>69</td>\n",
       "      <td>4_psychology_psychological_emotion_emotional</td>\n",
       "      <td>[psychology, psychological, emotion, emotional...</td>\n",
       "      <td>[cognitive psychology cognitive process memory...</td>\n",
       "    </tr>\n",
       "    <tr>\n",
       "      <th>6</th>\n",
       "      <td>5</td>\n",
       "      <td>69</td>\n",
       "      <td>5_climate_change_energy_report</td>\n",
       "      <td>[climate, change, energy, report, carbon, rene...</td>\n",
       "      <td>[climate change mitigation climate change, ipc...</td>\n",
       "    </tr>\n",
       "    <tr>\n",
       "      <th>7</th>\n",
       "      <td>6</td>\n",
       "      <td>54</td>\n",
       "      <td>6_monkeypox_virus_outbreak_may</td>\n",
       "      <td>[monkeypox, virus, outbreak, may, transmission...</td>\n",
       "      <td>[outbreak pathobiology monkeypox virus, outbre...</td>\n",
       "    </tr>\n",
       "    <tr>\n",
       "      <th>8</th>\n",
       "      <td>7</td>\n",
       "      <td>53</td>\n",
       "      <td>7_diabetes_standard_care_kidney</td>\n",
       "      <td>[diabetes, standard, care, kidney, obesity, ty...</td>\n",
       "      <td>[obesity weight management prevention treatmen...</td>\n",
       "    </tr>\n",
       "    <tr>\n",
       "      <th>9</th>\n",
       "      <td>8</td>\n",
       "      <td>52</td>\n",
       "      <td>8_information_system_web_service</td>\n",
       "      <td>[information, system, web, service, lampung, c...</td>\n",
       "      <td>[information system pringsewu regency regional...</td>\n",
       "    </tr>\n",
       "    <tr>\n",
       "      <th>10</th>\n",
       "      <td>9</td>\n",
       "      <td>49</td>\n",
       "      <td>9_cancer_cell_therapy_immunotherapy</td>\n",
       "      <td>[cancer, cell, therapy, immunotherapy, death, ...</td>\n",
       "      <td>[cell death, molecular mechanism future implic...</td>\n",
       "    </tr>\n",
       "    <tr>\n",
       "      <th>11</th>\n",
       "      <td>10</td>\n",
       "      <td>47</td>\n",
       "      <td>10_curriculum_school_teacher_skill</td>\n",
       "      <td>[curriculum, school, teacher, skill, education...</td>\n",
       "      <td>[independent curriculum curriculum truth educa...</td>\n",
       "    </tr>\n",
       "    <tr>\n",
       "      <th>12</th>\n",
       "      <td>11</td>\n",
       "      <td>46</td>\n",
       "      <td>11_genome_database_gene_ontology</td>\n",
       "      <td>[genome, database, gene, ontology, knowledgeba...</td>\n",
       "      <td>[ucsc genome browser database update, ucsc gen...</td>\n",
       "    </tr>\n",
       "    <tr>\n",
       "      <th>13</th>\n",
       "      <td>12</td>\n",
       "      <td>45</td>\n",
       "      <td>12_innovative_enterprise_business_employee</td>\n",
       "      <td>[innovative, enterprise, business, employee, i...</td>\n",
       "      <td>[hierarchical structure innovative strategy in...</td>\n",
       "    </tr>\n",
       "    <tr>\n",
       "      <th>14</th>\n",
       "      <td>13</td>\n",
       "      <td>43</td>\n",
       "      <td>13_health_care_standard_evaluation</td>\n",
       "      <td>[health, care, standard, evaluation, reporting...</td>\n",
       "      <td>[facilitating behavior change improve health o...</td>\n",
       "    </tr>\n",
       "    <tr>\n",
       "      <th>15</th>\n",
       "      <td>14</td>\n",
       "      <td>41</td>\n",
       "      <td>14_language_large_model_speech</td>\n",
       "      <td>[language, large, model, speech, rtl, scaling,...</td>\n",
       "      <td>[driving suppressing human language network us...</td>\n",
       "    </tr>\n",
       "    <tr>\n",
       "      <th>16</th>\n",
       "      <td>15</td>\n",
       "      <td>39</td>\n",
       "      <td>15_chatgpt_chatbots_writing_medical</td>\n",
       "      <td>[chatgpt, chatbots, writing, medical, artifici...</td>\n",
       "      <td>[chatgpt artificial intelligence application s...</td>\n",
       "    </tr>\n",
       "    <tr>\n",
       "      <th>17</th>\n",
       "      <td>16</td>\n",
       "      <td>38</td>\n",
       "      <td>16_catalyst_oxygen_reaction_production</td>\n",
       "      <td>[catalyst, oxygen, reaction, production, catal...</td>\n",
       "      <td>[doping shortens distance promotes oh coverage...</td>\n",
       "    </tr>\n",
       "    <tr>\n",
       "      <th>18</th>\n",
       "      <td>17</td>\n",
       "      <td>38</td>\n",
       "      <td>17_black_hole_gravity_galaxy</td>\n",
       "      <td>[black, hole, gravity, galaxy, jwst, cosmologi...</td>\n",
       "      <td>[scattering black hole background amplitude pa...</td>\n",
       "    </tr>\n",
       "    <tr>\n",
       "      <th>19</th>\n",
       "      <td>18</td>\n",
       "      <td>31</td>\n",
       "      <td>18_consumer_marketing_decision_customer</td>\n",
       "      <td>[consumer, marketing, decision, customer, theo...</td>\n",
       "      <td>[purchasing decision model consumer satisfacti...</td>\n",
       "    </tr>\n",
       "    <tr>\n",
       "      <th>20</th>\n",
       "      <td>19</td>\n",
       "      <td>28</td>\n",
       "      <td>19_hydrogel_recent_chemical_molecular</td>\n",
       "      <td>[hydrogel, recent, chemical, molecular, biomat...</td>\n",
       "      <td>[covalent organic framework recent progress bi...</td>\n",
       "    </tr>\n",
       "    <tr>\n",
       "      <th>21</th>\n",
       "      <td>20</td>\n",
       "      <td>28</td>\n",
       "      <td>20_resistance_antimicrobial_bacterial_infection</td>\n",
       "      <td>[resistance, antimicrobial, bacterial, infecti...</td>\n",
       "      <td>[burden bacterial antimicrobial resistance afr...</td>\n",
       "    </tr>\n",
       "    <tr>\n",
       "      <th>22</th>\n",
       "      <td>21</td>\n",
       "      <td>26</td>\n",
       "      <td>21_intelligence_artificial_education_medicine</td>\n",
       "      <td>[intelligence, artificial, education, medicine...</td>\n",
       "      <td>[new era artificial intelligence medicine, art...</td>\n",
       "    </tr>\n",
       "    <tr>\n",
       "      <th>23</th>\n",
       "      <td>22</td>\n",
       "      <td>25</td>\n",
       "      <td>22_sport_fitness_exercise_training</td>\n",
       "      <td>[sport, fitness, exercise, training, extracurr...</td>\n",
       "      <td>[recovery body running athlete sport training,...</td>\n",
       "    </tr>\n",
       "    <tr>\n",
       "      <th>24</th>\n",
       "      <td>23</td>\n",
       "      <td>24</td>\n",
       "      <td>23_electronic_transistor_nanoclusters_bimetallic</td>\n",
       "      <td>[electronic, transistor, nanoclusters, bimetal...</td>\n",
       "      <td>[interfacial polarization loss improvement ind...</td>\n",
       "    </tr>\n",
       "    <tr>\n",
       "      <th>25</th>\n",
       "      <td>24</td>\n",
       "      <td>23</td>\n",
       "      <td>24_battery_lithium_electrolyte_metal</td>\n",
       "      <td>[battery, lithium, electrolyte, metal, recharg...</td>\n",
       "      <td>[beyond lif tailoring solid electrolyte interp...</td>\n",
       "    </tr>\n",
       "    <tr>\n",
       "      <th>26</th>\n",
       "      <td>25</td>\n",
       "      <td>22</td>\n",
       "      <td>25_pharmacology_therapeutic_discovery_target</td>\n",
       "      <td>[pharmacology, therapeutic, discovery, target,...</td>\n",
       "      <td>[rise compound advancement synthesis medicinal...</td>\n",
       "    </tr>\n",
       "    <tr>\n",
       "      <th>27</th>\n",
       "      <td>26</td>\n",
       "      <td>21</td>\n",
       "      <td>26_mathematics_learning_student_outcome</td>\n",
       "      <td>[mathematics, learning, student, outcome, inde...</td>\n",
       "      <td>[analysis student mathematics learning indepen...</td>\n",
       "    </tr>\n",
       "    <tr>\n",
       "      <th>28</th>\n",
       "      <td>27</td>\n",
       "      <td>21</td>\n",
       "      <td>27_cancer_statistic_incidence_breast</td>\n",
       "      <td>[cancer, statistic, incidence, breast, lung, s...</td>\n",
       "      <td>[cancer statistic, cancer statistic, cancer st...</td>\n",
       "    </tr>\n",
       "    <tr>\n",
       "      <th>29</th>\n",
       "      <td>28</td>\n",
       "      <td>20</td>\n",
       "      <td>28_microbiome_microbiota_gut_microbial</td>\n",
       "      <td>[microbiome, microbiota, gut, microbial, soil,...</td>\n",
       "      <td>[gut microbiota colorectal cancer development ...</td>\n",
       "    </tr>\n",
       "    <tr>\n",
       "      <th>30</th>\n",
       "      <td>29</td>\n",
       "      <td>20</td>\n",
       "      <td>29_alzheimer_neurodegenerative_disease_drug</td>\n",
       "      <td>[alzheimer, neurodegenerative, disease, drug, ...</td>\n",
       "      <td>[clinical trial new drug alzheimer disease upd...</td>\n",
       "    </tr>\n",
       "    <tr>\n",
       "      <th>31</th>\n",
       "      <td>30</td>\n",
       "      <td>20</td>\n",
       "      <td>30_orphilus_insect_evolution_ecosystem</td>\n",
       "      <td>[orphilus, insect, evolution, ecosystem, econo...</td>\n",
       "      <td>[ecotourism development strategy supporting na...</td>\n",
       "    </tr>\n",
       "    <tr>\n",
       "      <th>32</th>\n",
       "      <td>31</td>\n",
       "      <td>20</td>\n",
       "      <td>31_higgs_symmetry_boson_13</td>\n",
       "      <td>[higgs, symmetry, boson, 13, decay, tev, colli...</td>\n",
       "      <td>[measurement property higgs boson production 1...</td>\n",
       "    </tr>\n",
       "    <tr>\n",
       "      <th>33</th>\n",
       "      <td>32</td>\n",
       "      <td>19</td>\n",
       "      <td>32_quantum_physic_particle_modulation</td>\n",
       "      <td>[quantum, physic, particle, modulation, experi...</td>\n",
       "      <td>[review nmos instead exhibiting thermionic emi...</td>\n",
       "    </tr>\n",
       "    <tr>\n",
       "      <th>34</th>\n",
       "      <td>33</td>\n",
       "      <td>19</td>\n",
       "      <td>33_ba_antibody_omicron_bivalent</td>\n",
       "      <td>[ba, antibody, omicron, bivalent, xbb, vaccine...</td>\n",
       "      <td>[neutralization ba 5 ba ba 2 bq xbb 1 bivalent...</td>\n",
       "    </tr>\n",
       "    <tr>\n",
       "      <th>35</th>\n",
       "      <td>34</td>\n",
       "      <td>18</td>\n",
       "      <td>34_photocatalytic_co2_photocatalyst_covalent</td>\n",
       "      <td>[photocatalytic, co2, photocatalyst, covalent,...</td>\n",
       "      <td>[insight reaction pathway photocatalytic co2 c...</td>\n",
       "    </tr>\n",
       "    <tr>\n",
       "      <th>36</th>\n",
       "      <td>35</td>\n",
       "      <td>18</td>\n",
       "      <td>35_urology_urinary_prostate_renal</td>\n",
       "      <td>[urology, urinary, prostate, renal, guideline,...</td>\n",
       "      <td>[european association urology guideline metast...</td>\n",
       "    </tr>\n",
       "    <tr>\n",
       "      <th>37</th>\n",
       "      <td>36</td>\n",
       "      <td>18</td>\n",
       "      <td>36_advisory_immunization_committee_vaccine</td>\n",
       "      <td>[advisory, immunization, committee, vaccine, r...</td>\n",
       "      <td>[syncytial virus disease among infant young ch...</td>\n",
       "    </tr>\n",
       "    <tr>\n",
       "      <th>38</th>\n",
       "      <td>37</td>\n",
       "      <td>17</td>\n",
       "      <td>37_variant_omicron_delta_december</td>\n",
       "      <td>[variant, omicron, delta, december, ba, januar...</td>\n",
       "      <td>[hospitalization among adult period delta omic...</td>\n",
       "    </tr>\n",
       "    <tr>\n",
       "      <th>39</th>\n",
       "      <td>38</td>\n",
       "      <td>17</td>\n",
       "      <td>38_child_adolescent_older_adult</td>\n",
       "      <td>[child, adolescent, older, adult, hospitalizat...</td>\n",
       "      <td>[child adolescent standard medical care, child...</td>\n",
       "    </tr>\n",
       "    <tr>\n",
       "      <th>40</th>\n",
       "      <td>39</td>\n",
       "      <td>16</td>\n",
       "      <td>39_signaling_mitochondrial_mitochondrion_thera...</td>\n",
       "      <td>[signaling, mitochondrial, mitochondrion, ther...</td>\n",
       "      <td>[molecular mechanism mitochondrial dna release...</td>\n",
       "    </tr>\n",
       "    <tr>\n",
       "      <th>41</th>\n",
       "      <td>40</td>\n",
       "      <td>16</td>\n",
       "      <td>40_food_nutrition_security_fish</td>\n",
       "      <td>[food, nutrition, security, fish, world, norwe...</td>\n",
       "      <td>[state food security nutrition world repurposi...</td>\n",
       "    </tr>\n",
       "    <tr>\n",
       "      <th>42</th>\n",
       "      <td>41</td>\n",
       "      <td>16</td>\n",
       "      <td>41_audio_clip_noise_supervision</td>\n",
       "      <td>[audio, clip, noise, supervision, deep, repres...</td>\n",
       "      <td>[wav2clip learning robust audio representation...</td>\n",
       "    </tr>\n",
       "    <tr>\n",
       "      <th>43</th>\n",
       "      <td>42</td>\n",
       "      <td>16</td>\n",
       "      <td>42_teaching_russian_language_english</td>\n",
       "      <td>[teaching, russian, language, english, foreign...</td>\n",
       "      <td>[method technique teaching russian language fi...</td>\n",
       "    </tr>\n",
       "    <tr>\n",
       "      <th>44</th>\n",
       "      <td>43</td>\n",
       "      <td>16</td>\n",
       "      <td>43_diagnosis_classification_polyangiitis_alliance</td>\n",
       "      <td>[diagnosis, classification, polyangiitis, alli...</td>\n",
       "      <td>[american college alliance association rheumat...</td>\n",
       "    </tr>\n",
       "    <tr>\n",
       "      <th>45</th>\n",
       "      <td>44</td>\n",
       "      <td>15</td>\n",
       "      <td>44_cook_centrobolus_related_mating</td>\n",
       "      <td>[cook, centrobolus, related, mating, frequency...</td>\n",
       "      <td>[absolute abundance related tarsal pad length ...</td>\n",
       "    </tr>\n",
       "    <tr>\n",
       "      <th>46</th>\n",
       "      <td>45</td>\n",
       "      <td>14</td>\n",
       "      <td>45_chatgpt_gpt_education_chat</td>\n",
       "      <td>[chatgpt, gpt, education, chat, higher, academ...</td>\n",
       "      <td>[role chatgpt higher education benefit challen...</td>\n",
       "    </tr>\n",
       "    <tr>\n",
       "      <th>47</th>\n",
       "      <td>46</td>\n",
       "      <td>14</td>\n",
       "      <td>46_protein_molecule_kinase_small</td>\n",
       "      <td>[protein, molecule, kinase, small, extracellul...</td>\n",
       "      <td>[property small molecule protein kinase inhibi...</td>\n",
       "    </tr>\n",
       "    <tr>\n",
       "      <th>48</th>\n",
       "      <td>47</td>\n",
       "      <td>14</td>\n",
       "      <td>47_saving_liquidity_escaped_velocity</td>\n",
       "      <td>[saving, liquidity, escaped, velocity, minimum...</td>\n",
       "      <td>[velocity escaped saving financial liquidity m...</td>\n",
       "    </tr>\n",
       "    <tr>\n",
       "      <th>49</th>\n",
       "      <td>48</td>\n",
       "      <td>14</td>\n",
       "      <td>48_coronavirus_parvovirus_b19_french</td>\n",
       "      <td>[coronavirus, parvovirus, b19, french, increas...</td>\n",
       "      <td>[increased report severe myocarditis associate...</td>\n",
       "    </tr>\n",
       "    <tr>\n",
       "      <th>50</th>\n",
       "      <td>49</td>\n",
       "      <td>13</td>\n",
       "      <td>49_qualitative_research_quantitative_collection</td>\n",
       "      <td>[qualitative, research, quantitative, collecti...</td>\n",
       "      <td>[qualitative research methodology, qualitative...</td>\n",
       "    </tr>\n",
       "    <tr>\n",
       "      <th>51</th>\n",
       "      <td>50</td>\n",
       "      <td>13</td>\n",
       "      <td>50_woman_gender_every_movement</td>\n",
       "      <td>[woman, gender, every, movement, sex, national...</td>\n",
       "      <td>[feminism death woman movement save planet, pr...</td>\n",
       "    </tr>\n",
       "    <tr>\n",
       "      <th>52</th>\n",
       "      <td>51</td>\n",
       "      <td>12</td>\n",
       "      <td>51_digital_transformation_news_hindu</td>\n",
       "      <td>[digital, transformation, news, hindu, citizen...</td>\n",
       "      <td>[digital transformation guideline future resea...</td>\n",
       "    </tr>\n",
       "    <tr>\n",
       "      <th>53</th>\n",
       "      <td>52</td>\n",
       "      <td>11</td>\n",
       "      <td>52_law_criminal_constitutionality_justice</td>\n",
       "      <td>[law, criminal, constitutionality, justice, ad...</td>\n",
       "      <td>[main principle administrative law, general ad...</td>\n",
       "    </tr>\n",
       "    <tr>\n",
       "      <th>54</th>\n",
       "      <td>53</td>\n",
       "      <td>11</td>\n",
       "      <td>53_allergic_allergy_tuberculosis_infection</td>\n",
       "      <td>[allergic, allergy, tuberculosis, infection, i...</td>\n",
       "      <td>[infectious disease society america guideline ...</td>\n",
       "    </tr>\n",
       "    <tr>\n",
       "      <th>55</th>\n",
       "      <td>54</td>\n",
       "      <td>11</td>\n",
       "      <td>54_tree_sanger_life_dna</td>\n",
       "      <td>[tree, sanger, life, dna, hmw, extraction, aut...</td>\n",
       "      <td>[sanger tree life hmw dna fragmentation diagen...</td>\n",
       "    </tr>\n",
       "    <tr>\n",
       "      <th>56</th>\n",
       "      <td>55</td>\n",
       "      <td>11</td>\n",
       "      <td>55_liver_hepatitis_unknown_aetiology</td>\n",
       "      <td>[liver, hepatitis, unknown, aetiology, country...</td>\n",
       "      <td>[investigation case hepatitis unknown aetiolog...</td>\n",
       "    </tr>\n",
       "    <tr>\n",
       "      <th>57</th>\n",
       "      <td>56</td>\n",
       "      <td>11</td>\n",
       "      <td>56_h5n1_avian_influenza_pathogenic</td>\n",
       "      <td>[h5n1, avian, influenza, pathogenic, highly, d...</td>\n",
       "      <td>[outbreak highly pathogenic avian influenza h5...</td>\n",
       "    </tr>\n",
       "  </tbody>\n",
       "</table>\n",
       "</div>"
      ],
      "text/plain": [
       "    Topic  Count                                               Name  \\\n",
       "0      -1    737         -1_application_education_analysis_learning   \n",
       "1       0    205                    0_network_image_learning_neural   \n",
       "2       1    175               1_alloy_aluminum_corrosion_aluminium   \n",
       "3       2    100                2_political_history_crisis_politics   \n",
       "4       3     76        3_heart_cardiovascular_guideline_management   \n",
       "5       4     69       4_psychology_psychological_emotion_emotional   \n",
       "6       5     69                     5_climate_change_energy_report   \n",
       "7       6     54                     6_monkeypox_virus_outbreak_may   \n",
       "8       7     53                    7_diabetes_standard_care_kidney   \n",
       "9       8     52                   8_information_system_web_service   \n",
       "10      9     49                9_cancer_cell_therapy_immunotherapy   \n",
       "11     10     47                 10_curriculum_school_teacher_skill   \n",
       "12     11     46                   11_genome_database_gene_ontology   \n",
       "13     12     45         12_innovative_enterprise_business_employee   \n",
       "14     13     43                 13_health_care_standard_evaluation   \n",
       "15     14     41                     14_language_large_model_speech   \n",
       "16     15     39                15_chatgpt_chatbots_writing_medical   \n",
       "17     16     38             16_catalyst_oxygen_reaction_production   \n",
       "18     17     38                       17_black_hole_gravity_galaxy   \n",
       "19     18     31            18_consumer_marketing_decision_customer   \n",
       "20     19     28              19_hydrogel_recent_chemical_molecular   \n",
       "21     20     28    20_resistance_antimicrobial_bacterial_infection   \n",
       "22     21     26      21_intelligence_artificial_education_medicine   \n",
       "23     22     25                 22_sport_fitness_exercise_training   \n",
       "24     23     24   23_electronic_transistor_nanoclusters_bimetallic   \n",
       "25     24     23               24_battery_lithium_electrolyte_metal   \n",
       "26     25     22       25_pharmacology_therapeutic_discovery_target   \n",
       "27     26     21            26_mathematics_learning_student_outcome   \n",
       "28     27     21               27_cancer_statistic_incidence_breast   \n",
       "29     28     20             28_microbiome_microbiota_gut_microbial   \n",
       "30     29     20        29_alzheimer_neurodegenerative_disease_drug   \n",
       "31     30     20             30_orphilus_insect_evolution_ecosystem   \n",
       "32     31     20                         31_higgs_symmetry_boson_13   \n",
       "33     32     19              32_quantum_physic_particle_modulation   \n",
       "34     33     19                    33_ba_antibody_omicron_bivalent   \n",
       "35     34     18       34_photocatalytic_co2_photocatalyst_covalent   \n",
       "36     35     18                  35_urology_urinary_prostate_renal   \n",
       "37     36     18         36_advisory_immunization_committee_vaccine   \n",
       "38     37     17                  37_variant_omicron_delta_december   \n",
       "39     38     17                    38_child_adolescent_older_adult   \n",
       "40     39     16  39_signaling_mitochondrial_mitochondrion_thera...   \n",
       "41     40     16                    40_food_nutrition_security_fish   \n",
       "42     41     16                    41_audio_clip_noise_supervision   \n",
       "43     42     16               42_teaching_russian_language_english   \n",
       "44     43     16  43_diagnosis_classification_polyangiitis_alliance   \n",
       "45     44     15                 44_cook_centrobolus_related_mating   \n",
       "46     45     14                      45_chatgpt_gpt_education_chat   \n",
       "47     46     14                   46_protein_molecule_kinase_small   \n",
       "48     47     14               47_saving_liquidity_escaped_velocity   \n",
       "49     48     14               48_coronavirus_parvovirus_b19_french   \n",
       "50     49     13    49_qualitative_research_quantitative_collection   \n",
       "51     50     13                     50_woman_gender_every_movement   \n",
       "52     51     12               51_digital_transformation_news_hindu   \n",
       "53     52     11          52_law_criminal_constitutionality_justice   \n",
       "54     53     11         53_allergic_allergy_tuberculosis_infection   \n",
       "55     54     11                            54_tree_sanger_life_dna   \n",
       "56     55     11               55_liver_hepatitis_unknown_aetiology   \n",
       "57     56     11                 56_h5n1_avian_influenza_pathogenic   \n",
       "\n",
       "                                       Representation  \\\n",
       "0   [application, education, analysis, learning, m...   \n",
       "1   [network, image, learning, neural, deep, machi...   \n",
       "2   [alloy, aluminum, corrosion, aluminium, fricti...   \n",
       "3   [political, history, crisis, politics, set, es...   \n",
       "4   [heart, cardiovascular, guideline, management,...   \n",
       "5   [psychology, psychological, emotion, emotional...   \n",
       "6   [climate, change, energy, report, carbon, rene...   \n",
       "7   [monkeypox, virus, outbreak, may, transmission...   \n",
       "8   [diabetes, standard, care, kidney, obesity, ty...   \n",
       "9   [information, system, web, service, lampung, c...   \n",
       "10  [cancer, cell, therapy, immunotherapy, death, ...   \n",
       "11  [curriculum, school, teacher, skill, education...   \n",
       "12  [genome, database, gene, ontology, knowledgeba...   \n",
       "13  [innovative, enterprise, business, employee, i...   \n",
       "14  [health, care, standard, evaluation, reporting...   \n",
       "15  [language, large, model, speech, rtl, scaling,...   \n",
       "16  [chatgpt, chatbots, writing, medical, artifici...   \n",
       "17  [catalyst, oxygen, reaction, production, catal...   \n",
       "18  [black, hole, gravity, galaxy, jwst, cosmologi...   \n",
       "19  [consumer, marketing, decision, customer, theo...   \n",
       "20  [hydrogel, recent, chemical, molecular, biomat...   \n",
       "21  [resistance, antimicrobial, bacterial, infecti...   \n",
       "22  [intelligence, artificial, education, medicine...   \n",
       "23  [sport, fitness, exercise, training, extracurr...   \n",
       "24  [electronic, transistor, nanoclusters, bimetal...   \n",
       "25  [battery, lithium, electrolyte, metal, recharg...   \n",
       "26  [pharmacology, therapeutic, discovery, target,...   \n",
       "27  [mathematics, learning, student, outcome, inde...   \n",
       "28  [cancer, statistic, incidence, breast, lung, s...   \n",
       "29  [microbiome, microbiota, gut, microbial, soil,...   \n",
       "30  [alzheimer, neurodegenerative, disease, drug, ...   \n",
       "31  [orphilus, insect, evolution, ecosystem, econo...   \n",
       "32  [higgs, symmetry, boson, 13, decay, tev, colli...   \n",
       "33  [quantum, physic, particle, modulation, experi...   \n",
       "34  [ba, antibody, omicron, bivalent, xbb, vaccine...   \n",
       "35  [photocatalytic, co2, photocatalyst, covalent,...   \n",
       "36  [urology, urinary, prostate, renal, guideline,...   \n",
       "37  [advisory, immunization, committee, vaccine, r...   \n",
       "38  [variant, omicron, delta, december, ba, januar...   \n",
       "39  [child, adolescent, older, adult, hospitalizat...   \n",
       "40  [signaling, mitochondrial, mitochondrion, ther...   \n",
       "41  [food, nutrition, security, fish, world, norwe...   \n",
       "42  [audio, clip, noise, supervision, deep, repres...   \n",
       "43  [teaching, russian, language, english, foreign...   \n",
       "44  [diagnosis, classification, polyangiitis, alli...   \n",
       "45  [cook, centrobolus, related, mating, frequency...   \n",
       "46  [chatgpt, gpt, education, chat, higher, academ...   \n",
       "47  [protein, molecule, kinase, small, extracellul...   \n",
       "48  [saving, liquidity, escaped, velocity, minimum...   \n",
       "49  [coronavirus, parvovirus, b19, french, increas...   \n",
       "50  [qualitative, research, quantitative, collecti...   \n",
       "51  [woman, gender, every, movement, sex, national...   \n",
       "52  [digital, transformation, news, hindu, citizen...   \n",
       "53  [law, criminal, constitutionality, justice, ad...   \n",
       "54  [allergic, allergy, tuberculosis, infection, i...   \n",
       "55  [tree, sanger, life, dna, hmw, extraction, aut...   \n",
       "56  [liver, hepatitis, unknown, aetiology, country...   \n",
       "57  [h5n1, avian, influenza, pathogenic, highly, d...   \n",
       "\n",
       "                                  Representative_Docs  \n",
       "0   [foundation large language model fundamental c...  \n",
       "1   [computational technique based machine learnin...  \n",
       "2   [corrosion resistance property ormosil coating...  \n",
       "3   [capital critique political economy volume 1, ...  \n",
       "4   [esc guideline cardiovascular assessment manag...  \n",
       "5   [cognitive psychology cognitive process memory...  \n",
       "6   [climate change mitigation climate change, ipc...  \n",
       "7   [outbreak pathobiology monkeypox virus, outbre...  \n",
       "8   [obesity weight management prevention treatmen...  \n",
       "9   [information system pringsewu regency regional...  \n",
       "10  [cell death, molecular mechanism future implic...  \n",
       "11  [independent curriculum curriculum truth educa...  \n",
       "12  [ucsc genome browser database update, ucsc gen...  \n",
       "13  [hierarchical structure innovative strategy in...  \n",
       "14  [facilitating behavior change improve health o...  \n",
       "15  [driving suppressing human language network us...  \n",
       "16  [chatgpt artificial intelligence application s...  \n",
       "17  [doping shortens distance promotes oh coverage...  \n",
       "18  [scattering black hole background amplitude pa...  \n",
       "19  [purchasing decision model consumer satisfacti...  \n",
       "20  [covalent organic framework recent progress bi...  \n",
       "21  [burden bacterial antimicrobial resistance afr...  \n",
       "22  [new era artificial intelligence medicine, art...  \n",
       "23  [recovery body running athlete sport training,...  \n",
       "24  [interfacial polarization loss improvement ind...  \n",
       "25  [beyond lif tailoring solid electrolyte interp...  \n",
       "26  [rise compound advancement synthesis medicinal...  \n",
       "27  [analysis student mathematics learning indepen...  \n",
       "28  [cancer statistic, cancer statistic, cancer st...  \n",
       "29  [gut microbiota colorectal cancer development ...  \n",
       "30  [clinical trial new drug alzheimer disease upd...  \n",
       "31  [ecotourism development strategy supporting na...  \n",
       "32  [measurement property higgs boson production 1...  \n",
       "33  [review nmos instead exhibiting thermionic emi...  \n",
       "34  [neutralization ba 5 ba ba 2 bq xbb 1 bivalent...  \n",
       "35  [insight reaction pathway photocatalytic co2 c...  \n",
       "36  [european association urology guideline metast...  \n",
       "37  [syncytial virus disease among infant young ch...  \n",
       "38  [hospitalization among adult period delta omic...  \n",
       "39  [child adolescent standard medical care, child...  \n",
       "40  [molecular mechanism mitochondrial dna release...  \n",
       "41  [state food security nutrition world repurposi...  \n",
       "42  [wav2clip learning robust audio representation...  \n",
       "43  [method technique teaching russian language fi...  \n",
       "44  [american college alliance association rheumat...  \n",
       "45  [absolute abundance related tarsal pad length ...  \n",
       "46  [role chatgpt higher education benefit challen...  \n",
       "47  [property small molecule protein kinase inhibi...  \n",
       "48  [velocity escaped saving financial liquidity m...  \n",
       "49  [increased report severe myocarditis associate...  \n",
       "50  [qualitative research methodology, qualitative...  \n",
       "51  [feminism death woman movement save planet, pr...  \n",
       "52  [digital transformation guideline future resea...  \n",
       "53  [main principle administrative law, general ad...  \n",
       "54  [infectious disease society america guideline ...  \n",
       "55  [sanger tree life hmw dna fragmentation diagen...  \n",
       "56  [investigation case hepatitis unknown aetiolog...  \n",
       "57  [outbreak highly pathogenic avian influenza h5...  "
      ]
     },
     "execution_count": 15,
     "metadata": {},
     "output_type": "execute_result"
    }
   ],
   "source": [
    "model.get_topic_info()"
   ]
  },
  {
   "cell_type": "code",
   "execution_count": 16,
   "metadata": {},
   "outputs": [
    {
     "data": {
      "application/vnd.plotly.v1+json": {
       "config": {
        "plotlyServerURL": "https://plot.ly"
       },
       "data": [
        {
         "marker": {
          "color": "#D55E00"
         },
         "orientation": "h",
         "type": "bar",
         "x": [
          0.03154968470284931,
          0.03270845346624325,
          0.033572038920714996,
          0.0348651429535614,
          0.03570702084875225
         ],
         "xaxis": "x",
         "y": [
          "deep  ",
          "neural  ",
          "learning  ",
          "image  ",
          "network  "
         ],
         "yaxis": "y"
        },
        {
         "marker": {
          "color": "#0072B2"
         },
         "orientation": "h",
         "type": "bar",
         "x": [
          0.04069045877806956,
          0.05516508555328614,
          0.07755053261241762,
          0.09514180028034441,
          0.10985582763269966
         ],
         "xaxis": "x2",
         "y": [
          "friction  ",
          "aluminium  ",
          "corrosion  ",
          "aluminum  ",
          "alloy  "
         ],
         "yaxis": "y2"
        },
        {
         "marker": {
          "color": "#CC79A7"
         },
         "orientation": "h",
         "type": "bar",
         "x": [
          0.0363213181480728,
          0.041491461106071346,
          0.051026173986142856,
          0.05278027200899539,
          0.07437593244695014
         ],
         "xaxis": "x3",
         "y": [
          "set  ",
          "politics  ",
          "crisis  ",
          "history  ",
          "political  "
         ],
         "yaxis": "y3"
        },
        {
         "marker": {
          "color": "#E69F00"
         },
         "orientation": "h",
         "type": "bar",
         "x": [
          0.06026894559132355,
          0.0677793094921493,
          0.06891096088802466,
          0.0749736453242563,
          0.10444207799738255
         ],
         "xaxis": "x4",
         "y": [
          "developed  ",
          "management  ",
          "guideline  ",
          "cardiovascular  ",
          "heart  "
         ],
         "yaxis": "y4"
        },
        {
         "marker": {
          "color": "#56B4E9"
         },
         "orientation": "h",
         "type": "bar",
         "x": [
          0.05342845832554907,
          0.05551631938879344,
          0.057993157148430154,
          0.09927144839238061,
          0.11017869656557187
         ],
         "xaxis": "x5",
         "y": [
          "cognitive  ",
          "emotional  ",
          "emotion  ",
          "psychological  ",
          "psychology  "
         ],
         "yaxis": "y5"
        },
        {
         "marker": {
          "color": "#009E73"
         },
         "orientation": "h",
         "type": "bar",
         "x": [
          0.0499110293704807,
          0.052594224062041006,
          0.06915352844946146,
          0.08788689643662752,
          0.12348844365975262
         ],
         "xaxis": "x6",
         "y": [
          "carbon  ",
          "report  ",
          "energy  ",
          "change  ",
          "climate  "
         ],
         "yaxis": "y6"
        },
        {
         "marker": {
          "color": "#F0E442"
         },
         "orientation": "h",
         "type": "bar",
         "x": [
          0.045105585480776846,
          0.06356396083432311,
          0.0688609575705167,
          0.11680009080169207,
          0.16428177011933473
         ],
         "xaxis": "x7",
         "y": [
          "transmission  ",
          "may  ",
          "outbreak  ",
          "virus  ",
          "monkeypox  "
         ],
         "yaxis": "y7"
        },
        {
         "marker": {
          "color": "#D55E00"
         },
         "orientation": "h",
         "type": "bar",
         "x": [
          0.06802822806741976,
          0.07653175657584724,
          0.08395926392439994,
          0.08506245921923046,
          0.18644639493137538
         ],
         "xaxis": "x8",
         "y": [
          "obesity  ",
          "kidney  ",
          "care  ",
          "standard  ",
          "diabetes  "
         ],
         "yaxis": "y8"
        }
       ],
       "layout": {
        "annotations": [
         {
          "font": {
           "size": 16
          },
          "showarrow": false,
          "text": "Topic 0",
          "x": 0.0875,
          "xanchor": "center",
          "xref": "paper",
          "y": 1,
          "yanchor": "bottom",
          "yref": "paper"
         },
         {
          "font": {
           "size": 16
          },
          "showarrow": false,
          "text": "Topic 1",
          "x": 0.36250000000000004,
          "xanchor": "center",
          "xref": "paper",
          "y": 1,
          "yanchor": "bottom",
          "yref": "paper"
         },
         {
          "font": {
           "size": 16
          },
          "showarrow": false,
          "text": "Topic 2",
          "x": 0.6375000000000001,
          "xanchor": "center",
          "xref": "paper",
          "y": 1,
          "yanchor": "bottom",
          "yref": "paper"
         },
         {
          "font": {
           "size": 16
          },
          "showarrow": false,
          "text": "Topic 3",
          "x": 0.9125,
          "xanchor": "center",
          "xref": "paper",
          "y": 1,
          "yanchor": "bottom",
          "yref": "paper"
         },
         {
          "font": {
           "size": 16
          },
          "showarrow": false,
          "text": "Topic 4",
          "x": 0.0875,
          "xanchor": "center",
          "xref": "paper",
          "y": 0.4,
          "yanchor": "bottom",
          "yref": "paper"
         },
         {
          "font": {
           "size": 16
          },
          "showarrow": false,
          "text": "Topic 5",
          "x": 0.36250000000000004,
          "xanchor": "center",
          "xref": "paper",
          "y": 0.4,
          "yanchor": "bottom",
          "yref": "paper"
         },
         {
          "font": {
           "size": 16
          },
          "showarrow": false,
          "text": "Topic 6",
          "x": 0.6375000000000001,
          "xanchor": "center",
          "xref": "paper",
          "y": 0.4,
          "yanchor": "bottom",
          "yref": "paper"
         },
         {
          "font": {
           "size": 16
          },
          "showarrow": false,
          "text": "Topic 7",
          "x": 0.9125,
          "xanchor": "center",
          "xref": "paper",
          "y": 0.4,
          "yanchor": "bottom",
          "yref": "paper"
         }
        ],
        "height": 500,
        "hoverlabel": {
         "bgcolor": "white",
         "font": {
          "family": "Rockwell",
          "size": 16
         }
        },
        "showlegend": false,
        "template": {
         "data": {
          "bar": [
           {
            "error_x": {
             "color": "#2a3f5f"
            },
            "error_y": {
             "color": "#2a3f5f"
            },
            "marker": {
             "line": {
              "color": "white",
              "width": 0.5
             },
             "pattern": {
              "fillmode": "overlay",
              "size": 10,
              "solidity": 0.2
             }
            },
            "type": "bar"
           }
          ],
          "barpolar": [
           {
            "marker": {
             "line": {
              "color": "white",
              "width": 0.5
             },
             "pattern": {
              "fillmode": "overlay",
              "size": 10,
              "solidity": 0.2
             }
            },
            "type": "barpolar"
           }
          ],
          "carpet": [
           {
            "aaxis": {
             "endlinecolor": "#2a3f5f",
             "gridcolor": "#C8D4E3",
             "linecolor": "#C8D4E3",
             "minorgridcolor": "#C8D4E3",
             "startlinecolor": "#2a3f5f"
            },
            "baxis": {
             "endlinecolor": "#2a3f5f",
             "gridcolor": "#C8D4E3",
             "linecolor": "#C8D4E3",
             "minorgridcolor": "#C8D4E3",
             "startlinecolor": "#2a3f5f"
            },
            "type": "carpet"
           }
          ],
          "choropleth": [
           {
            "colorbar": {
             "outlinewidth": 0,
             "ticks": ""
            },
            "type": "choropleth"
           }
          ],
          "contour": [
           {
            "colorbar": {
             "outlinewidth": 0,
             "ticks": ""
            },
            "colorscale": [
             [
              0,
              "#0d0887"
             ],
             [
              0.1111111111111111,
              "#46039f"
             ],
             [
              0.2222222222222222,
              "#7201a8"
             ],
             [
              0.3333333333333333,
              "#9c179e"
             ],
             [
              0.4444444444444444,
              "#bd3786"
             ],
             [
              0.5555555555555556,
              "#d8576b"
             ],
             [
              0.6666666666666666,
              "#ed7953"
             ],
             [
              0.7777777777777778,
              "#fb9f3a"
             ],
             [
              0.8888888888888888,
              "#fdca26"
             ],
             [
              1,
              "#f0f921"
             ]
            ],
            "type": "contour"
           }
          ],
          "contourcarpet": [
           {
            "colorbar": {
             "outlinewidth": 0,
             "ticks": ""
            },
            "type": "contourcarpet"
           }
          ],
          "heatmap": [
           {
            "colorbar": {
             "outlinewidth": 0,
             "ticks": ""
            },
            "colorscale": [
             [
              0,
              "#0d0887"
             ],
             [
              0.1111111111111111,
              "#46039f"
             ],
             [
              0.2222222222222222,
              "#7201a8"
             ],
             [
              0.3333333333333333,
              "#9c179e"
             ],
             [
              0.4444444444444444,
              "#bd3786"
             ],
             [
              0.5555555555555556,
              "#d8576b"
             ],
             [
              0.6666666666666666,
              "#ed7953"
             ],
             [
              0.7777777777777778,
              "#fb9f3a"
             ],
             [
              0.8888888888888888,
              "#fdca26"
             ],
             [
              1,
              "#f0f921"
             ]
            ],
            "type": "heatmap"
           }
          ],
          "heatmapgl": [
           {
            "colorbar": {
             "outlinewidth": 0,
             "ticks": ""
            },
            "colorscale": [
             [
              0,
              "#0d0887"
             ],
             [
              0.1111111111111111,
              "#46039f"
             ],
             [
              0.2222222222222222,
              "#7201a8"
             ],
             [
              0.3333333333333333,
              "#9c179e"
             ],
             [
              0.4444444444444444,
              "#bd3786"
             ],
             [
              0.5555555555555556,
              "#d8576b"
             ],
             [
              0.6666666666666666,
              "#ed7953"
             ],
             [
              0.7777777777777778,
              "#fb9f3a"
             ],
             [
              0.8888888888888888,
              "#fdca26"
             ],
             [
              1,
              "#f0f921"
             ]
            ],
            "type": "heatmapgl"
           }
          ],
          "histogram": [
           {
            "marker": {
             "pattern": {
              "fillmode": "overlay",
              "size": 10,
              "solidity": 0.2
             }
            },
            "type": "histogram"
           }
          ],
          "histogram2d": [
           {
            "colorbar": {
             "outlinewidth": 0,
             "ticks": ""
            },
            "colorscale": [
             [
              0,
              "#0d0887"
             ],
             [
              0.1111111111111111,
              "#46039f"
             ],
             [
              0.2222222222222222,
              "#7201a8"
             ],
             [
              0.3333333333333333,
              "#9c179e"
             ],
             [
              0.4444444444444444,
              "#bd3786"
             ],
             [
              0.5555555555555556,
              "#d8576b"
             ],
             [
              0.6666666666666666,
              "#ed7953"
             ],
             [
              0.7777777777777778,
              "#fb9f3a"
             ],
             [
              0.8888888888888888,
              "#fdca26"
             ],
             [
              1,
              "#f0f921"
             ]
            ],
            "type": "histogram2d"
           }
          ],
          "histogram2dcontour": [
           {
            "colorbar": {
             "outlinewidth": 0,
             "ticks": ""
            },
            "colorscale": [
             [
              0,
              "#0d0887"
             ],
             [
              0.1111111111111111,
              "#46039f"
             ],
             [
              0.2222222222222222,
              "#7201a8"
             ],
             [
              0.3333333333333333,
              "#9c179e"
             ],
             [
              0.4444444444444444,
              "#bd3786"
             ],
             [
              0.5555555555555556,
              "#d8576b"
             ],
             [
              0.6666666666666666,
              "#ed7953"
             ],
             [
              0.7777777777777778,
              "#fb9f3a"
             ],
             [
              0.8888888888888888,
              "#fdca26"
             ],
             [
              1,
              "#f0f921"
             ]
            ],
            "type": "histogram2dcontour"
           }
          ],
          "mesh3d": [
           {
            "colorbar": {
             "outlinewidth": 0,
             "ticks": ""
            },
            "type": "mesh3d"
           }
          ],
          "parcoords": [
           {
            "line": {
             "colorbar": {
              "outlinewidth": 0,
              "ticks": ""
             }
            },
            "type": "parcoords"
           }
          ],
          "pie": [
           {
            "automargin": true,
            "type": "pie"
           }
          ],
          "scatter": [
           {
            "fillpattern": {
             "fillmode": "overlay",
             "size": 10,
             "solidity": 0.2
            },
            "type": "scatter"
           }
          ],
          "scatter3d": [
           {
            "line": {
             "colorbar": {
              "outlinewidth": 0,
              "ticks": ""
             }
            },
            "marker": {
             "colorbar": {
              "outlinewidth": 0,
              "ticks": ""
             }
            },
            "type": "scatter3d"
           }
          ],
          "scattercarpet": [
           {
            "marker": {
             "colorbar": {
              "outlinewidth": 0,
              "ticks": ""
             }
            },
            "type": "scattercarpet"
           }
          ],
          "scattergeo": [
           {
            "marker": {
             "colorbar": {
              "outlinewidth": 0,
              "ticks": ""
             }
            },
            "type": "scattergeo"
           }
          ],
          "scattergl": [
           {
            "marker": {
             "colorbar": {
              "outlinewidth": 0,
              "ticks": ""
             }
            },
            "type": "scattergl"
           }
          ],
          "scattermapbox": [
           {
            "marker": {
             "colorbar": {
              "outlinewidth": 0,
              "ticks": ""
             }
            },
            "type": "scattermapbox"
           }
          ],
          "scatterpolar": [
           {
            "marker": {
             "colorbar": {
              "outlinewidth": 0,
              "ticks": ""
             }
            },
            "type": "scatterpolar"
           }
          ],
          "scatterpolargl": [
           {
            "marker": {
             "colorbar": {
              "outlinewidth": 0,
              "ticks": ""
             }
            },
            "type": "scatterpolargl"
           }
          ],
          "scatterternary": [
           {
            "marker": {
             "colorbar": {
              "outlinewidth": 0,
              "ticks": ""
             }
            },
            "type": "scatterternary"
           }
          ],
          "surface": [
           {
            "colorbar": {
             "outlinewidth": 0,
             "ticks": ""
            },
            "colorscale": [
             [
              0,
              "#0d0887"
             ],
             [
              0.1111111111111111,
              "#46039f"
             ],
             [
              0.2222222222222222,
              "#7201a8"
             ],
             [
              0.3333333333333333,
              "#9c179e"
             ],
             [
              0.4444444444444444,
              "#bd3786"
             ],
             [
              0.5555555555555556,
              "#d8576b"
             ],
             [
              0.6666666666666666,
              "#ed7953"
             ],
             [
              0.7777777777777778,
              "#fb9f3a"
             ],
             [
              0.8888888888888888,
              "#fdca26"
             ],
             [
              1,
              "#f0f921"
             ]
            ],
            "type": "surface"
           }
          ],
          "table": [
           {
            "cells": {
             "fill": {
              "color": "#EBF0F8"
             },
             "line": {
              "color": "white"
             }
            },
            "header": {
             "fill": {
              "color": "#C8D4E3"
             },
             "line": {
              "color": "white"
             }
            },
            "type": "table"
           }
          ]
         },
         "layout": {
          "annotationdefaults": {
           "arrowcolor": "#2a3f5f",
           "arrowhead": 0,
           "arrowwidth": 1
          },
          "autotypenumbers": "strict",
          "coloraxis": {
           "colorbar": {
            "outlinewidth": 0,
            "ticks": ""
           }
          },
          "colorscale": {
           "diverging": [
            [
             0,
             "#8e0152"
            ],
            [
             0.1,
             "#c51b7d"
            ],
            [
             0.2,
             "#de77ae"
            ],
            [
             0.3,
             "#f1b6da"
            ],
            [
             0.4,
             "#fde0ef"
            ],
            [
             0.5,
             "#f7f7f7"
            ],
            [
             0.6,
             "#e6f5d0"
            ],
            [
             0.7,
             "#b8e186"
            ],
            [
             0.8,
             "#7fbc41"
            ],
            [
             0.9,
             "#4d9221"
            ],
            [
             1,
             "#276419"
            ]
           ],
           "sequential": [
            [
             0,
             "#0d0887"
            ],
            [
             0.1111111111111111,
             "#46039f"
            ],
            [
             0.2222222222222222,
             "#7201a8"
            ],
            [
             0.3333333333333333,
             "#9c179e"
            ],
            [
             0.4444444444444444,
             "#bd3786"
            ],
            [
             0.5555555555555556,
             "#d8576b"
            ],
            [
             0.6666666666666666,
             "#ed7953"
            ],
            [
             0.7777777777777778,
             "#fb9f3a"
            ],
            [
             0.8888888888888888,
             "#fdca26"
            ],
            [
             1,
             "#f0f921"
            ]
           ],
           "sequentialminus": [
            [
             0,
             "#0d0887"
            ],
            [
             0.1111111111111111,
             "#46039f"
            ],
            [
             0.2222222222222222,
             "#7201a8"
            ],
            [
             0.3333333333333333,
             "#9c179e"
            ],
            [
             0.4444444444444444,
             "#bd3786"
            ],
            [
             0.5555555555555556,
             "#d8576b"
            ],
            [
             0.6666666666666666,
             "#ed7953"
            ],
            [
             0.7777777777777778,
             "#fb9f3a"
            ],
            [
             0.8888888888888888,
             "#fdca26"
            ],
            [
             1,
             "#f0f921"
            ]
           ]
          },
          "colorway": [
           "#636efa",
           "#EF553B",
           "#00cc96",
           "#ab63fa",
           "#FFA15A",
           "#19d3f3",
           "#FF6692",
           "#B6E880",
           "#FF97FF",
           "#FECB52"
          ],
          "font": {
           "color": "#2a3f5f"
          },
          "geo": {
           "bgcolor": "white",
           "lakecolor": "white",
           "landcolor": "white",
           "showlakes": true,
           "showland": true,
           "subunitcolor": "#C8D4E3"
          },
          "hoverlabel": {
           "align": "left"
          },
          "hovermode": "closest",
          "mapbox": {
           "style": "light"
          },
          "paper_bgcolor": "white",
          "plot_bgcolor": "white",
          "polar": {
           "angularaxis": {
            "gridcolor": "#EBF0F8",
            "linecolor": "#EBF0F8",
            "ticks": ""
           },
           "bgcolor": "white",
           "radialaxis": {
            "gridcolor": "#EBF0F8",
            "linecolor": "#EBF0F8",
            "ticks": ""
           }
          },
          "scene": {
           "xaxis": {
            "backgroundcolor": "white",
            "gridcolor": "#DFE8F3",
            "gridwidth": 2,
            "linecolor": "#EBF0F8",
            "showbackground": true,
            "ticks": "",
            "zerolinecolor": "#EBF0F8"
           },
           "yaxis": {
            "backgroundcolor": "white",
            "gridcolor": "#DFE8F3",
            "gridwidth": 2,
            "linecolor": "#EBF0F8",
            "showbackground": true,
            "ticks": "",
            "zerolinecolor": "#EBF0F8"
           },
           "zaxis": {
            "backgroundcolor": "white",
            "gridcolor": "#DFE8F3",
            "gridwidth": 2,
            "linecolor": "#EBF0F8",
            "showbackground": true,
            "ticks": "",
            "zerolinecolor": "#EBF0F8"
           }
          },
          "shapedefaults": {
           "line": {
            "color": "#2a3f5f"
           }
          },
          "ternary": {
           "aaxis": {
            "gridcolor": "#DFE8F3",
            "linecolor": "#A2B1C6",
            "ticks": ""
           },
           "baxis": {
            "gridcolor": "#DFE8F3",
            "linecolor": "#A2B1C6",
            "ticks": ""
           },
           "bgcolor": "white",
           "caxis": {
            "gridcolor": "#DFE8F3",
            "linecolor": "#A2B1C6",
            "ticks": ""
           }
          },
          "title": {
           "x": 0.05
          },
          "xaxis": {
           "automargin": true,
           "gridcolor": "#EBF0F8",
           "linecolor": "#EBF0F8",
           "ticks": "",
           "title": {
            "standoff": 15
           },
           "zerolinecolor": "#EBF0F8",
           "zerolinewidth": 2
          },
          "yaxis": {
           "automargin": true,
           "gridcolor": "#EBF0F8",
           "linecolor": "#EBF0F8",
           "ticks": "",
           "title": {
            "standoff": 15
           },
           "zerolinecolor": "#EBF0F8",
           "zerolinewidth": 2
          }
         }
        },
        "title": {
         "font": {
          "color": "Black",
          "size": 22
         },
         "text": "Topic Word Scores",
         "x": 0.5,
         "xanchor": "center",
         "yanchor": "top"
        },
        "width": 1000,
        "xaxis": {
         "anchor": "y",
         "domain": [
          0,
          0.175
         ],
         "showgrid": true
        },
        "xaxis2": {
         "anchor": "y2",
         "domain": [
          0.275,
          0.45
         ],
         "showgrid": true
        },
        "xaxis3": {
         "anchor": "y3",
         "domain": [
          0.55,
          0.7250000000000001
         ],
         "showgrid": true
        },
        "xaxis4": {
         "anchor": "y4",
         "domain": [
          0.825,
          1
         ],
         "showgrid": true
        },
        "xaxis5": {
         "anchor": "y5",
         "domain": [
          0,
          0.175
         ],
         "showgrid": true
        },
        "xaxis6": {
         "anchor": "y6",
         "domain": [
          0.275,
          0.45
         ],
         "showgrid": true
        },
        "xaxis7": {
         "anchor": "y7",
         "domain": [
          0.55,
          0.7250000000000001
         ],
         "showgrid": true
        },
        "xaxis8": {
         "anchor": "y8",
         "domain": [
          0.825,
          1
         ],
         "showgrid": true
        },
        "yaxis": {
         "anchor": "x",
         "domain": [
          0.6000000000000001,
          1
         ],
         "showgrid": true
        },
        "yaxis2": {
         "anchor": "x2",
         "domain": [
          0.6000000000000001,
          1
         ],
         "showgrid": true
        },
        "yaxis3": {
         "anchor": "x3",
         "domain": [
          0.6000000000000001,
          1
         ],
         "showgrid": true
        },
        "yaxis4": {
         "anchor": "x4",
         "domain": [
          0.6000000000000001,
          1
         ],
         "showgrid": true
        },
        "yaxis5": {
         "anchor": "x5",
         "domain": [
          0,
          0.4
         ],
         "showgrid": true
        },
        "yaxis6": {
         "anchor": "x6",
         "domain": [
          0,
          0.4
         ],
         "showgrid": true
        },
        "yaxis7": {
         "anchor": "x7",
         "domain": [
          0,
          0.4
         ],
         "showgrid": true
        },
        "yaxis8": {
         "anchor": "x8",
         "domain": [
          0,
          0.4
         ],
         "showgrid": true
        }
       }
      }
     },
     "metadata": {},
     "output_type": "display_data"
    }
   ],
   "source": [
    "model.visualize_barchart()"
   ]
  },
  {
   "cell_type": "code",
   "execution_count": 17,
   "metadata": {},
   "outputs": [
    {
     "data": {
      "application/vnd.plotly.v1+json": {
       "config": {
        "plotlyServerURL": "https://plot.ly"
       },
       "data": [
        {
         "customdata": [
          [
           0,
           "network | image | learning | neural | deep",
           205
          ],
          [
           1,
           "alloy | aluminum | corrosion | aluminium | friction",
           175
          ],
          [
           2,
           "political | history | crisis | politics | set",
           100
          ],
          [
           3,
           "heart | cardiovascular | guideline | management | developed",
           76
          ],
          [
           4,
           "psychology | psychological | emotion | emotional | cognitive",
           69
          ],
          [
           5,
           "climate | change | energy | report | carbon",
           69
          ],
          [
           6,
           "monkeypox | virus | outbreak | may | transmission",
           54
          ],
          [
           7,
           "diabetes | standard | care | kidney | obesity",
           53
          ],
          [
           8,
           "information | system | web | service | lampung",
           52
          ],
          [
           9,
           "cancer | cell | therapy | immunotherapy | death",
           49
          ],
          [
           10,
           "curriculum | school | teacher | skill | education",
           47
          ],
          [
           11,
           "genome | database | gene | ontology | knowledgebase",
           46
          ],
          [
           12,
           "innovative | enterprise | business | employee | innovation",
           45
          ],
          [
           13,
           "health | care | standard | evaluation | reporting",
           43
          ],
          [
           14,
           "language | large | model | speech | rtl",
           41
          ],
          [
           15,
           "chatgpt | chatbots | writing | medical | artificial",
           39
          ],
          [
           16,
           "catalyst | oxygen | reaction | production | catalytic",
           38
          ],
          [
           17,
           "black | hole | gravity | galaxy | jwst",
           38
          ],
          [
           18,
           "consumer | marketing | decision | customer | theory",
           31
          ],
          [
           19,
           "hydrogel | recent | chemical | molecular | biomaterials",
           28
          ],
          [
           20,
           "resistance | antimicrobial | bacterial | infection | gonorrhoeae",
           28
          ],
          [
           21,
           "intelligence | artificial | education | medicine | generative",
           26
          ],
          [
           22,
           "sport | fitness | exercise | training | extracurricular",
           25
          ],
          [
           23,
           "electronic | transistor | nanoclusters | bimetallic | interfacial",
           24
          ],
          [
           24,
           "battery | lithium | electrolyte | metal | rechargeable",
           23
          ],
          [
           25,
           "pharmacology | therapeutic | discovery | target | drug",
           22
          ],
          [
           26,
           "mathematics | learning | student | outcome | independence",
           21
          ],
          [
           27,
           "cancer | statistic | incidence | breast | lung",
           21
          ],
          [
           28,
           "microbiome | microbiota | gut | microbial | soil",
           20
          ],
          [
           29,
           "alzheimer | neurodegenerative | disease | drug | neurodegeneration",
           20
          ],
          [
           30,
           "orphilus | insect | evolution | ecosystem | economics",
           20
          ],
          [
           31,
           "higgs | symmetry | boson | 13 | decay",
           20
          ],
          [
           32,
           "quantum | physic | particle | modulation | experiment",
           19
          ],
          [
           33,
           "ba | antibody | omicron | bivalent | xbb",
           19
          ],
          [
           34,
           "photocatalytic | co2 | photocatalyst | covalent | photodynamic",
           18
          ],
          [
           35,
           "urology | urinary | prostate | renal | guideline",
           18
          ],
          [
           36,
           "advisory | immunization | committee | vaccine | recommendation",
           18
          ],
          [
           37,
           "variant | omicron | delta | december | ba",
           17
          ],
          [
           38,
           "child | adolescent | older | adult | hospitalization",
           17
          ],
          [
           39,
           "signaling | mitochondrial | mitochondrion | therapeutic | pathway",
           16
          ],
          [
           40,
           "food | nutrition | security | fish | world",
           16
          ],
          [
           41,
           "audio | clip | noise | supervision | deep",
           16
          ],
          [
           42,
           "teaching | russian | language | english | foreign",
           16
          ],
          [
           43,
           "diagnosis | classification | polyangiitis | alliance | rheumatology",
           16
          ],
          [
           44,
           "cook | centrobolus | related | mating | frequency",
           15
          ],
          [
           45,
           "chatgpt | gpt | education | chat | higher",
           14
          ],
          [
           46,
           "protein | molecule | kinase | small | extracellular",
           14
          ],
          [
           47,
           "saving | liquidity | escaped | velocity | minimum",
           14
          ],
          [
           48,
           "coronavirus | parvovirus | b19 | french | increased",
           14
          ],
          [
           49,
           "qualitative | research | quantitative | collection | data",
           13
          ],
          [
           50,
           "woman | gender | every | movement | sex",
           13
          ],
          [
           51,
           "digital | transformation | news | hindu | citizen",
           12
          ],
          [
           52,
           "law | criminal | constitutionality | justice | administrative",
           11
          ],
          [
           53,
           "allergic | allergy | tuberculosis | infection | infectious",
           11
          ],
          [
           54,
           "tree | sanger | life | dna | hmw",
           11
          ],
          [
           55,
           "liver | hepatitis | unknown | aetiology | country",
           11
          ],
          [
           56,
           "h5n1 | avian | influenza | pathogenic | highly",
           11
          ]
         ],
         "hovertemplate": "<b>Topic %{customdata[0]}</b><br>%{customdata[1]}<br>Size: %{customdata[2]}",
         "legendgroup": "",
         "marker": {
          "color": "#B0BEC5",
          "line": {
           "color": "DarkSlateGrey",
           "width": 2
          },
          "size": [
           205,
           175,
           100,
           76,
           69,
           69,
           54,
           53,
           52,
           49,
           47,
           46,
           45,
           43,
           41,
           39,
           38,
           38,
           31,
           28,
           28,
           26,
           25,
           24,
           23,
           22,
           21,
           21,
           20,
           20,
           20,
           20,
           19,
           19,
           18,
           18,
           18,
           17,
           17,
           16,
           16,
           16,
           16,
           16,
           15,
           14,
           14,
           14,
           14,
           13,
           13,
           12,
           11,
           11,
           11,
           11,
           11
          ],
          "sizemode": "area",
          "sizeref": 0.128125,
          "symbol": "circle"
         },
         "mode": "markers",
         "name": "",
         "orientation": "v",
         "showlegend": false,
         "type": "scatter",
         "x": [
          -19.296072,
          7.9238,
          -7.8025446,
          16.990152,
          -8.495925,
          -14.027029,
          1.2809471,
          16.806463,
          -9.003476,
          23.519896,
          -4.983056,
          8.783902,
          -1.3972813,
          16.710823,
          -10.578351,
          -9.521894,
          7.2940564,
          3.3194687,
          -1.3973771,
          7.1751714,
          7.3881187,
          -19.296124,
          -8.315257,
          7.774348,
          7.4986567,
          7.0616503,
          -4.983911,
          23.403414,
          7.231711,
          5.074339,
          8.901099,
          3.3462653,
          3.4823868,
          7.7653437,
          7.2755046,
          23.227762,
          7.9391923,
          1.0107788,
          16.689243,
          5.0743027,
          -13.959507,
          -10.787863,
          -10.494248,
          23.069214,
          8.998464,
          -9.289679,
          8.54369,
          -14.180396,
          1.0494363,
          -8.849983,
          -7.6714892,
          -8.901881,
          -7.5866647,
          7.653423,
          8.739131,
          1.270151,
          0.8760476
         ],
         "xaxis": "x",
         "y": [
          5.67824,
          16.393013,
          -4.9617915,
          -6.218254,
          -4.9879303,
          7.1007466,
          -4.554294,
          -6.4021587,
          -5.493564,
          5.255186,
          5.353033,
          1.088173,
          7.522335,
          -6.498037,
          7.1181216,
          -5.657076,
          16.544361,
          5.056115,
          7.5223165,
          17.00321,
          -3.4292483,
          5.6782537,
          -5.155848,
          16.213278,
          16.274635,
          17.090267,
          5.3525577,
          5.372011,
          -3.388855,
          10.951197,
          1.1963944,
          5.083826,
          5.22131,
          -3.2120633,
          16.54868,
          5.5484324,
          -3.388566,
          -4.3574557,
          -6.5195603,
          10.95113,
          7.034062,
          7.327611,
          7.0332174,
          5.7072406,
          1.2903976,
          -5.535466,
          0.8466319,
          7.253989,
          -4.3779535,
          -5.32272,
          -5.0404797,
          -5.6472893,
          -5.11515,
          -3.4476159,
          1.0440538,
          -4.21922,
          -4.331765
         ],
         "yaxis": "y"
        }
       ],
       "layout": {
        "annotations": [
         {
          "showarrow": false,
          "text": "D1",
          "x": -22.190542030334473,
          "y": 6.078156435489655,
          "yshift": 10
         },
         {
          "showarrow": false,
          "text": "D2",
          "x": 2.4286689281463616,
          "xshift": 10,
          "y": 19.65380725860596
         }
        ],
        "height": 650,
        "hoverlabel": {
         "bgcolor": "white",
         "font": {
          "family": "Rockwell",
          "size": 16
         }
        },
        "legend": {
         "itemsizing": "constant",
         "tracegroupgap": 0
        },
        "margin": {
         "t": 60
        },
        "shapes": [
         {
          "line": {
           "color": "#CFD8DC",
           "width": 2
          },
          "type": "line",
          "x0": 2.4286689281463616,
          "x1": 2.4286689281463616,
          "y0": -7.497494387626648,
          "y1": 19.65380725860596
         },
         {
          "line": {
           "color": "#9E9E9E",
           "width": 2
          },
          "type": "line",
          "x0": -22.190542030334473,
          "x1": 27.047879886627197,
          "y0": 6.078156435489655,
          "y1": 6.078156435489655
         }
        ],
        "sliders": [
         {
          "active": 0,
          "pad": {
           "t": 50
          },
          "steps": [
           {
            "args": [
             {
              "marker.color": [
               [
                "red",
                "#B0BEC5",
                "#B0BEC5",
                "#B0BEC5",
                "#B0BEC5",
                "#B0BEC5",
                "#B0BEC5",
                "#B0BEC5",
                "#B0BEC5",
                "#B0BEC5",
                "#B0BEC5",
                "#B0BEC5",
                "#B0BEC5",
                "#B0BEC5",
                "#B0BEC5",
                "#B0BEC5",
                "#B0BEC5",
                "#B0BEC5",
                "#B0BEC5",
                "#B0BEC5",
                "#B0BEC5",
                "#B0BEC5",
                "#B0BEC5",
                "#B0BEC5",
                "#B0BEC5",
                "#B0BEC5",
                "#B0BEC5",
                "#B0BEC5",
                "#B0BEC5",
                "#B0BEC5",
                "#B0BEC5",
                "#B0BEC5",
                "#B0BEC5",
                "#B0BEC5",
                "#B0BEC5",
                "#B0BEC5",
                "#B0BEC5",
                "#B0BEC5",
                "#B0BEC5",
                "#B0BEC5",
                "#B0BEC5",
                "#B0BEC5",
                "#B0BEC5",
                "#B0BEC5",
                "#B0BEC5",
                "#B0BEC5",
                "#B0BEC5",
                "#B0BEC5",
                "#B0BEC5",
                "#B0BEC5",
                "#B0BEC5",
                "#B0BEC5",
                "#B0BEC5",
                "#B0BEC5",
                "#B0BEC5",
                "#B0BEC5",
                "#B0BEC5"
               ]
              ]
             }
            ],
            "label": "Topic 0",
            "method": "update"
           },
           {
            "args": [
             {
              "marker.color": [
               [
                "#B0BEC5",
                "red",
                "#B0BEC5",
                "#B0BEC5",
                "#B0BEC5",
                "#B0BEC5",
                "#B0BEC5",
                "#B0BEC5",
                "#B0BEC5",
                "#B0BEC5",
                "#B0BEC5",
                "#B0BEC5",
                "#B0BEC5",
                "#B0BEC5",
                "#B0BEC5",
                "#B0BEC5",
                "#B0BEC5",
                "#B0BEC5",
                "#B0BEC5",
                "#B0BEC5",
                "#B0BEC5",
                "#B0BEC5",
                "#B0BEC5",
                "#B0BEC5",
                "#B0BEC5",
                "#B0BEC5",
                "#B0BEC5",
                "#B0BEC5",
                "#B0BEC5",
                "#B0BEC5",
                "#B0BEC5",
                "#B0BEC5",
                "#B0BEC5",
                "#B0BEC5",
                "#B0BEC5",
                "#B0BEC5",
                "#B0BEC5",
                "#B0BEC5",
                "#B0BEC5",
                "#B0BEC5",
                "#B0BEC5",
                "#B0BEC5",
                "#B0BEC5",
                "#B0BEC5",
                "#B0BEC5",
                "#B0BEC5",
                "#B0BEC5",
                "#B0BEC5",
                "#B0BEC5",
                "#B0BEC5",
                "#B0BEC5",
                "#B0BEC5",
                "#B0BEC5",
                "#B0BEC5",
                "#B0BEC5",
                "#B0BEC5",
                "#B0BEC5"
               ]
              ]
             }
            ],
            "label": "Topic 1",
            "method": "update"
           },
           {
            "args": [
             {
              "marker.color": [
               [
                "#B0BEC5",
                "#B0BEC5",
                "red",
                "#B0BEC5",
                "#B0BEC5",
                "#B0BEC5",
                "#B0BEC5",
                "#B0BEC5",
                "#B0BEC5",
                "#B0BEC5",
                "#B0BEC5",
                "#B0BEC5",
                "#B0BEC5",
                "#B0BEC5",
                "#B0BEC5",
                "#B0BEC5",
                "#B0BEC5",
                "#B0BEC5",
                "#B0BEC5",
                "#B0BEC5",
                "#B0BEC5",
                "#B0BEC5",
                "#B0BEC5",
                "#B0BEC5",
                "#B0BEC5",
                "#B0BEC5",
                "#B0BEC5",
                "#B0BEC5",
                "#B0BEC5",
                "#B0BEC5",
                "#B0BEC5",
                "#B0BEC5",
                "#B0BEC5",
                "#B0BEC5",
                "#B0BEC5",
                "#B0BEC5",
                "#B0BEC5",
                "#B0BEC5",
                "#B0BEC5",
                "#B0BEC5",
                "#B0BEC5",
                "#B0BEC5",
                "#B0BEC5",
                "#B0BEC5",
                "#B0BEC5",
                "#B0BEC5",
                "#B0BEC5",
                "#B0BEC5",
                "#B0BEC5",
                "#B0BEC5",
                "#B0BEC5",
                "#B0BEC5",
                "#B0BEC5",
                "#B0BEC5",
                "#B0BEC5",
                "#B0BEC5",
                "#B0BEC5"
               ]
              ]
             }
            ],
            "label": "Topic 2",
            "method": "update"
           },
           {
            "args": [
             {
              "marker.color": [
               [
                "#B0BEC5",
                "#B0BEC5",
                "#B0BEC5",
                "red",
                "#B0BEC5",
                "#B0BEC5",
                "#B0BEC5",
                "#B0BEC5",
                "#B0BEC5",
                "#B0BEC5",
                "#B0BEC5",
                "#B0BEC5",
                "#B0BEC5",
                "#B0BEC5",
                "#B0BEC5",
                "#B0BEC5",
                "#B0BEC5",
                "#B0BEC5",
                "#B0BEC5",
                "#B0BEC5",
                "#B0BEC5",
                "#B0BEC5",
                "#B0BEC5",
                "#B0BEC5",
                "#B0BEC5",
                "#B0BEC5",
                "#B0BEC5",
                "#B0BEC5",
                "#B0BEC5",
                "#B0BEC5",
                "#B0BEC5",
                "#B0BEC5",
                "#B0BEC5",
                "#B0BEC5",
                "#B0BEC5",
                "#B0BEC5",
                "#B0BEC5",
                "#B0BEC5",
                "#B0BEC5",
                "#B0BEC5",
                "#B0BEC5",
                "#B0BEC5",
                "#B0BEC5",
                "#B0BEC5",
                "#B0BEC5",
                "#B0BEC5",
                "#B0BEC5",
                "#B0BEC5",
                "#B0BEC5",
                "#B0BEC5",
                "#B0BEC5",
                "#B0BEC5",
                "#B0BEC5",
                "#B0BEC5",
                "#B0BEC5",
                "#B0BEC5",
                "#B0BEC5"
               ]
              ]
             }
            ],
            "label": "Topic 3",
            "method": "update"
           },
           {
            "args": [
             {
              "marker.color": [
               [
                "#B0BEC5",
                "#B0BEC5",
                "#B0BEC5",
                "#B0BEC5",
                "red",
                "#B0BEC5",
                "#B0BEC5",
                "#B0BEC5",
                "#B0BEC5",
                "#B0BEC5",
                "#B0BEC5",
                "#B0BEC5",
                "#B0BEC5",
                "#B0BEC5",
                "#B0BEC5",
                "#B0BEC5",
                "#B0BEC5",
                "#B0BEC5",
                "#B0BEC5",
                "#B0BEC5",
                "#B0BEC5",
                "#B0BEC5",
                "#B0BEC5",
                "#B0BEC5",
                "#B0BEC5",
                "#B0BEC5",
                "#B0BEC5",
                "#B0BEC5",
                "#B0BEC5",
                "#B0BEC5",
                "#B0BEC5",
                "#B0BEC5",
                "#B0BEC5",
                "#B0BEC5",
                "#B0BEC5",
                "#B0BEC5",
                "#B0BEC5",
                "#B0BEC5",
                "#B0BEC5",
                "#B0BEC5",
                "#B0BEC5",
                "#B0BEC5",
                "#B0BEC5",
                "#B0BEC5",
                "#B0BEC5",
                "#B0BEC5",
                "#B0BEC5",
                "#B0BEC5",
                "#B0BEC5",
                "#B0BEC5",
                "#B0BEC5",
                "#B0BEC5",
                "#B0BEC5",
                "#B0BEC5",
                "#B0BEC5",
                "#B0BEC5",
                "#B0BEC5"
               ]
              ]
             }
            ],
            "label": "Topic 4",
            "method": "update"
           },
           {
            "args": [
             {
              "marker.color": [
               [
                "#B0BEC5",
                "#B0BEC5",
                "#B0BEC5",
                "#B0BEC5",
                "#B0BEC5",
                "red",
                "#B0BEC5",
                "#B0BEC5",
                "#B0BEC5",
                "#B0BEC5",
                "#B0BEC5",
                "#B0BEC5",
                "#B0BEC5",
                "#B0BEC5",
                "#B0BEC5",
                "#B0BEC5",
                "#B0BEC5",
                "#B0BEC5",
                "#B0BEC5",
                "#B0BEC5",
                "#B0BEC5",
                "#B0BEC5",
                "#B0BEC5",
                "#B0BEC5",
                "#B0BEC5",
                "#B0BEC5",
                "#B0BEC5",
                "#B0BEC5",
                "#B0BEC5",
                "#B0BEC5",
                "#B0BEC5",
                "#B0BEC5",
                "#B0BEC5",
                "#B0BEC5",
                "#B0BEC5",
                "#B0BEC5",
                "#B0BEC5",
                "#B0BEC5",
                "#B0BEC5",
                "#B0BEC5",
                "#B0BEC5",
                "#B0BEC5",
                "#B0BEC5",
                "#B0BEC5",
                "#B0BEC5",
                "#B0BEC5",
                "#B0BEC5",
                "#B0BEC5",
                "#B0BEC5",
                "#B0BEC5",
                "#B0BEC5",
                "#B0BEC5",
                "#B0BEC5",
                "#B0BEC5",
                "#B0BEC5",
                "#B0BEC5",
                "#B0BEC5"
               ]
              ]
             }
            ],
            "label": "Topic 5",
            "method": "update"
           },
           {
            "args": [
             {
              "marker.color": [
               [
                "#B0BEC5",
                "#B0BEC5",
                "#B0BEC5",
                "#B0BEC5",
                "#B0BEC5",
                "#B0BEC5",
                "red",
                "#B0BEC5",
                "#B0BEC5",
                "#B0BEC5",
                "#B0BEC5",
                "#B0BEC5",
                "#B0BEC5",
                "#B0BEC5",
                "#B0BEC5",
                "#B0BEC5",
                "#B0BEC5",
                "#B0BEC5",
                "#B0BEC5",
                "#B0BEC5",
                "#B0BEC5",
                "#B0BEC5",
                "#B0BEC5",
                "#B0BEC5",
                "#B0BEC5",
                "#B0BEC5",
                "#B0BEC5",
                "#B0BEC5",
                "#B0BEC5",
                "#B0BEC5",
                "#B0BEC5",
                "#B0BEC5",
                "#B0BEC5",
                "#B0BEC5",
                "#B0BEC5",
                "#B0BEC5",
                "#B0BEC5",
                "#B0BEC5",
                "#B0BEC5",
                "#B0BEC5",
                "#B0BEC5",
                "#B0BEC5",
                "#B0BEC5",
                "#B0BEC5",
                "#B0BEC5",
                "#B0BEC5",
                "#B0BEC5",
                "#B0BEC5",
                "#B0BEC5",
                "#B0BEC5",
                "#B0BEC5",
                "#B0BEC5",
                "#B0BEC5",
                "#B0BEC5",
                "#B0BEC5",
                "#B0BEC5",
                "#B0BEC5"
               ]
              ]
             }
            ],
            "label": "Topic 6",
            "method": "update"
           },
           {
            "args": [
             {
              "marker.color": [
               [
                "#B0BEC5",
                "#B0BEC5",
                "#B0BEC5",
                "#B0BEC5",
                "#B0BEC5",
                "#B0BEC5",
                "#B0BEC5",
                "red",
                "#B0BEC5",
                "#B0BEC5",
                "#B0BEC5",
                "#B0BEC5",
                "#B0BEC5",
                "#B0BEC5",
                "#B0BEC5",
                "#B0BEC5",
                "#B0BEC5",
                "#B0BEC5",
                "#B0BEC5",
                "#B0BEC5",
                "#B0BEC5",
                "#B0BEC5",
                "#B0BEC5",
                "#B0BEC5",
                "#B0BEC5",
                "#B0BEC5",
                "#B0BEC5",
                "#B0BEC5",
                "#B0BEC5",
                "#B0BEC5",
                "#B0BEC5",
                "#B0BEC5",
                "#B0BEC5",
                "#B0BEC5",
                "#B0BEC5",
                "#B0BEC5",
                "#B0BEC5",
                "#B0BEC5",
                "#B0BEC5",
                "#B0BEC5",
                "#B0BEC5",
                "#B0BEC5",
                "#B0BEC5",
                "#B0BEC5",
                "#B0BEC5",
                "#B0BEC5",
                "#B0BEC5",
                "#B0BEC5",
                "#B0BEC5",
                "#B0BEC5",
                "#B0BEC5",
                "#B0BEC5",
                "#B0BEC5",
                "#B0BEC5",
                "#B0BEC5",
                "#B0BEC5",
                "#B0BEC5"
               ]
              ]
             }
            ],
            "label": "Topic 7",
            "method": "update"
           },
           {
            "args": [
             {
              "marker.color": [
               [
                "#B0BEC5",
                "#B0BEC5",
                "#B0BEC5",
                "#B0BEC5",
                "#B0BEC5",
                "#B0BEC5",
                "#B0BEC5",
                "#B0BEC5",
                "red",
                "#B0BEC5",
                "#B0BEC5",
                "#B0BEC5",
                "#B0BEC5",
                "#B0BEC5",
                "#B0BEC5",
                "#B0BEC5",
                "#B0BEC5",
                "#B0BEC5",
                "#B0BEC5",
                "#B0BEC5",
                "#B0BEC5",
                "#B0BEC5",
                "#B0BEC5",
                "#B0BEC5",
                "#B0BEC5",
                "#B0BEC5",
                "#B0BEC5",
                "#B0BEC5",
                "#B0BEC5",
                "#B0BEC5",
                "#B0BEC5",
                "#B0BEC5",
                "#B0BEC5",
                "#B0BEC5",
                "#B0BEC5",
                "#B0BEC5",
                "#B0BEC5",
                "#B0BEC5",
                "#B0BEC5",
                "#B0BEC5",
                "#B0BEC5",
                "#B0BEC5",
                "#B0BEC5",
                "#B0BEC5",
                "#B0BEC5",
                "#B0BEC5",
                "#B0BEC5",
                "#B0BEC5",
                "#B0BEC5",
                "#B0BEC5",
                "#B0BEC5",
                "#B0BEC5",
                "#B0BEC5",
                "#B0BEC5",
                "#B0BEC5",
                "#B0BEC5",
                "#B0BEC5"
               ]
              ]
             }
            ],
            "label": "Topic 8",
            "method": "update"
           },
           {
            "args": [
             {
              "marker.color": [
               [
                "#B0BEC5",
                "#B0BEC5",
                "#B0BEC5",
                "#B0BEC5",
                "#B0BEC5",
                "#B0BEC5",
                "#B0BEC5",
                "#B0BEC5",
                "#B0BEC5",
                "red",
                "#B0BEC5",
                "#B0BEC5",
                "#B0BEC5",
                "#B0BEC5",
                "#B0BEC5",
                "#B0BEC5",
                "#B0BEC5",
                "#B0BEC5",
                "#B0BEC5",
                "#B0BEC5",
                "#B0BEC5",
                "#B0BEC5",
                "#B0BEC5",
                "#B0BEC5",
                "#B0BEC5",
                "#B0BEC5",
                "#B0BEC5",
                "#B0BEC5",
                "#B0BEC5",
                "#B0BEC5",
                "#B0BEC5",
                "#B0BEC5",
                "#B0BEC5",
                "#B0BEC5",
                "#B0BEC5",
                "#B0BEC5",
                "#B0BEC5",
                "#B0BEC5",
                "#B0BEC5",
                "#B0BEC5",
                "#B0BEC5",
                "#B0BEC5",
                "#B0BEC5",
                "#B0BEC5",
                "#B0BEC5",
                "#B0BEC5",
                "#B0BEC5",
                "#B0BEC5",
                "#B0BEC5",
                "#B0BEC5",
                "#B0BEC5",
                "#B0BEC5",
                "#B0BEC5",
                "#B0BEC5",
                "#B0BEC5",
                "#B0BEC5",
                "#B0BEC5"
               ]
              ]
             }
            ],
            "label": "Topic 9",
            "method": "update"
           },
           {
            "args": [
             {
              "marker.color": [
               [
                "#B0BEC5",
                "#B0BEC5",
                "#B0BEC5",
                "#B0BEC5",
                "#B0BEC5",
                "#B0BEC5",
                "#B0BEC5",
                "#B0BEC5",
                "#B0BEC5",
                "#B0BEC5",
                "red",
                "#B0BEC5",
                "#B0BEC5",
                "#B0BEC5",
                "#B0BEC5",
                "#B0BEC5",
                "#B0BEC5",
                "#B0BEC5",
                "#B0BEC5",
                "#B0BEC5",
                "#B0BEC5",
                "#B0BEC5",
                "#B0BEC5",
                "#B0BEC5",
                "#B0BEC5",
                "#B0BEC5",
                "#B0BEC5",
                "#B0BEC5",
                "#B0BEC5",
                "#B0BEC5",
                "#B0BEC5",
                "#B0BEC5",
                "#B0BEC5",
                "#B0BEC5",
                "#B0BEC5",
                "#B0BEC5",
                "#B0BEC5",
                "#B0BEC5",
                "#B0BEC5",
                "#B0BEC5",
                "#B0BEC5",
                "#B0BEC5",
                "#B0BEC5",
                "#B0BEC5",
                "#B0BEC5",
                "#B0BEC5",
                "#B0BEC5",
                "#B0BEC5",
                "#B0BEC5",
                "#B0BEC5",
                "#B0BEC5",
                "#B0BEC5",
                "#B0BEC5",
                "#B0BEC5",
                "#B0BEC5",
                "#B0BEC5",
                "#B0BEC5"
               ]
              ]
             }
            ],
            "label": "Topic 10",
            "method": "update"
           },
           {
            "args": [
             {
              "marker.color": [
               [
                "#B0BEC5",
                "#B0BEC5",
                "#B0BEC5",
                "#B0BEC5",
                "#B0BEC5",
                "#B0BEC5",
                "#B0BEC5",
                "#B0BEC5",
                "#B0BEC5",
                "#B0BEC5",
                "#B0BEC5",
                "red",
                "#B0BEC5",
                "#B0BEC5",
                "#B0BEC5",
                "#B0BEC5",
                "#B0BEC5",
                "#B0BEC5",
                "#B0BEC5",
                "#B0BEC5",
                "#B0BEC5",
                "#B0BEC5",
                "#B0BEC5",
                "#B0BEC5",
                "#B0BEC5",
                "#B0BEC5",
                "#B0BEC5",
                "#B0BEC5",
                "#B0BEC5",
                "#B0BEC5",
                "#B0BEC5",
                "#B0BEC5",
                "#B0BEC5",
                "#B0BEC5",
                "#B0BEC5",
                "#B0BEC5",
                "#B0BEC5",
                "#B0BEC5",
                "#B0BEC5",
                "#B0BEC5",
                "#B0BEC5",
                "#B0BEC5",
                "#B0BEC5",
                "#B0BEC5",
                "#B0BEC5",
                "#B0BEC5",
                "#B0BEC5",
                "#B0BEC5",
                "#B0BEC5",
                "#B0BEC5",
                "#B0BEC5",
                "#B0BEC5",
                "#B0BEC5",
                "#B0BEC5",
                "#B0BEC5",
                "#B0BEC5",
                "#B0BEC5"
               ]
              ]
             }
            ],
            "label": "Topic 11",
            "method": "update"
           },
           {
            "args": [
             {
              "marker.color": [
               [
                "#B0BEC5",
                "#B0BEC5",
                "#B0BEC5",
                "#B0BEC5",
                "#B0BEC5",
                "#B0BEC5",
                "#B0BEC5",
                "#B0BEC5",
                "#B0BEC5",
                "#B0BEC5",
                "#B0BEC5",
                "#B0BEC5",
                "red",
                "#B0BEC5",
                "#B0BEC5",
                "#B0BEC5",
                "#B0BEC5",
                "#B0BEC5",
                "#B0BEC5",
                "#B0BEC5",
                "#B0BEC5",
                "#B0BEC5",
                "#B0BEC5",
                "#B0BEC5",
                "#B0BEC5",
                "#B0BEC5",
                "#B0BEC5",
                "#B0BEC5",
                "#B0BEC5",
                "#B0BEC5",
                "#B0BEC5",
                "#B0BEC5",
                "#B0BEC5",
                "#B0BEC5",
                "#B0BEC5",
                "#B0BEC5",
                "#B0BEC5",
                "#B0BEC5",
                "#B0BEC5",
                "#B0BEC5",
                "#B0BEC5",
                "#B0BEC5",
                "#B0BEC5",
                "#B0BEC5",
                "#B0BEC5",
                "#B0BEC5",
                "#B0BEC5",
                "#B0BEC5",
                "#B0BEC5",
                "#B0BEC5",
                "#B0BEC5",
                "#B0BEC5",
                "#B0BEC5",
                "#B0BEC5",
                "#B0BEC5",
                "#B0BEC5",
                "#B0BEC5"
               ]
              ]
             }
            ],
            "label": "Topic 12",
            "method": "update"
           },
           {
            "args": [
             {
              "marker.color": [
               [
                "#B0BEC5",
                "#B0BEC5",
                "#B0BEC5",
                "#B0BEC5",
                "#B0BEC5",
                "#B0BEC5",
                "#B0BEC5",
                "#B0BEC5",
                "#B0BEC5",
                "#B0BEC5",
                "#B0BEC5",
                "#B0BEC5",
                "#B0BEC5",
                "red",
                "#B0BEC5",
                "#B0BEC5",
                "#B0BEC5",
                "#B0BEC5",
                "#B0BEC5",
                "#B0BEC5",
                "#B0BEC5",
                "#B0BEC5",
                "#B0BEC5",
                "#B0BEC5",
                "#B0BEC5",
                "#B0BEC5",
                "#B0BEC5",
                "#B0BEC5",
                "#B0BEC5",
                "#B0BEC5",
                "#B0BEC5",
                "#B0BEC5",
                "#B0BEC5",
                "#B0BEC5",
                "#B0BEC5",
                "#B0BEC5",
                "#B0BEC5",
                "#B0BEC5",
                "#B0BEC5",
                "#B0BEC5",
                "#B0BEC5",
                "#B0BEC5",
                "#B0BEC5",
                "#B0BEC5",
                "#B0BEC5",
                "#B0BEC5",
                "#B0BEC5",
                "#B0BEC5",
                "#B0BEC5",
                "#B0BEC5",
                "#B0BEC5",
                "#B0BEC5",
                "#B0BEC5",
                "#B0BEC5",
                "#B0BEC5",
                "#B0BEC5",
                "#B0BEC5"
               ]
              ]
             }
            ],
            "label": "Topic 13",
            "method": "update"
           },
           {
            "args": [
             {
              "marker.color": [
               [
                "#B0BEC5",
                "#B0BEC5",
                "#B0BEC5",
                "#B0BEC5",
                "#B0BEC5",
                "#B0BEC5",
                "#B0BEC5",
                "#B0BEC5",
                "#B0BEC5",
                "#B0BEC5",
                "#B0BEC5",
                "#B0BEC5",
                "#B0BEC5",
                "#B0BEC5",
                "red",
                "#B0BEC5",
                "#B0BEC5",
                "#B0BEC5",
                "#B0BEC5",
                "#B0BEC5",
                "#B0BEC5",
                "#B0BEC5",
                "#B0BEC5",
                "#B0BEC5",
                "#B0BEC5",
                "#B0BEC5",
                "#B0BEC5",
                "#B0BEC5",
                "#B0BEC5",
                "#B0BEC5",
                "#B0BEC5",
                "#B0BEC5",
                "#B0BEC5",
                "#B0BEC5",
                "#B0BEC5",
                "#B0BEC5",
                "#B0BEC5",
                "#B0BEC5",
                "#B0BEC5",
                "#B0BEC5",
                "#B0BEC5",
                "#B0BEC5",
                "#B0BEC5",
                "#B0BEC5",
                "#B0BEC5",
                "#B0BEC5",
                "#B0BEC5",
                "#B0BEC5",
                "#B0BEC5",
                "#B0BEC5",
                "#B0BEC5",
                "#B0BEC5",
                "#B0BEC5",
                "#B0BEC5",
                "#B0BEC5",
                "#B0BEC5",
                "#B0BEC5"
               ]
              ]
             }
            ],
            "label": "Topic 14",
            "method": "update"
           },
           {
            "args": [
             {
              "marker.color": [
               [
                "#B0BEC5",
                "#B0BEC5",
                "#B0BEC5",
                "#B0BEC5",
                "#B0BEC5",
                "#B0BEC5",
                "#B0BEC5",
                "#B0BEC5",
                "#B0BEC5",
                "#B0BEC5",
                "#B0BEC5",
                "#B0BEC5",
                "#B0BEC5",
                "#B0BEC5",
                "#B0BEC5",
                "red",
                "#B0BEC5",
                "#B0BEC5",
                "#B0BEC5",
                "#B0BEC5",
                "#B0BEC5",
                "#B0BEC5",
                "#B0BEC5",
                "#B0BEC5",
                "#B0BEC5",
                "#B0BEC5",
                "#B0BEC5",
                "#B0BEC5",
                "#B0BEC5",
                "#B0BEC5",
                "#B0BEC5",
                "#B0BEC5",
                "#B0BEC5",
                "#B0BEC5",
                "#B0BEC5",
                "#B0BEC5",
                "#B0BEC5",
                "#B0BEC5",
                "#B0BEC5",
                "#B0BEC5",
                "#B0BEC5",
                "#B0BEC5",
                "#B0BEC5",
                "#B0BEC5",
                "#B0BEC5",
                "#B0BEC5",
                "#B0BEC5",
                "#B0BEC5",
                "#B0BEC5",
                "#B0BEC5",
                "#B0BEC5",
                "#B0BEC5",
                "#B0BEC5",
                "#B0BEC5",
                "#B0BEC5",
                "#B0BEC5",
                "#B0BEC5"
               ]
              ]
             }
            ],
            "label": "Topic 15",
            "method": "update"
           },
           {
            "args": [
             {
              "marker.color": [
               [
                "#B0BEC5",
                "#B0BEC5",
                "#B0BEC5",
                "#B0BEC5",
                "#B0BEC5",
                "#B0BEC5",
                "#B0BEC5",
                "#B0BEC5",
                "#B0BEC5",
                "#B0BEC5",
                "#B0BEC5",
                "#B0BEC5",
                "#B0BEC5",
                "#B0BEC5",
                "#B0BEC5",
                "#B0BEC5",
                "red",
                "#B0BEC5",
                "#B0BEC5",
                "#B0BEC5",
                "#B0BEC5",
                "#B0BEC5",
                "#B0BEC5",
                "#B0BEC5",
                "#B0BEC5",
                "#B0BEC5",
                "#B0BEC5",
                "#B0BEC5",
                "#B0BEC5",
                "#B0BEC5",
                "#B0BEC5",
                "#B0BEC5",
                "#B0BEC5",
                "#B0BEC5",
                "#B0BEC5",
                "#B0BEC5",
                "#B0BEC5",
                "#B0BEC5",
                "#B0BEC5",
                "#B0BEC5",
                "#B0BEC5",
                "#B0BEC5",
                "#B0BEC5",
                "#B0BEC5",
                "#B0BEC5",
                "#B0BEC5",
                "#B0BEC5",
                "#B0BEC5",
                "#B0BEC5",
                "#B0BEC5",
                "#B0BEC5",
                "#B0BEC5",
                "#B0BEC5",
                "#B0BEC5",
                "#B0BEC5",
                "#B0BEC5",
                "#B0BEC5"
               ]
              ]
             }
            ],
            "label": "Topic 16",
            "method": "update"
           },
           {
            "args": [
             {
              "marker.color": [
               [
                "#B0BEC5",
                "#B0BEC5",
                "#B0BEC5",
                "#B0BEC5",
                "#B0BEC5",
                "#B0BEC5",
                "#B0BEC5",
                "#B0BEC5",
                "#B0BEC5",
                "#B0BEC5",
                "#B0BEC5",
                "#B0BEC5",
                "#B0BEC5",
                "#B0BEC5",
                "#B0BEC5",
                "#B0BEC5",
                "#B0BEC5",
                "red",
                "#B0BEC5",
                "#B0BEC5",
                "#B0BEC5",
                "#B0BEC5",
                "#B0BEC5",
                "#B0BEC5",
                "#B0BEC5",
                "#B0BEC5",
                "#B0BEC5",
                "#B0BEC5",
                "#B0BEC5",
                "#B0BEC5",
                "#B0BEC5",
                "#B0BEC5",
                "#B0BEC5",
                "#B0BEC5",
                "#B0BEC5",
                "#B0BEC5",
                "#B0BEC5",
                "#B0BEC5",
                "#B0BEC5",
                "#B0BEC5",
                "#B0BEC5",
                "#B0BEC5",
                "#B0BEC5",
                "#B0BEC5",
                "#B0BEC5",
                "#B0BEC5",
                "#B0BEC5",
                "#B0BEC5",
                "#B0BEC5",
                "#B0BEC5",
                "#B0BEC5",
                "#B0BEC5",
                "#B0BEC5",
                "#B0BEC5",
                "#B0BEC5",
                "#B0BEC5",
                "#B0BEC5"
               ]
              ]
             }
            ],
            "label": "Topic 17",
            "method": "update"
           },
           {
            "args": [
             {
              "marker.color": [
               [
                "#B0BEC5",
                "#B0BEC5",
                "#B0BEC5",
                "#B0BEC5",
                "#B0BEC5",
                "#B0BEC5",
                "#B0BEC5",
                "#B0BEC5",
                "#B0BEC5",
                "#B0BEC5",
                "#B0BEC5",
                "#B0BEC5",
                "#B0BEC5",
                "#B0BEC5",
                "#B0BEC5",
                "#B0BEC5",
                "#B0BEC5",
                "#B0BEC5",
                "red",
                "#B0BEC5",
                "#B0BEC5",
                "#B0BEC5",
                "#B0BEC5",
                "#B0BEC5",
                "#B0BEC5",
                "#B0BEC5",
                "#B0BEC5",
                "#B0BEC5",
                "#B0BEC5",
                "#B0BEC5",
                "#B0BEC5",
                "#B0BEC5",
                "#B0BEC5",
                "#B0BEC5",
                "#B0BEC5",
                "#B0BEC5",
                "#B0BEC5",
                "#B0BEC5",
                "#B0BEC5",
                "#B0BEC5",
                "#B0BEC5",
                "#B0BEC5",
                "#B0BEC5",
                "#B0BEC5",
                "#B0BEC5",
                "#B0BEC5",
                "#B0BEC5",
                "#B0BEC5",
                "#B0BEC5",
                "#B0BEC5",
                "#B0BEC5",
                "#B0BEC5",
                "#B0BEC5",
                "#B0BEC5",
                "#B0BEC5",
                "#B0BEC5",
                "#B0BEC5"
               ]
              ]
             }
            ],
            "label": "Topic 18",
            "method": "update"
           },
           {
            "args": [
             {
              "marker.color": [
               [
                "#B0BEC5",
                "#B0BEC5",
                "#B0BEC5",
                "#B0BEC5",
                "#B0BEC5",
                "#B0BEC5",
                "#B0BEC5",
                "#B0BEC5",
                "#B0BEC5",
                "#B0BEC5",
                "#B0BEC5",
                "#B0BEC5",
                "#B0BEC5",
                "#B0BEC5",
                "#B0BEC5",
                "#B0BEC5",
                "#B0BEC5",
                "#B0BEC5",
                "#B0BEC5",
                "red",
                "#B0BEC5",
                "#B0BEC5",
                "#B0BEC5",
                "#B0BEC5",
                "#B0BEC5",
                "#B0BEC5",
                "#B0BEC5",
                "#B0BEC5",
                "#B0BEC5",
                "#B0BEC5",
                "#B0BEC5",
                "#B0BEC5",
                "#B0BEC5",
                "#B0BEC5",
                "#B0BEC5",
                "#B0BEC5",
                "#B0BEC5",
                "#B0BEC5",
                "#B0BEC5",
                "#B0BEC5",
                "#B0BEC5",
                "#B0BEC5",
                "#B0BEC5",
                "#B0BEC5",
                "#B0BEC5",
                "#B0BEC5",
                "#B0BEC5",
                "#B0BEC5",
                "#B0BEC5",
                "#B0BEC5",
                "#B0BEC5",
                "#B0BEC5",
                "#B0BEC5",
                "#B0BEC5",
                "#B0BEC5",
                "#B0BEC5",
                "#B0BEC5"
               ]
              ]
             }
            ],
            "label": "Topic 19",
            "method": "update"
           },
           {
            "args": [
             {
              "marker.color": [
               [
                "#B0BEC5",
                "#B0BEC5",
                "#B0BEC5",
                "#B0BEC5",
                "#B0BEC5",
                "#B0BEC5",
                "#B0BEC5",
                "#B0BEC5",
                "#B0BEC5",
                "#B0BEC5",
                "#B0BEC5",
                "#B0BEC5",
                "#B0BEC5",
                "#B0BEC5",
                "#B0BEC5",
                "#B0BEC5",
                "#B0BEC5",
                "#B0BEC5",
                "#B0BEC5",
                "#B0BEC5",
                "red",
                "#B0BEC5",
                "#B0BEC5",
                "#B0BEC5",
                "#B0BEC5",
                "#B0BEC5",
                "#B0BEC5",
                "#B0BEC5",
                "#B0BEC5",
                "#B0BEC5",
                "#B0BEC5",
                "#B0BEC5",
                "#B0BEC5",
                "#B0BEC5",
                "#B0BEC5",
                "#B0BEC5",
                "#B0BEC5",
                "#B0BEC5",
                "#B0BEC5",
                "#B0BEC5",
                "#B0BEC5",
                "#B0BEC5",
                "#B0BEC5",
                "#B0BEC5",
                "#B0BEC5",
                "#B0BEC5",
                "#B0BEC5",
                "#B0BEC5",
                "#B0BEC5",
                "#B0BEC5",
                "#B0BEC5",
                "#B0BEC5",
                "#B0BEC5",
                "#B0BEC5",
                "#B0BEC5",
                "#B0BEC5",
                "#B0BEC5"
               ]
              ]
             }
            ],
            "label": "Topic 20",
            "method": "update"
           },
           {
            "args": [
             {
              "marker.color": [
               [
                "#B0BEC5",
                "#B0BEC5",
                "#B0BEC5",
                "#B0BEC5",
                "#B0BEC5",
                "#B0BEC5",
                "#B0BEC5",
                "#B0BEC5",
                "#B0BEC5",
                "#B0BEC5",
                "#B0BEC5",
                "#B0BEC5",
                "#B0BEC5",
                "#B0BEC5",
                "#B0BEC5",
                "#B0BEC5",
                "#B0BEC5",
                "#B0BEC5",
                "#B0BEC5",
                "#B0BEC5",
                "#B0BEC5",
                "red",
                "#B0BEC5",
                "#B0BEC5",
                "#B0BEC5",
                "#B0BEC5",
                "#B0BEC5",
                "#B0BEC5",
                "#B0BEC5",
                "#B0BEC5",
                "#B0BEC5",
                "#B0BEC5",
                "#B0BEC5",
                "#B0BEC5",
                "#B0BEC5",
                "#B0BEC5",
                "#B0BEC5",
                "#B0BEC5",
                "#B0BEC5",
                "#B0BEC5",
                "#B0BEC5",
                "#B0BEC5",
                "#B0BEC5",
                "#B0BEC5",
                "#B0BEC5",
                "#B0BEC5",
                "#B0BEC5",
                "#B0BEC5",
                "#B0BEC5",
                "#B0BEC5",
                "#B0BEC5",
                "#B0BEC5",
                "#B0BEC5",
                "#B0BEC5",
                "#B0BEC5",
                "#B0BEC5",
                "#B0BEC5"
               ]
              ]
             }
            ],
            "label": "Topic 21",
            "method": "update"
           },
           {
            "args": [
             {
              "marker.color": [
               [
                "#B0BEC5",
                "#B0BEC5",
                "#B0BEC5",
                "#B0BEC5",
                "#B0BEC5",
                "#B0BEC5",
                "#B0BEC5",
                "#B0BEC5",
                "#B0BEC5",
                "#B0BEC5",
                "#B0BEC5",
                "#B0BEC5",
                "#B0BEC5",
                "#B0BEC5",
                "#B0BEC5",
                "#B0BEC5",
                "#B0BEC5",
                "#B0BEC5",
                "#B0BEC5",
                "#B0BEC5",
                "#B0BEC5",
                "#B0BEC5",
                "red",
                "#B0BEC5",
                "#B0BEC5",
                "#B0BEC5",
                "#B0BEC5",
                "#B0BEC5",
                "#B0BEC5",
                "#B0BEC5",
                "#B0BEC5",
                "#B0BEC5",
                "#B0BEC5",
                "#B0BEC5",
                "#B0BEC5",
                "#B0BEC5",
                "#B0BEC5",
                "#B0BEC5",
                "#B0BEC5",
                "#B0BEC5",
                "#B0BEC5",
                "#B0BEC5",
                "#B0BEC5",
                "#B0BEC5",
                "#B0BEC5",
                "#B0BEC5",
                "#B0BEC5",
                "#B0BEC5",
                "#B0BEC5",
                "#B0BEC5",
                "#B0BEC5",
                "#B0BEC5",
                "#B0BEC5",
                "#B0BEC5",
                "#B0BEC5",
                "#B0BEC5",
                "#B0BEC5"
               ]
              ]
             }
            ],
            "label": "Topic 22",
            "method": "update"
           },
           {
            "args": [
             {
              "marker.color": [
               [
                "#B0BEC5",
                "#B0BEC5",
                "#B0BEC5",
                "#B0BEC5",
                "#B0BEC5",
                "#B0BEC5",
                "#B0BEC5",
                "#B0BEC5",
                "#B0BEC5",
                "#B0BEC5",
                "#B0BEC5",
                "#B0BEC5",
                "#B0BEC5",
                "#B0BEC5",
                "#B0BEC5",
                "#B0BEC5",
                "#B0BEC5",
                "#B0BEC5",
                "#B0BEC5",
                "#B0BEC5",
                "#B0BEC5",
                "#B0BEC5",
                "#B0BEC5",
                "red",
                "#B0BEC5",
                "#B0BEC5",
                "#B0BEC5",
                "#B0BEC5",
                "#B0BEC5",
                "#B0BEC5",
                "#B0BEC5",
                "#B0BEC5",
                "#B0BEC5",
                "#B0BEC5",
                "#B0BEC5",
                "#B0BEC5",
                "#B0BEC5",
                "#B0BEC5",
                "#B0BEC5",
                "#B0BEC5",
                "#B0BEC5",
                "#B0BEC5",
                "#B0BEC5",
                "#B0BEC5",
                "#B0BEC5",
                "#B0BEC5",
                "#B0BEC5",
                "#B0BEC5",
                "#B0BEC5",
                "#B0BEC5",
                "#B0BEC5",
                "#B0BEC5",
                "#B0BEC5",
                "#B0BEC5",
                "#B0BEC5",
                "#B0BEC5",
                "#B0BEC5"
               ]
              ]
             }
            ],
            "label": "Topic 23",
            "method": "update"
           },
           {
            "args": [
             {
              "marker.color": [
               [
                "#B0BEC5",
                "#B0BEC5",
                "#B0BEC5",
                "#B0BEC5",
                "#B0BEC5",
                "#B0BEC5",
                "#B0BEC5",
                "#B0BEC5",
                "#B0BEC5",
                "#B0BEC5",
                "#B0BEC5",
                "#B0BEC5",
                "#B0BEC5",
                "#B0BEC5",
                "#B0BEC5",
                "#B0BEC5",
                "#B0BEC5",
                "#B0BEC5",
                "#B0BEC5",
                "#B0BEC5",
                "#B0BEC5",
                "#B0BEC5",
                "#B0BEC5",
                "#B0BEC5",
                "red",
                "#B0BEC5",
                "#B0BEC5",
                "#B0BEC5",
                "#B0BEC5",
                "#B0BEC5",
                "#B0BEC5",
                "#B0BEC5",
                "#B0BEC5",
                "#B0BEC5",
                "#B0BEC5",
                "#B0BEC5",
                "#B0BEC5",
                "#B0BEC5",
                "#B0BEC5",
                "#B0BEC5",
                "#B0BEC5",
                "#B0BEC5",
                "#B0BEC5",
                "#B0BEC5",
                "#B0BEC5",
                "#B0BEC5",
                "#B0BEC5",
                "#B0BEC5",
                "#B0BEC5",
                "#B0BEC5",
                "#B0BEC5",
                "#B0BEC5",
                "#B0BEC5",
                "#B0BEC5",
                "#B0BEC5",
                "#B0BEC5",
                "#B0BEC5"
               ]
              ]
             }
            ],
            "label": "Topic 24",
            "method": "update"
           },
           {
            "args": [
             {
              "marker.color": [
               [
                "#B0BEC5",
                "#B0BEC5",
                "#B0BEC5",
                "#B0BEC5",
                "#B0BEC5",
                "#B0BEC5",
                "#B0BEC5",
                "#B0BEC5",
                "#B0BEC5",
                "#B0BEC5",
                "#B0BEC5",
                "#B0BEC5",
                "#B0BEC5",
                "#B0BEC5",
                "#B0BEC5",
                "#B0BEC5",
                "#B0BEC5",
                "#B0BEC5",
                "#B0BEC5",
                "#B0BEC5",
                "#B0BEC5",
                "#B0BEC5",
                "#B0BEC5",
                "#B0BEC5",
                "#B0BEC5",
                "red",
                "#B0BEC5",
                "#B0BEC5",
                "#B0BEC5",
                "#B0BEC5",
                "#B0BEC5",
                "#B0BEC5",
                "#B0BEC5",
                "#B0BEC5",
                "#B0BEC5",
                "#B0BEC5",
                "#B0BEC5",
                "#B0BEC5",
                "#B0BEC5",
                "#B0BEC5",
                "#B0BEC5",
                "#B0BEC5",
                "#B0BEC5",
                "#B0BEC5",
                "#B0BEC5",
                "#B0BEC5",
                "#B0BEC5",
                "#B0BEC5",
                "#B0BEC5",
                "#B0BEC5",
                "#B0BEC5",
                "#B0BEC5",
                "#B0BEC5",
                "#B0BEC5",
                "#B0BEC5",
                "#B0BEC5",
                "#B0BEC5"
               ]
              ]
             }
            ],
            "label": "Topic 25",
            "method": "update"
           },
           {
            "args": [
             {
              "marker.color": [
               [
                "#B0BEC5",
                "#B0BEC5",
                "#B0BEC5",
                "#B0BEC5",
                "#B0BEC5",
                "#B0BEC5",
                "#B0BEC5",
                "#B0BEC5",
                "#B0BEC5",
                "#B0BEC5",
                "#B0BEC5",
                "#B0BEC5",
                "#B0BEC5",
                "#B0BEC5",
                "#B0BEC5",
                "#B0BEC5",
                "#B0BEC5",
                "#B0BEC5",
                "#B0BEC5",
                "#B0BEC5",
                "#B0BEC5",
                "#B0BEC5",
                "#B0BEC5",
                "#B0BEC5",
                "#B0BEC5",
                "#B0BEC5",
                "red",
                "#B0BEC5",
                "#B0BEC5",
                "#B0BEC5",
                "#B0BEC5",
                "#B0BEC5",
                "#B0BEC5",
                "#B0BEC5",
                "#B0BEC5",
                "#B0BEC5",
                "#B0BEC5",
                "#B0BEC5",
                "#B0BEC5",
                "#B0BEC5",
                "#B0BEC5",
                "#B0BEC5",
                "#B0BEC5",
                "#B0BEC5",
                "#B0BEC5",
                "#B0BEC5",
                "#B0BEC5",
                "#B0BEC5",
                "#B0BEC5",
                "#B0BEC5",
                "#B0BEC5",
                "#B0BEC5",
                "#B0BEC5",
                "#B0BEC5",
                "#B0BEC5",
                "#B0BEC5",
                "#B0BEC5"
               ]
              ]
             }
            ],
            "label": "Topic 26",
            "method": "update"
           },
           {
            "args": [
             {
              "marker.color": [
               [
                "#B0BEC5",
                "#B0BEC5",
                "#B0BEC5",
                "#B0BEC5",
                "#B0BEC5",
                "#B0BEC5",
                "#B0BEC5",
                "#B0BEC5",
                "#B0BEC5",
                "#B0BEC5",
                "#B0BEC5",
                "#B0BEC5",
                "#B0BEC5",
                "#B0BEC5",
                "#B0BEC5",
                "#B0BEC5",
                "#B0BEC5",
                "#B0BEC5",
                "#B0BEC5",
                "#B0BEC5",
                "#B0BEC5",
                "#B0BEC5",
                "#B0BEC5",
                "#B0BEC5",
                "#B0BEC5",
                "#B0BEC5",
                "#B0BEC5",
                "red",
                "#B0BEC5",
                "#B0BEC5",
                "#B0BEC5",
                "#B0BEC5",
                "#B0BEC5",
                "#B0BEC5",
                "#B0BEC5",
                "#B0BEC5",
                "#B0BEC5",
                "#B0BEC5",
                "#B0BEC5",
                "#B0BEC5",
                "#B0BEC5",
                "#B0BEC5",
                "#B0BEC5",
                "#B0BEC5",
                "#B0BEC5",
                "#B0BEC5",
                "#B0BEC5",
                "#B0BEC5",
                "#B0BEC5",
                "#B0BEC5",
                "#B0BEC5",
                "#B0BEC5",
                "#B0BEC5",
                "#B0BEC5",
                "#B0BEC5",
                "#B0BEC5",
                "#B0BEC5"
               ]
              ]
             }
            ],
            "label": "Topic 27",
            "method": "update"
           },
           {
            "args": [
             {
              "marker.color": [
               [
                "#B0BEC5",
                "#B0BEC5",
                "#B0BEC5",
                "#B0BEC5",
                "#B0BEC5",
                "#B0BEC5",
                "#B0BEC5",
                "#B0BEC5",
                "#B0BEC5",
                "#B0BEC5",
                "#B0BEC5",
                "#B0BEC5",
                "#B0BEC5",
                "#B0BEC5",
                "#B0BEC5",
                "#B0BEC5",
                "#B0BEC5",
                "#B0BEC5",
                "#B0BEC5",
                "#B0BEC5",
                "#B0BEC5",
                "#B0BEC5",
                "#B0BEC5",
                "#B0BEC5",
                "#B0BEC5",
                "#B0BEC5",
                "#B0BEC5",
                "#B0BEC5",
                "red",
                "#B0BEC5",
                "#B0BEC5",
                "#B0BEC5",
                "#B0BEC5",
                "#B0BEC5",
                "#B0BEC5",
                "#B0BEC5",
                "#B0BEC5",
                "#B0BEC5",
                "#B0BEC5",
                "#B0BEC5",
                "#B0BEC5",
                "#B0BEC5",
                "#B0BEC5",
                "#B0BEC5",
                "#B0BEC5",
                "#B0BEC5",
                "#B0BEC5",
                "#B0BEC5",
                "#B0BEC5",
                "#B0BEC5",
                "#B0BEC5",
                "#B0BEC5",
                "#B0BEC5",
                "#B0BEC5",
                "#B0BEC5",
                "#B0BEC5",
                "#B0BEC5"
               ]
              ]
             }
            ],
            "label": "Topic 28",
            "method": "update"
           },
           {
            "args": [
             {
              "marker.color": [
               [
                "#B0BEC5",
                "#B0BEC5",
                "#B0BEC5",
                "#B0BEC5",
                "#B0BEC5",
                "#B0BEC5",
                "#B0BEC5",
                "#B0BEC5",
                "#B0BEC5",
                "#B0BEC5",
                "#B0BEC5",
                "#B0BEC5",
                "#B0BEC5",
                "#B0BEC5",
                "#B0BEC5",
                "#B0BEC5",
                "#B0BEC5",
                "#B0BEC5",
                "#B0BEC5",
                "#B0BEC5",
                "#B0BEC5",
                "#B0BEC5",
                "#B0BEC5",
                "#B0BEC5",
                "#B0BEC5",
                "#B0BEC5",
                "#B0BEC5",
                "#B0BEC5",
                "#B0BEC5",
                "red",
                "#B0BEC5",
                "#B0BEC5",
                "#B0BEC5",
                "#B0BEC5",
                "#B0BEC5",
                "#B0BEC5",
                "#B0BEC5",
                "#B0BEC5",
                "#B0BEC5",
                "#B0BEC5",
                "#B0BEC5",
                "#B0BEC5",
                "#B0BEC5",
                "#B0BEC5",
                "#B0BEC5",
                "#B0BEC5",
                "#B0BEC5",
                "#B0BEC5",
                "#B0BEC5",
                "#B0BEC5",
                "#B0BEC5",
                "#B0BEC5",
                "#B0BEC5",
                "#B0BEC5",
                "#B0BEC5",
                "#B0BEC5",
                "#B0BEC5"
               ]
              ]
             }
            ],
            "label": "Topic 29",
            "method": "update"
           },
           {
            "args": [
             {
              "marker.color": [
               [
                "#B0BEC5",
                "#B0BEC5",
                "#B0BEC5",
                "#B0BEC5",
                "#B0BEC5",
                "#B0BEC5",
                "#B0BEC5",
                "#B0BEC5",
                "#B0BEC5",
                "#B0BEC5",
                "#B0BEC5",
                "#B0BEC5",
                "#B0BEC5",
                "#B0BEC5",
                "#B0BEC5",
                "#B0BEC5",
                "#B0BEC5",
                "#B0BEC5",
                "#B0BEC5",
                "#B0BEC5",
                "#B0BEC5",
                "#B0BEC5",
                "#B0BEC5",
                "#B0BEC5",
                "#B0BEC5",
                "#B0BEC5",
                "#B0BEC5",
                "#B0BEC5",
                "#B0BEC5",
                "#B0BEC5",
                "red",
                "#B0BEC5",
                "#B0BEC5",
                "#B0BEC5",
                "#B0BEC5",
                "#B0BEC5",
                "#B0BEC5",
                "#B0BEC5",
                "#B0BEC5",
                "#B0BEC5",
                "#B0BEC5",
                "#B0BEC5",
                "#B0BEC5",
                "#B0BEC5",
                "#B0BEC5",
                "#B0BEC5",
                "#B0BEC5",
                "#B0BEC5",
                "#B0BEC5",
                "#B0BEC5",
                "#B0BEC5",
                "#B0BEC5",
                "#B0BEC5",
                "#B0BEC5",
                "#B0BEC5",
                "#B0BEC5",
                "#B0BEC5"
               ]
              ]
             }
            ],
            "label": "Topic 30",
            "method": "update"
           },
           {
            "args": [
             {
              "marker.color": [
               [
                "#B0BEC5",
                "#B0BEC5",
                "#B0BEC5",
                "#B0BEC5",
                "#B0BEC5",
                "#B0BEC5",
                "#B0BEC5",
                "#B0BEC5",
                "#B0BEC5",
                "#B0BEC5",
                "#B0BEC5",
                "#B0BEC5",
                "#B0BEC5",
                "#B0BEC5",
                "#B0BEC5",
                "#B0BEC5",
                "#B0BEC5",
                "#B0BEC5",
                "#B0BEC5",
                "#B0BEC5",
                "#B0BEC5",
                "#B0BEC5",
                "#B0BEC5",
                "#B0BEC5",
                "#B0BEC5",
                "#B0BEC5",
                "#B0BEC5",
                "#B0BEC5",
                "#B0BEC5",
                "#B0BEC5",
                "#B0BEC5",
                "red",
                "#B0BEC5",
                "#B0BEC5",
                "#B0BEC5",
                "#B0BEC5",
                "#B0BEC5",
                "#B0BEC5",
                "#B0BEC5",
                "#B0BEC5",
                "#B0BEC5",
                "#B0BEC5",
                "#B0BEC5",
                "#B0BEC5",
                "#B0BEC5",
                "#B0BEC5",
                "#B0BEC5",
                "#B0BEC5",
                "#B0BEC5",
                "#B0BEC5",
                "#B0BEC5",
                "#B0BEC5",
                "#B0BEC5",
                "#B0BEC5",
                "#B0BEC5",
                "#B0BEC5",
                "#B0BEC5"
               ]
              ]
             }
            ],
            "label": "Topic 31",
            "method": "update"
           },
           {
            "args": [
             {
              "marker.color": [
               [
                "#B0BEC5",
                "#B0BEC5",
                "#B0BEC5",
                "#B0BEC5",
                "#B0BEC5",
                "#B0BEC5",
                "#B0BEC5",
                "#B0BEC5",
                "#B0BEC5",
                "#B0BEC5",
                "#B0BEC5",
                "#B0BEC5",
                "#B0BEC5",
                "#B0BEC5",
                "#B0BEC5",
                "#B0BEC5",
                "#B0BEC5",
                "#B0BEC5",
                "#B0BEC5",
                "#B0BEC5",
                "#B0BEC5",
                "#B0BEC5",
                "#B0BEC5",
                "#B0BEC5",
                "#B0BEC5",
                "#B0BEC5",
                "#B0BEC5",
                "#B0BEC5",
                "#B0BEC5",
                "#B0BEC5",
                "#B0BEC5",
                "#B0BEC5",
                "red",
                "#B0BEC5",
                "#B0BEC5",
                "#B0BEC5",
                "#B0BEC5",
                "#B0BEC5",
                "#B0BEC5",
                "#B0BEC5",
                "#B0BEC5",
                "#B0BEC5",
                "#B0BEC5",
                "#B0BEC5",
                "#B0BEC5",
                "#B0BEC5",
                "#B0BEC5",
                "#B0BEC5",
                "#B0BEC5",
                "#B0BEC5",
                "#B0BEC5",
                "#B0BEC5",
                "#B0BEC5",
                "#B0BEC5",
                "#B0BEC5",
                "#B0BEC5",
                "#B0BEC5"
               ]
              ]
             }
            ],
            "label": "Topic 32",
            "method": "update"
           },
           {
            "args": [
             {
              "marker.color": [
               [
                "#B0BEC5",
                "#B0BEC5",
                "#B0BEC5",
                "#B0BEC5",
                "#B0BEC5",
                "#B0BEC5",
                "#B0BEC5",
                "#B0BEC5",
                "#B0BEC5",
                "#B0BEC5",
                "#B0BEC5",
                "#B0BEC5",
                "#B0BEC5",
                "#B0BEC5",
                "#B0BEC5",
                "#B0BEC5",
                "#B0BEC5",
                "#B0BEC5",
                "#B0BEC5",
                "#B0BEC5",
                "#B0BEC5",
                "#B0BEC5",
                "#B0BEC5",
                "#B0BEC5",
                "#B0BEC5",
                "#B0BEC5",
                "#B0BEC5",
                "#B0BEC5",
                "#B0BEC5",
                "#B0BEC5",
                "#B0BEC5",
                "#B0BEC5",
                "#B0BEC5",
                "red",
                "#B0BEC5",
                "#B0BEC5",
                "#B0BEC5",
                "#B0BEC5",
                "#B0BEC5",
                "#B0BEC5",
                "#B0BEC5",
                "#B0BEC5",
                "#B0BEC5",
                "#B0BEC5",
                "#B0BEC5",
                "#B0BEC5",
                "#B0BEC5",
                "#B0BEC5",
                "#B0BEC5",
                "#B0BEC5",
                "#B0BEC5",
                "#B0BEC5",
                "#B0BEC5",
                "#B0BEC5",
                "#B0BEC5",
                "#B0BEC5",
                "#B0BEC5"
               ]
              ]
             }
            ],
            "label": "Topic 33",
            "method": "update"
           },
           {
            "args": [
             {
              "marker.color": [
               [
                "#B0BEC5",
                "#B0BEC5",
                "#B0BEC5",
                "#B0BEC5",
                "#B0BEC5",
                "#B0BEC5",
                "#B0BEC5",
                "#B0BEC5",
                "#B0BEC5",
                "#B0BEC5",
                "#B0BEC5",
                "#B0BEC5",
                "#B0BEC5",
                "#B0BEC5",
                "#B0BEC5",
                "#B0BEC5",
                "#B0BEC5",
                "#B0BEC5",
                "#B0BEC5",
                "#B0BEC5",
                "#B0BEC5",
                "#B0BEC5",
                "#B0BEC5",
                "#B0BEC5",
                "#B0BEC5",
                "#B0BEC5",
                "#B0BEC5",
                "#B0BEC5",
                "#B0BEC5",
                "#B0BEC5",
                "#B0BEC5",
                "#B0BEC5",
                "#B0BEC5",
                "#B0BEC5",
                "red",
                "#B0BEC5",
                "#B0BEC5",
                "#B0BEC5",
                "#B0BEC5",
                "#B0BEC5",
                "#B0BEC5",
                "#B0BEC5",
                "#B0BEC5",
                "#B0BEC5",
                "#B0BEC5",
                "#B0BEC5",
                "#B0BEC5",
                "#B0BEC5",
                "#B0BEC5",
                "#B0BEC5",
                "#B0BEC5",
                "#B0BEC5",
                "#B0BEC5",
                "#B0BEC5",
                "#B0BEC5",
                "#B0BEC5",
                "#B0BEC5"
               ]
              ]
             }
            ],
            "label": "Topic 34",
            "method": "update"
           },
           {
            "args": [
             {
              "marker.color": [
               [
                "#B0BEC5",
                "#B0BEC5",
                "#B0BEC5",
                "#B0BEC5",
                "#B0BEC5",
                "#B0BEC5",
                "#B0BEC5",
                "#B0BEC5",
                "#B0BEC5",
                "#B0BEC5",
                "#B0BEC5",
                "#B0BEC5",
                "#B0BEC5",
                "#B0BEC5",
                "#B0BEC5",
                "#B0BEC5",
                "#B0BEC5",
                "#B0BEC5",
                "#B0BEC5",
                "#B0BEC5",
                "#B0BEC5",
                "#B0BEC5",
                "#B0BEC5",
                "#B0BEC5",
                "#B0BEC5",
                "#B0BEC5",
                "#B0BEC5",
                "#B0BEC5",
                "#B0BEC5",
                "#B0BEC5",
                "#B0BEC5",
                "#B0BEC5",
                "#B0BEC5",
                "#B0BEC5",
                "#B0BEC5",
                "red",
                "#B0BEC5",
                "#B0BEC5",
                "#B0BEC5",
                "#B0BEC5",
                "#B0BEC5",
                "#B0BEC5",
                "#B0BEC5",
                "#B0BEC5",
                "#B0BEC5",
                "#B0BEC5",
                "#B0BEC5",
                "#B0BEC5",
                "#B0BEC5",
                "#B0BEC5",
                "#B0BEC5",
                "#B0BEC5",
                "#B0BEC5",
                "#B0BEC5",
                "#B0BEC5",
                "#B0BEC5",
                "#B0BEC5"
               ]
              ]
             }
            ],
            "label": "Topic 35",
            "method": "update"
           },
           {
            "args": [
             {
              "marker.color": [
               [
                "#B0BEC5",
                "#B0BEC5",
                "#B0BEC5",
                "#B0BEC5",
                "#B0BEC5",
                "#B0BEC5",
                "#B0BEC5",
                "#B0BEC5",
                "#B0BEC5",
                "#B0BEC5",
                "#B0BEC5",
                "#B0BEC5",
                "#B0BEC5",
                "#B0BEC5",
                "#B0BEC5",
                "#B0BEC5",
                "#B0BEC5",
                "#B0BEC5",
                "#B0BEC5",
                "#B0BEC5",
                "#B0BEC5",
                "#B0BEC5",
                "#B0BEC5",
                "#B0BEC5",
                "#B0BEC5",
                "#B0BEC5",
                "#B0BEC5",
                "#B0BEC5",
                "#B0BEC5",
                "#B0BEC5",
                "#B0BEC5",
                "#B0BEC5",
                "#B0BEC5",
                "#B0BEC5",
                "#B0BEC5",
                "#B0BEC5",
                "red",
                "#B0BEC5",
                "#B0BEC5",
                "#B0BEC5",
                "#B0BEC5",
                "#B0BEC5",
                "#B0BEC5",
                "#B0BEC5",
                "#B0BEC5",
                "#B0BEC5",
                "#B0BEC5",
                "#B0BEC5",
                "#B0BEC5",
                "#B0BEC5",
                "#B0BEC5",
                "#B0BEC5",
                "#B0BEC5",
                "#B0BEC5",
                "#B0BEC5",
                "#B0BEC5",
                "#B0BEC5"
               ]
              ]
             }
            ],
            "label": "Topic 36",
            "method": "update"
           },
           {
            "args": [
             {
              "marker.color": [
               [
                "#B0BEC5",
                "#B0BEC5",
                "#B0BEC5",
                "#B0BEC5",
                "#B0BEC5",
                "#B0BEC5",
                "#B0BEC5",
                "#B0BEC5",
                "#B0BEC5",
                "#B0BEC5",
                "#B0BEC5",
                "#B0BEC5",
                "#B0BEC5",
                "#B0BEC5",
                "#B0BEC5",
                "#B0BEC5",
                "#B0BEC5",
                "#B0BEC5",
                "#B0BEC5",
                "#B0BEC5",
                "#B0BEC5",
                "#B0BEC5",
                "#B0BEC5",
                "#B0BEC5",
                "#B0BEC5",
                "#B0BEC5",
                "#B0BEC5",
                "#B0BEC5",
                "#B0BEC5",
                "#B0BEC5",
                "#B0BEC5",
                "#B0BEC5",
                "#B0BEC5",
                "#B0BEC5",
                "#B0BEC5",
                "#B0BEC5",
                "#B0BEC5",
                "red",
                "#B0BEC5",
                "#B0BEC5",
                "#B0BEC5",
                "#B0BEC5",
                "#B0BEC5",
                "#B0BEC5",
                "#B0BEC5",
                "#B0BEC5",
                "#B0BEC5",
                "#B0BEC5",
                "#B0BEC5",
                "#B0BEC5",
                "#B0BEC5",
                "#B0BEC5",
                "#B0BEC5",
                "#B0BEC5",
                "#B0BEC5",
                "#B0BEC5",
                "#B0BEC5"
               ]
              ]
             }
            ],
            "label": "Topic 37",
            "method": "update"
           },
           {
            "args": [
             {
              "marker.color": [
               [
                "#B0BEC5",
                "#B0BEC5",
                "#B0BEC5",
                "#B0BEC5",
                "#B0BEC5",
                "#B0BEC5",
                "#B0BEC5",
                "#B0BEC5",
                "#B0BEC5",
                "#B0BEC5",
                "#B0BEC5",
                "#B0BEC5",
                "#B0BEC5",
                "#B0BEC5",
                "#B0BEC5",
                "#B0BEC5",
                "#B0BEC5",
                "#B0BEC5",
                "#B0BEC5",
                "#B0BEC5",
                "#B0BEC5",
                "#B0BEC5",
                "#B0BEC5",
                "#B0BEC5",
                "#B0BEC5",
                "#B0BEC5",
                "#B0BEC5",
                "#B0BEC5",
                "#B0BEC5",
                "#B0BEC5",
                "#B0BEC5",
                "#B0BEC5",
                "#B0BEC5",
                "#B0BEC5",
                "#B0BEC5",
                "#B0BEC5",
                "#B0BEC5",
                "#B0BEC5",
                "red",
                "#B0BEC5",
                "#B0BEC5",
                "#B0BEC5",
                "#B0BEC5",
                "#B0BEC5",
                "#B0BEC5",
                "#B0BEC5",
                "#B0BEC5",
                "#B0BEC5",
                "#B0BEC5",
                "#B0BEC5",
                "#B0BEC5",
                "#B0BEC5",
                "#B0BEC5",
                "#B0BEC5",
                "#B0BEC5",
                "#B0BEC5",
                "#B0BEC5"
               ]
              ]
             }
            ],
            "label": "Topic 38",
            "method": "update"
           },
           {
            "args": [
             {
              "marker.color": [
               [
                "#B0BEC5",
                "#B0BEC5",
                "#B0BEC5",
                "#B0BEC5",
                "#B0BEC5",
                "#B0BEC5",
                "#B0BEC5",
                "#B0BEC5",
                "#B0BEC5",
                "#B0BEC5",
                "#B0BEC5",
                "#B0BEC5",
                "#B0BEC5",
                "#B0BEC5",
                "#B0BEC5",
                "#B0BEC5",
                "#B0BEC5",
                "#B0BEC5",
                "#B0BEC5",
                "#B0BEC5",
                "#B0BEC5",
                "#B0BEC5",
                "#B0BEC5",
                "#B0BEC5",
                "#B0BEC5",
                "#B0BEC5",
                "#B0BEC5",
                "#B0BEC5",
                "#B0BEC5",
                "#B0BEC5",
                "#B0BEC5",
                "#B0BEC5",
                "#B0BEC5",
                "#B0BEC5",
                "#B0BEC5",
                "#B0BEC5",
                "#B0BEC5",
                "#B0BEC5",
                "#B0BEC5",
                "red",
                "#B0BEC5",
                "#B0BEC5",
                "#B0BEC5",
                "#B0BEC5",
                "#B0BEC5",
                "#B0BEC5",
                "#B0BEC5",
                "#B0BEC5",
                "#B0BEC5",
                "#B0BEC5",
                "#B0BEC5",
                "#B0BEC5",
                "#B0BEC5",
                "#B0BEC5",
                "#B0BEC5",
                "#B0BEC5",
                "#B0BEC5"
               ]
              ]
             }
            ],
            "label": "Topic 39",
            "method": "update"
           },
           {
            "args": [
             {
              "marker.color": [
               [
                "#B0BEC5",
                "#B0BEC5",
                "#B0BEC5",
                "#B0BEC5",
                "#B0BEC5",
                "#B0BEC5",
                "#B0BEC5",
                "#B0BEC5",
                "#B0BEC5",
                "#B0BEC5",
                "#B0BEC5",
                "#B0BEC5",
                "#B0BEC5",
                "#B0BEC5",
                "#B0BEC5",
                "#B0BEC5",
                "#B0BEC5",
                "#B0BEC5",
                "#B0BEC5",
                "#B0BEC5",
                "#B0BEC5",
                "#B0BEC5",
                "#B0BEC5",
                "#B0BEC5",
                "#B0BEC5",
                "#B0BEC5",
                "#B0BEC5",
                "#B0BEC5",
                "#B0BEC5",
                "#B0BEC5",
                "#B0BEC5",
                "#B0BEC5",
                "#B0BEC5",
                "#B0BEC5",
                "#B0BEC5",
                "#B0BEC5",
                "#B0BEC5",
                "#B0BEC5",
                "#B0BEC5",
                "#B0BEC5",
                "red",
                "#B0BEC5",
                "#B0BEC5",
                "#B0BEC5",
                "#B0BEC5",
                "#B0BEC5",
                "#B0BEC5",
                "#B0BEC5",
                "#B0BEC5",
                "#B0BEC5",
                "#B0BEC5",
                "#B0BEC5",
                "#B0BEC5",
                "#B0BEC5",
                "#B0BEC5",
                "#B0BEC5",
                "#B0BEC5"
               ]
              ]
             }
            ],
            "label": "Topic 40",
            "method": "update"
           },
           {
            "args": [
             {
              "marker.color": [
               [
                "#B0BEC5",
                "#B0BEC5",
                "#B0BEC5",
                "#B0BEC5",
                "#B0BEC5",
                "#B0BEC5",
                "#B0BEC5",
                "#B0BEC5",
                "#B0BEC5",
                "#B0BEC5",
                "#B0BEC5",
                "#B0BEC5",
                "#B0BEC5",
                "#B0BEC5",
                "#B0BEC5",
                "#B0BEC5",
                "#B0BEC5",
                "#B0BEC5",
                "#B0BEC5",
                "#B0BEC5",
                "#B0BEC5",
                "#B0BEC5",
                "#B0BEC5",
                "#B0BEC5",
                "#B0BEC5",
                "#B0BEC5",
                "#B0BEC5",
                "#B0BEC5",
                "#B0BEC5",
                "#B0BEC5",
                "#B0BEC5",
                "#B0BEC5",
                "#B0BEC5",
                "#B0BEC5",
                "#B0BEC5",
                "#B0BEC5",
                "#B0BEC5",
                "#B0BEC5",
                "#B0BEC5",
                "#B0BEC5",
                "#B0BEC5",
                "red",
                "#B0BEC5",
                "#B0BEC5",
                "#B0BEC5",
                "#B0BEC5",
                "#B0BEC5",
                "#B0BEC5",
                "#B0BEC5",
                "#B0BEC5",
                "#B0BEC5",
                "#B0BEC5",
                "#B0BEC5",
                "#B0BEC5",
                "#B0BEC5",
                "#B0BEC5",
                "#B0BEC5"
               ]
              ]
             }
            ],
            "label": "Topic 41",
            "method": "update"
           },
           {
            "args": [
             {
              "marker.color": [
               [
                "#B0BEC5",
                "#B0BEC5",
                "#B0BEC5",
                "#B0BEC5",
                "#B0BEC5",
                "#B0BEC5",
                "#B0BEC5",
                "#B0BEC5",
                "#B0BEC5",
                "#B0BEC5",
                "#B0BEC5",
                "#B0BEC5",
                "#B0BEC5",
                "#B0BEC5",
                "#B0BEC5",
                "#B0BEC5",
                "#B0BEC5",
                "#B0BEC5",
                "#B0BEC5",
                "#B0BEC5",
                "#B0BEC5",
                "#B0BEC5",
                "#B0BEC5",
                "#B0BEC5",
                "#B0BEC5",
                "#B0BEC5",
                "#B0BEC5",
                "#B0BEC5",
                "#B0BEC5",
                "#B0BEC5",
                "#B0BEC5",
                "#B0BEC5",
                "#B0BEC5",
                "#B0BEC5",
                "#B0BEC5",
                "#B0BEC5",
                "#B0BEC5",
                "#B0BEC5",
                "#B0BEC5",
                "#B0BEC5",
                "#B0BEC5",
                "#B0BEC5",
                "red",
                "#B0BEC5",
                "#B0BEC5",
                "#B0BEC5",
                "#B0BEC5",
                "#B0BEC5",
                "#B0BEC5",
                "#B0BEC5",
                "#B0BEC5",
                "#B0BEC5",
                "#B0BEC5",
                "#B0BEC5",
                "#B0BEC5",
                "#B0BEC5",
                "#B0BEC5"
               ]
              ]
             }
            ],
            "label": "Topic 42",
            "method": "update"
           },
           {
            "args": [
             {
              "marker.color": [
               [
                "#B0BEC5",
                "#B0BEC5",
                "#B0BEC5",
                "#B0BEC5",
                "#B0BEC5",
                "#B0BEC5",
                "#B0BEC5",
                "#B0BEC5",
                "#B0BEC5",
                "#B0BEC5",
                "#B0BEC5",
                "#B0BEC5",
                "#B0BEC5",
                "#B0BEC5",
                "#B0BEC5",
                "#B0BEC5",
                "#B0BEC5",
                "#B0BEC5",
                "#B0BEC5",
                "#B0BEC5",
                "#B0BEC5",
                "#B0BEC5",
                "#B0BEC5",
                "#B0BEC5",
                "#B0BEC5",
                "#B0BEC5",
                "#B0BEC5",
                "#B0BEC5",
                "#B0BEC5",
                "#B0BEC5",
                "#B0BEC5",
                "#B0BEC5",
                "#B0BEC5",
                "#B0BEC5",
                "#B0BEC5",
                "#B0BEC5",
                "#B0BEC5",
                "#B0BEC5",
                "#B0BEC5",
                "#B0BEC5",
                "#B0BEC5",
                "#B0BEC5",
                "#B0BEC5",
                "red",
                "#B0BEC5",
                "#B0BEC5",
                "#B0BEC5",
                "#B0BEC5",
                "#B0BEC5",
                "#B0BEC5",
                "#B0BEC5",
                "#B0BEC5",
                "#B0BEC5",
                "#B0BEC5",
                "#B0BEC5",
                "#B0BEC5",
                "#B0BEC5"
               ]
              ]
             }
            ],
            "label": "Topic 43",
            "method": "update"
           },
           {
            "args": [
             {
              "marker.color": [
               [
                "#B0BEC5",
                "#B0BEC5",
                "#B0BEC5",
                "#B0BEC5",
                "#B0BEC5",
                "#B0BEC5",
                "#B0BEC5",
                "#B0BEC5",
                "#B0BEC5",
                "#B0BEC5",
                "#B0BEC5",
                "#B0BEC5",
                "#B0BEC5",
                "#B0BEC5",
                "#B0BEC5",
                "#B0BEC5",
                "#B0BEC5",
                "#B0BEC5",
                "#B0BEC5",
                "#B0BEC5",
                "#B0BEC5",
                "#B0BEC5",
                "#B0BEC5",
                "#B0BEC5",
                "#B0BEC5",
                "#B0BEC5",
                "#B0BEC5",
                "#B0BEC5",
                "#B0BEC5",
                "#B0BEC5",
                "#B0BEC5",
                "#B0BEC5",
                "#B0BEC5",
                "#B0BEC5",
                "#B0BEC5",
                "#B0BEC5",
                "#B0BEC5",
                "#B0BEC5",
                "#B0BEC5",
                "#B0BEC5",
                "#B0BEC5",
                "#B0BEC5",
                "#B0BEC5",
                "#B0BEC5",
                "red",
                "#B0BEC5",
                "#B0BEC5",
                "#B0BEC5",
                "#B0BEC5",
                "#B0BEC5",
                "#B0BEC5",
                "#B0BEC5",
                "#B0BEC5",
                "#B0BEC5",
                "#B0BEC5",
                "#B0BEC5",
                "#B0BEC5"
               ]
              ]
             }
            ],
            "label": "Topic 44",
            "method": "update"
           },
           {
            "args": [
             {
              "marker.color": [
               [
                "#B0BEC5",
                "#B0BEC5",
                "#B0BEC5",
                "#B0BEC5",
                "#B0BEC5",
                "#B0BEC5",
                "#B0BEC5",
                "#B0BEC5",
                "#B0BEC5",
                "#B0BEC5",
                "#B0BEC5",
                "#B0BEC5",
                "#B0BEC5",
                "#B0BEC5",
                "#B0BEC5",
                "#B0BEC5",
                "#B0BEC5",
                "#B0BEC5",
                "#B0BEC5",
                "#B0BEC5",
                "#B0BEC5",
                "#B0BEC5",
                "#B0BEC5",
                "#B0BEC5",
                "#B0BEC5",
                "#B0BEC5",
                "#B0BEC5",
                "#B0BEC5",
                "#B0BEC5",
                "#B0BEC5",
                "#B0BEC5",
                "#B0BEC5",
                "#B0BEC5",
                "#B0BEC5",
                "#B0BEC5",
                "#B0BEC5",
                "#B0BEC5",
                "#B0BEC5",
                "#B0BEC5",
                "#B0BEC5",
                "#B0BEC5",
                "#B0BEC5",
                "#B0BEC5",
                "#B0BEC5",
                "#B0BEC5",
                "red",
                "#B0BEC5",
                "#B0BEC5",
                "#B0BEC5",
                "#B0BEC5",
                "#B0BEC5",
                "#B0BEC5",
                "#B0BEC5",
                "#B0BEC5",
                "#B0BEC5",
                "#B0BEC5",
                "#B0BEC5"
               ]
              ]
             }
            ],
            "label": "Topic 45",
            "method": "update"
           },
           {
            "args": [
             {
              "marker.color": [
               [
                "#B0BEC5",
                "#B0BEC5",
                "#B0BEC5",
                "#B0BEC5",
                "#B0BEC5",
                "#B0BEC5",
                "#B0BEC5",
                "#B0BEC5",
                "#B0BEC5",
                "#B0BEC5",
                "#B0BEC5",
                "#B0BEC5",
                "#B0BEC5",
                "#B0BEC5",
                "#B0BEC5",
                "#B0BEC5",
                "#B0BEC5",
                "#B0BEC5",
                "#B0BEC5",
                "#B0BEC5",
                "#B0BEC5",
                "#B0BEC5",
                "#B0BEC5",
                "#B0BEC5",
                "#B0BEC5",
                "#B0BEC5",
                "#B0BEC5",
                "#B0BEC5",
                "#B0BEC5",
                "#B0BEC5",
                "#B0BEC5",
                "#B0BEC5",
                "#B0BEC5",
                "#B0BEC5",
                "#B0BEC5",
                "#B0BEC5",
                "#B0BEC5",
                "#B0BEC5",
                "#B0BEC5",
                "#B0BEC5",
                "#B0BEC5",
                "#B0BEC5",
                "#B0BEC5",
                "#B0BEC5",
                "#B0BEC5",
                "#B0BEC5",
                "red",
                "#B0BEC5",
                "#B0BEC5",
                "#B0BEC5",
                "#B0BEC5",
                "#B0BEC5",
                "#B0BEC5",
                "#B0BEC5",
                "#B0BEC5",
                "#B0BEC5",
                "#B0BEC5"
               ]
              ]
             }
            ],
            "label": "Topic 46",
            "method": "update"
           },
           {
            "args": [
             {
              "marker.color": [
               [
                "#B0BEC5",
                "#B0BEC5",
                "#B0BEC5",
                "#B0BEC5",
                "#B0BEC5",
                "#B0BEC5",
                "#B0BEC5",
                "#B0BEC5",
                "#B0BEC5",
                "#B0BEC5",
                "#B0BEC5",
                "#B0BEC5",
                "#B0BEC5",
                "#B0BEC5",
                "#B0BEC5",
                "#B0BEC5",
                "#B0BEC5",
                "#B0BEC5",
                "#B0BEC5",
                "#B0BEC5",
                "#B0BEC5",
                "#B0BEC5",
                "#B0BEC5",
                "#B0BEC5",
                "#B0BEC5",
                "#B0BEC5",
                "#B0BEC5",
                "#B0BEC5",
                "#B0BEC5",
                "#B0BEC5",
                "#B0BEC5",
                "#B0BEC5",
                "#B0BEC5",
                "#B0BEC5",
                "#B0BEC5",
                "#B0BEC5",
                "#B0BEC5",
                "#B0BEC5",
                "#B0BEC5",
                "#B0BEC5",
                "#B0BEC5",
                "#B0BEC5",
                "#B0BEC5",
                "#B0BEC5",
                "#B0BEC5",
                "#B0BEC5",
                "#B0BEC5",
                "red",
                "#B0BEC5",
                "#B0BEC5",
                "#B0BEC5",
                "#B0BEC5",
                "#B0BEC5",
                "#B0BEC5",
                "#B0BEC5",
                "#B0BEC5",
                "#B0BEC5"
               ]
              ]
             }
            ],
            "label": "Topic 47",
            "method": "update"
           },
           {
            "args": [
             {
              "marker.color": [
               [
                "#B0BEC5",
                "#B0BEC5",
                "#B0BEC5",
                "#B0BEC5",
                "#B0BEC5",
                "#B0BEC5",
                "#B0BEC5",
                "#B0BEC5",
                "#B0BEC5",
                "#B0BEC5",
                "#B0BEC5",
                "#B0BEC5",
                "#B0BEC5",
                "#B0BEC5",
                "#B0BEC5",
                "#B0BEC5",
                "#B0BEC5",
                "#B0BEC5",
                "#B0BEC5",
                "#B0BEC5",
                "#B0BEC5",
                "#B0BEC5",
                "#B0BEC5",
                "#B0BEC5",
                "#B0BEC5",
                "#B0BEC5",
                "#B0BEC5",
                "#B0BEC5",
                "#B0BEC5",
                "#B0BEC5",
                "#B0BEC5",
                "#B0BEC5",
                "#B0BEC5",
                "#B0BEC5",
                "#B0BEC5",
                "#B0BEC5",
                "#B0BEC5",
                "#B0BEC5",
                "#B0BEC5",
                "#B0BEC5",
                "#B0BEC5",
                "#B0BEC5",
                "#B0BEC5",
                "#B0BEC5",
                "#B0BEC5",
                "#B0BEC5",
                "#B0BEC5",
                "#B0BEC5",
                "red",
                "#B0BEC5",
                "#B0BEC5",
                "#B0BEC5",
                "#B0BEC5",
                "#B0BEC5",
                "#B0BEC5",
                "#B0BEC5",
                "#B0BEC5"
               ]
              ]
             }
            ],
            "label": "Topic 48",
            "method": "update"
           },
           {
            "args": [
             {
              "marker.color": [
               [
                "#B0BEC5",
                "#B0BEC5",
                "#B0BEC5",
                "#B0BEC5",
                "#B0BEC5",
                "#B0BEC5",
                "#B0BEC5",
                "#B0BEC5",
                "#B0BEC5",
                "#B0BEC5",
                "#B0BEC5",
                "#B0BEC5",
                "#B0BEC5",
                "#B0BEC5",
                "#B0BEC5",
                "#B0BEC5",
                "#B0BEC5",
                "#B0BEC5",
                "#B0BEC5",
                "#B0BEC5",
                "#B0BEC5",
                "#B0BEC5",
                "#B0BEC5",
                "#B0BEC5",
                "#B0BEC5",
                "#B0BEC5",
                "#B0BEC5",
                "#B0BEC5",
                "#B0BEC5",
                "#B0BEC5",
                "#B0BEC5",
                "#B0BEC5",
                "#B0BEC5",
                "#B0BEC5",
                "#B0BEC5",
                "#B0BEC5",
                "#B0BEC5",
                "#B0BEC5",
                "#B0BEC5",
                "#B0BEC5",
                "#B0BEC5",
                "#B0BEC5",
                "#B0BEC5",
                "#B0BEC5",
                "#B0BEC5",
                "#B0BEC5",
                "#B0BEC5",
                "#B0BEC5",
                "#B0BEC5",
                "red",
                "#B0BEC5",
                "#B0BEC5",
                "#B0BEC5",
                "#B0BEC5",
                "#B0BEC5",
                "#B0BEC5",
                "#B0BEC5"
               ]
              ]
             }
            ],
            "label": "Topic 49",
            "method": "update"
           },
           {
            "args": [
             {
              "marker.color": [
               [
                "#B0BEC5",
                "#B0BEC5",
                "#B0BEC5",
                "#B0BEC5",
                "#B0BEC5",
                "#B0BEC5",
                "#B0BEC5",
                "#B0BEC5",
                "#B0BEC5",
                "#B0BEC5",
                "#B0BEC5",
                "#B0BEC5",
                "#B0BEC5",
                "#B0BEC5",
                "#B0BEC5",
                "#B0BEC5",
                "#B0BEC5",
                "#B0BEC5",
                "#B0BEC5",
                "#B0BEC5",
                "#B0BEC5",
                "#B0BEC5",
                "#B0BEC5",
                "#B0BEC5",
                "#B0BEC5",
                "#B0BEC5",
                "#B0BEC5",
                "#B0BEC5",
                "#B0BEC5",
                "#B0BEC5",
                "#B0BEC5",
                "#B0BEC5",
                "#B0BEC5",
                "#B0BEC5",
                "#B0BEC5",
                "#B0BEC5",
                "#B0BEC5",
                "#B0BEC5",
                "#B0BEC5",
                "#B0BEC5",
                "#B0BEC5",
                "#B0BEC5",
                "#B0BEC5",
                "#B0BEC5",
                "#B0BEC5",
                "#B0BEC5",
                "#B0BEC5",
                "#B0BEC5",
                "#B0BEC5",
                "#B0BEC5",
                "red",
                "#B0BEC5",
                "#B0BEC5",
                "#B0BEC5",
                "#B0BEC5",
                "#B0BEC5",
                "#B0BEC5"
               ]
              ]
             }
            ],
            "label": "Topic 50",
            "method": "update"
           },
           {
            "args": [
             {
              "marker.color": [
               [
                "#B0BEC5",
                "#B0BEC5",
                "#B0BEC5",
                "#B0BEC5",
                "#B0BEC5",
                "#B0BEC5",
                "#B0BEC5",
                "#B0BEC5",
                "#B0BEC5",
                "#B0BEC5",
                "#B0BEC5",
                "#B0BEC5",
                "#B0BEC5",
                "#B0BEC5",
                "#B0BEC5",
                "#B0BEC5",
                "#B0BEC5",
                "#B0BEC5",
                "#B0BEC5",
                "#B0BEC5",
                "#B0BEC5",
                "#B0BEC5",
                "#B0BEC5",
                "#B0BEC5",
                "#B0BEC5",
                "#B0BEC5",
                "#B0BEC5",
                "#B0BEC5",
                "#B0BEC5",
                "#B0BEC5",
                "#B0BEC5",
                "#B0BEC5",
                "#B0BEC5",
                "#B0BEC5",
                "#B0BEC5",
                "#B0BEC5",
                "#B0BEC5",
                "#B0BEC5",
                "#B0BEC5",
                "#B0BEC5",
                "#B0BEC5",
                "#B0BEC5",
                "#B0BEC5",
                "#B0BEC5",
                "#B0BEC5",
                "#B0BEC5",
                "#B0BEC5",
                "#B0BEC5",
                "#B0BEC5",
                "#B0BEC5",
                "#B0BEC5",
                "red",
                "#B0BEC5",
                "#B0BEC5",
                "#B0BEC5",
                "#B0BEC5",
                "#B0BEC5"
               ]
              ]
             }
            ],
            "label": "Topic 51",
            "method": "update"
           },
           {
            "args": [
             {
              "marker.color": [
               [
                "#B0BEC5",
                "#B0BEC5",
                "#B0BEC5",
                "#B0BEC5",
                "#B0BEC5",
                "#B0BEC5",
                "#B0BEC5",
                "#B0BEC5",
                "#B0BEC5",
                "#B0BEC5",
                "#B0BEC5",
                "#B0BEC5",
                "#B0BEC5",
                "#B0BEC5",
                "#B0BEC5",
                "#B0BEC5",
                "#B0BEC5",
                "#B0BEC5",
                "#B0BEC5",
                "#B0BEC5",
                "#B0BEC5",
                "#B0BEC5",
                "#B0BEC5",
                "#B0BEC5",
                "#B0BEC5",
                "#B0BEC5",
                "#B0BEC5",
                "#B0BEC5",
                "#B0BEC5",
                "#B0BEC5",
                "#B0BEC5",
                "#B0BEC5",
                "#B0BEC5",
                "#B0BEC5",
                "#B0BEC5",
                "#B0BEC5",
                "#B0BEC5",
                "#B0BEC5",
                "#B0BEC5",
                "#B0BEC5",
                "#B0BEC5",
                "#B0BEC5",
                "#B0BEC5",
                "#B0BEC5",
                "#B0BEC5",
                "#B0BEC5",
                "#B0BEC5",
                "#B0BEC5",
                "#B0BEC5",
                "#B0BEC5",
                "#B0BEC5",
                "#B0BEC5",
                "red",
                "#B0BEC5",
                "#B0BEC5",
                "#B0BEC5",
                "#B0BEC5"
               ]
              ]
             }
            ],
            "label": "Topic 52",
            "method": "update"
           },
           {
            "args": [
             {
              "marker.color": [
               [
                "#B0BEC5",
                "#B0BEC5",
                "#B0BEC5",
                "#B0BEC5",
                "#B0BEC5",
                "#B0BEC5",
                "#B0BEC5",
                "#B0BEC5",
                "#B0BEC5",
                "#B0BEC5",
                "#B0BEC5",
                "#B0BEC5",
                "#B0BEC5",
                "#B0BEC5",
                "#B0BEC5",
                "#B0BEC5",
                "#B0BEC5",
                "#B0BEC5",
                "#B0BEC5",
                "#B0BEC5",
                "#B0BEC5",
                "#B0BEC5",
                "#B0BEC5",
                "#B0BEC5",
                "#B0BEC5",
                "#B0BEC5",
                "#B0BEC5",
                "#B0BEC5",
                "#B0BEC5",
                "#B0BEC5",
                "#B0BEC5",
                "#B0BEC5",
                "#B0BEC5",
                "#B0BEC5",
                "#B0BEC5",
                "#B0BEC5",
                "#B0BEC5",
                "#B0BEC5",
                "#B0BEC5",
                "#B0BEC5",
                "#B0BEC5",
                "#B0BEC5",
                "#B0BEC5",
                "#B0BEC5",
                "#B0BEC5",
                "#B0BEC5",
                "#B0BEC5",
                "#B0BEC5",
                "#B0BEC5",
                "#B0BEC5",
                "#B0BEC5",
                "#B0BEC5",
                "#B0BEC5",
                "red",
                "#B0BEC5",
                "#B0BEC5",
                "#B0BEC5"
               ]
              ]
             }
            ],
            "label": "Topic 53",
            "method": "update"
           },
           {
            "args": [
             {
              "marker.color": [
               [
                "#B0BEC5",
                "#B0BEC5",
                "#B0BEC5",
                "#B0BEC5",
                "#B0BEC5",
                "#B0BEC5",
                "#B0BEC5",
                "#B0BEC5",
                "#B0BEC5",
                "#B0BEC5",
                "#B0BEC5",
                "#B0BEC5",
                "#B0BEC5",
                "#B0BEC5",
                "#B0BEC5",
                "#B0BEC5",
                "#B0BEC5",
                "#B0BEC5",
                "#B0BEC5",
                "#B0BEC5",
                "#B0BEC5",
                "#B0BEC5",
                "#B0BEC5",
                "#B0BEC5",
                "#B0BEC5",
                "#B0BEC5",
                "#B0BEC5",
                "#B0BEC5",
                "#B0BEC5",
                "#B0BEC5",
                "#B0BEC5",
                "#B0BEC5",
                "#B0BEC5",
                "#B0BEC5",
                "#B0BEC5",
                "#B0BEC5",
                "#B0BEC5",
                "#B0BEC5",
                "#B0BEC5",
                "#B0BEC5",
                "#B0BEC5",
                "#B0BEC5",
                "#B0BEC5",
                "#B0BEC5",
                "#B0BEC5",
                "#B0BEC5",
                "#B0BEC5",
                "#B0BEC5",
                "#B0BEC5",
                "#B0BEC5",
                "#B0BEC5",
                "#B0BEC5",
                "#B0BEC5",
                "#B0BEC5",
                "red",
                "#B0BEC5",
                "#B0BEC5"
               ]
              ]
             }
            ],
            "label": "Topic 54",
            "method": "update"
           },
           {
            "args": [
             {
              "marker.color": [
               [
                "#B0BEC5",
                "#B0BEC5",
                "#B0BEC5",
                "#B0BEC5",
                "#B0BEC5",
                "#B0BEC5",
                "#B0BEC5",
                "#B0BEC5",
                "#B0BEC5",
                "#B0BEC5",
                "#B0BEC5",
                "#B0BEC5",
                "#B0BEC5",
                "#B0BEC5",
                "#B0BEC5",
                "#B0BEC5",
                "#B0BEC5",
                "#B0BEC5",
                "#B0BEC5",
                "#B0BEC5",
                "#B0BEC5",
                "#B0BEC5",
                "#B0BEC5",
                "#B0BEC5",
                "#B0BEC5",
                "#B0BEC5",
                "#B0BEC5",
                "#B0BEC5",
                "#B0BEC5",
                "#B0BEC5",
                "#B0BEC5",
                "#B0BEC5",
                "#B0BEC5",
                "#B0BEC5",
                "#B0BEC5",
                "#B0BEC5",
                "#B0BEC5",
                "#B0BEC5",
                "#B0BEC5",
                "#B0BEC5",
                "#B0BEC5",
                "#B0BEC5",
                "#B0BEC5",
                "#B0BEC5",
                "#B0BEC5",
                "#B0BEC5",
                "#B0BEC5",
                "#B0BEC5",
                "#B0BEC5",
                "#B0BEC5",
                "#B0BEC5",
                "#B0BEC5",
                "#B0BEC5",
                "#B0BEC5",
                "#B0BEC5",
                "red",
                "#B0BEC5"
               ]
              ]
             }
            ],
            "label": "Topic 55",
            "method": "update"
           },
           {
            "args": [
             {
              "marker.color": [
               [
                "#B0BEC5",
                "#B0BEC5",
                "#B0BEC5",
                "#B0BEC5",
                "#B0BEC5",
                "#B0BEC5",
                "#B0BEC5",
                "#B0BEC5",
                "#B0BEC5",
                "#B0BEC5",
                "#B0BEC5",
                "#B0BEC5",
                "#B0BEC5",
                "#B0BEC5",
                "#B0BEC5",
                "#B0BEC5",
                "#B0BEC5",
                "#B0BEC5",
                "#B0BEC5",
                "#B0BEC5",
                "#B0BEC5",
                "#B0BEC5",
                "#B0BEC5",
                "#B0BEC5",
                "#B0BEC5",
                "#B0BEC5",
                "#B0BEC5",
                "#B0BEC5",
                "#B0BEC5",
                "#B0BEC5",
                "#B0BEC5",
                "#B0BEC5",
                "#B0BEC5",
                "#B0BEC5",
                "#B0BEC5",
                "#B0BEC5",
                "#B0BEC5",
                "#B0BEC5",
                "#B0BEC5",
                "#B0BEC5",
                "#B0BEC5",
                "#B0BEC5",
                "#B0BEC5",
                "#B0BEC5",
                "#B0BEC5",
                "#B0BEC5",
                "#B0BEC5",
                "#B0BEC5",
                "#B0BEC5",
                "#B0BEC5",
                "#B0BEC5",
                "#B0BEC5",
                "#B0BEC5",
                "#B0BEC5",
                "#B0BEC5",
                "#B0BEC5",
                "red"
               ]
              ]
             }
            ],
            "label": "Topic 56",
            "method": "update"
           }
          ]
         }
        ],
        "template": {
         "data": {
          "bar": [
           {
            "error_x": {
             "color": "rgb(36,36,36)"
            },
            "error_y": {
             "color": "rgb(36,36,36)"
            },
            "marker": {
             "line": {
              "color": "white",
              "width": 0.5
             },
             "pattern": {
              "fillmode": "overlay",
              "size": 10,
              "solidity": 0.2
             }
            },
            "type": "bar"
           }
          ],
          "barpolar": [
           {
            "marker": {
             "line": {
              "color": "white",
              "width": 0.5
             },
             "pattern": {
              "fillmode": "overlay",
              "size": 10,
              "solidity": 0.2
             }
            },
            "type": "barpolar"
           }
          ],
          "carpet": [
           {
            "aaxis": {
             "endlinecolor": "rgb(36,36,36)",
             "gridcolor": "white",
             "linecolor": "white",
             "minorgridcolor": "white",
             "startlinecolor": "rgb(36,36,36)"
            },
            "baxis": {
             "endlinecolor": "rgb(36,36,36)",
             "gridcolor": "white",
             "linecolor": "white",
             "minorgridcolor": "white",
             "startlinecolor": "rgb(36,36,36)"
            },
            "type": "carpet"
           }
          ],
          "choropleth": [
           {
            "colorbar": {
             "outlinewidth": 1,
             "tickcolor": "rgb(36,36,36)",
             "ticks": "outside"
            },
            "type": "choropleth"
           }
          ],
          "contour": [
           {
            "colorbar": {
             "outlinewidth": 1,
             "tickcolor": "rgb(36,36,36)",
             "ticks": "outside"
            },
            "colorscale": [
             [
              0,
              "#440154"
             ],
             [
              0.1111111111111111,
              "#482878"
             ],
             [
              0.2222222222222222,
              "#3e4989"
             ],
             [
              0.3333333333333333,
              "#31688e"
             ],
             [
              0.4444444444444444,
              "#26828e"
             ],
             [
              0.5555555555555556,
              "#1f9e89"
             ],
             [
              0.6666666666666666,
              "#35b779"
             ],
             [
              0.7777777777777778,
              "#6ece58"
             ],
             [
              0.8888888888888888,
              "#b5de2b"
             ],
             [
              1,
              "#fde725"
             ]
            ],
            "type": "contour"
           }
          ],
          "contourcarpet": [
           {
            "colorbar": {
             "outlinewidth": 1,
             "tickcolor": "rgb(36,36,36)",
             "ticks": "outside"
            },
            "type": "contourcarpet"
           }
          ],
          "heatmap": [
           {
            "colorbar": {
             "outlinewidth": 1,
             "tickcolor": "rgb(36,36,36)",
             "ticks": "outside"
            },
            "colorscale": [
             [
              0,
              "#440154"
             ],
             [
              0.1111111111111111,
              "#482878"
             ],
             [
              0.2222222222222222,
              "#3e4989"
             ],
             [
              0.3333333333333333,
              "#31688e"
             ],
             [
              0.4444444444444444,
              "#26828e"
             ],
             [
              0.5555555555555556,
              "#1f9e89"
             ],
             [
              0.6666666666666666,
              "#35b779"
             ],
             [
              0.7777777777777778,
              "#6ece58"
             ],
             [
              0.8888888888888888,
              "#b5de2b"
             ],
             [
              1,
              "#fde725"
             ]
            ],
            "type": "heatmap"
           }
          ],
          "heatmapgl": [
           {
            "colorbar": {
             "outlinewidth": 1,
             "tickcolor": "rgb(36,36,36)",
             "ticks": "outside"
            },
            "colorscale": [
             [
              0,
              "#440154"
             ],
             [
              0.1111111111111111,
              "#482878"
             ],
             [
              0.2222222222222222,
              "#3e4989"
             ],
             [
              0.3333333333333333,
              "#31688e"
             ],
             [
              0.4444444444444444,
              "#26828e"
             ],
             [
              0.5555555555555556,
              "#1f9e89"
             ],
             [
              0.6666666666666666,
              "#35b779"
             ],
             [
              0.7777777777777778,
              "#6ece58"
             ],
             [
              0.8888888888888888,
              "#b5de2b"
             ],
             [
              1,
              "#fde725"
             ]
            ],
            "type": "heatmapgl"
           }
          ],
          "histogram": [
           {
            "marker": {
             "line": {
              "color": "white",
              "width": 0.6
             }
            },
            "type": "histogram"
           }
          ],
          "histogram2d": [
           {
            "colorbar": {
             "outlinewidth": 1,
             "tickcolor": "rgb(36,36,36)",
             "ticks": "outside"
            },
            "colorscale": [
             [
              0,
              "#440154"
             ],
             [
              0.1111111111111111,
              "#482878"
             ],
             [
              0.2222222222222222,
              "#3e4989"
             ],
             [
              0.3333333333333333,
              "#31688e"
             ],
             [
              0.4444444444444444,
              "#26828e"
             ],
             [
              0.5555555555555556,
              "#1f9e89"
             ],
             [
              0.6666666666666666,
              "#35b779"
             ],
             [
              0.7777777777777778,
              "#6ece58"
             ],
             [
              0.8888888888888888,
              "#b5de2b"
             ],
             [
              1,
              "#fde725"
             ]
            ],
            "type": "histogram2d"
           }
          ],
          "histogram2dcontour": [
           {
            "colorbar": {
             "outlinewidth": 1,
             "tickcolor": "rgb(36,36,36)",
             "ticks": "outside"
            },
            "colorscale": [
             [
              0,
              "#440154"
             ],
             [
              0.1111111111111111,
              "#482878"
             ],
             [
              0.2222222222222222,
              "#3e4989"
             ],
             [
              0.3333333333333333,
              "#31688e"
             ],
             [
              0.4444444444444444,
              "#26828e"
             ],
             [
              0.5555555555555556,
              "#1f9e89"
             ],
             [
              0.6666666666666666,
              "#35b779"
             ],
             [
              0.7777777777777778,
              "#6ece58"
             ],
             [
              0.8888888888888888,
              "#b5de2b"
             ],
             [
              1,
              "#fde725"
             ]
            ],
            "type": "histogram2dcontour"
           }
          ],
          "mesh3d": [
           {
            "colorbar": {
             "outlinewidth": 1,
             "tickcolor": "rgb(36,36,36)",
             "ticks": "outside"
            },
            "type": "mesh3d"
           }
          ],
          "parcoords": [
           {
            "line": {
             "colorbar": {
              "outlinewidth": 1,
              "tickcolor": "rgb(36,36,36)",
              "ticks": "outside"
             }
            },
            "type": "parcoords"
           }
          ],
          "pie": [
           {
            "automargin": true,
            "type": "pie"
           }
          ],
          "scatter": [
           {
            "fillpattern": {
             "fillmode": "overlay",
             "size": 10,
             "solidity": 0.2
            },
            "type": "scatter"
           }
          ],
          "scatter3d": [
           {
            "line": {
             "colorbar": {
              "outlinewidth": 1,
              "tickcolor": "rgb(36,36,36)",
              "ticks": "outside"
             }
            },
            "marker": {
             "colorbar": {
              "outlinewidth": 1,
              "tickcolor": "rgb(36,36,36)",
              "ticks": "outside"
             }
            },
            "type": "scatter3d"
           }
          ],
          "scattercarpet": [
           {
            "marker": {
             "colorbar": {
              "outlinewidth": 1,
              "tickcolor": "rgb(36,36,36)",
              "ticks": "outside"
             }
            },
            "type": "scattercarpet"
           }
          ],
          "scattergeo": [
           {
            "marker": {
             "colorbar": {
              "outlinewidth": 1,
              "tickcolor": "rgb(36,36,36)",
              "ticks": "outside"
             }
            },
            "type": "scattergeo"
           }
          ],
          "scattergl": [
           {
            "marker": {
             "colorbar": {
              "outlinewidth": 1,
              "tickcolor": "rgb(36,36,36)",
              "ticks": "outside"
             }
            },
            "type": "scattergl"
           }
          ],
          "scattermapbox": [
           {
            "marker": {
             "colorbar": {
              "outlinewidth": 1,
              "tickcolor": "rgb(36,36,36)",
              "ticks": "outside"
             }
            },
            "type": "scattermapbox"
           }
          ],
          "scatterpolar": [
           {
            "marker": {
             "colorbar": {
              "outlinewidth": 1,
              "tickcolor": "rgb(36,36,36)",
              "ticks": "outside"
             }
            },
            "type": "scatterpolar"
           }
          ],
          "scatterpolargl": [
           {
            "marker": {
             "colorbar": {
              "outlinewidth": 1,
              "tickcolor": "rgb(36,36,36)",
              "ticks": "outside"
             }
            },
            "type": "scatterpolargl"
           }
          ],
          "scatterternary": [
           {
            "marker": {
             "colorbar": {
              "outlinewidth": 1,
              "tickcolor": "rgb(36,36,36)",
              "ticks": "outside"
             }
            },
            "type": "scatterternary"
           }
          ],
          "surface": [
           {
            "colorbar": {
             "outlinewidth": 1,
             "tickcolor": "rgb(36,36,36)",
             "ticks": "outside"
            },
            "colorscale": [
             [
              0,
              "#440154"
             ],
             [
              0.1111111111111111,
              "#482878"
             ],
             [
              0.2222222222222222,
              "#3e4989"
             ],
             [
              0.3333333333333333,
              "#31688e"
             ],
             [
              0.4444444444444444,
              "#26828e"
             ],
             [
              0.5555555555555556,
              "#1f9e89"
             ],
             [
              0.6666666666666666,
              "#35b779"
             ],
             [
              0.7777777777777778,
              "#6ece58"
             ],
             [
              0.8888888888888888,
              "#b5de2b"
             ],
             [
              1,
              "#fde725"
             ]
            ],
            "type": "surface"
           }
          ],
          "table": [
           {
            "cells": {
             "fill": {
              "color": "rgb(237,237,237)"
             },
             "line": {
              "color": "white"
             }
            },
            "header": {
             "fill": {
              "color": "rgb(217,217,217)"
             },
             "line": {
              "color": "white"
             }
            },
            "type": "table"
           }
          ]
         },
         "layout": {
          "annotationdefaults": {
           "arrowhead": 0,
           "arrowwidth": 1
          },
          "autotypenumbers": "strict",
          "coloraxis": {
           "colorbar": {
            "outlinewidth": 1,
            "tickcolor": "rgb(36,36,36)",
            "ticks": "outside"
           }
          },
          "colorscale": {
           "diverging": [
            [
             0,
             "rgb(103,0,31)"
            ],
            [
             0.1,
             "rgb(178,24,43)"
            ],
            [
             0.2,
             "rgb(214,96,77)"
            ],
            [
             0.3,
             "rgb(244,165,130)"
            ],
            [
             0.4,
             "rgb(253,219,199)"
            ],
            [
             0.5,
             "rgb(247,247,247)"
            ],
            [
             0.6,
             "rgb(209,229,240)"
            ],
            [
             0.7,
             "rgb(146,197,222)"
            ],
            [
             0.8,
             "rgb(67,147,195)"
            ],
            [
             0.9,
             "rgb(33,102,172)"
            ],
            [
             1,
             "rgb(5,48,97)"
            ]
           ],
           "sequential": [
            [
             0,
             "#440154"
            ],
            [
             0.1111111111111111,
             "#482878"
            ],
            [
             0.2222222222222222,
             "#3e4989"
            ],
            [
             0.3333333333333333,
             "#31688e"
            ],
            [
             0.4444444444444444,
             "#26828e"
            ],
            [
             0.5555555555555556,
             "#1f9e89"
            ],
            [
             0.6666666666666666,
             "#35b779"
            ],
            [
             0.7777777777777778,
             "#6ece58"
            ],
            [
             0.8888888888888888,
             "#b5de2b"
            ],
            [
             1,
             "#fde725"
            ]
           ],
           "sequentialminus": [
            [
             0,
             "#440154"
            ],
            [
             0.1111111111111111,
             "#482878"
            ],
            [
             0.2222222222222222,
             "#3e4989"
            ],
            [
             0.3333333333333333,
             "#31688e"
            ],
            [
             0.4444444444444444,
             "#26828e"
            ],
            [
             0.5555555555555556,
             "#1f9e89"
            ],
            [
             0.6666666666666666,
             "#35b779"
            ],
            [
             0.7777777777777778,
             "#6ece58"
            ],
            [
             0.8888888888888888,
             "#b5de2b"
            ],
            [
             1,
             "#fde725"
            ]
           ]
          },
          "colorway": [
           "#1F77B4",
           "#FF7F0E",
           "#2CA02C",
           "#D62728",
           "#9467BD",
           "#8C564B",
           "#E377C2",
           "#7F7F7F",
           "#BCBD22",
           "#17BECF"
          ],
          "font": {
           "color": "rgb(36,36,36)"
          },
          "geo": {
           "bgcolor": "white",
           "lakecolor": "white",
           "landcolor": "white",
           "showlakes": true,
           "showland": true,
           "subunitcolor": "white"
          },
          "hoverlabel": {
           "align": "left"
          },
          "hovermode": "closest",
          "mapbox": {
           "style": "light"
          },
          "paper_bgcolor": "white",
          "plot_bgcolor": "white",
          "polar": {
           "angularaxis": {
            "gridcolor": "rgb(232,232,232)",
            "linecolor": "rgb(36,36,36)",
            "showgrid": false,
            "showline": true,
            "ticks": "outside"
           },
           "bgcolor": "white",
           "radialaxis": {
            "gridcolor": "rgb(232,232,232)",
            "linecolor": "rgb(36,36,36)",
            "showgrid": false,
            "showline": true,
            "ticks": "outside"
           }
          },
          "scene": {
           "xaxis": {
            "backgroundcolor": "white",
            "gridcolor": "rgb(232,232,232)",
            "gridwidth": 2,
            "linecolor": "rgb(36,36,36)",
            "showbackground": true,
            "showgrid": false,
            "showline": true,
            "ticks": "outside",
            "zeroline": false,
            "zerolinecolor": "rgb(36,36,36)"
           },
           "yaxis": {
            "backgroundcolor": "white",
            "gridcolor": "rgb(232,232,232)",
            "gridwidth": 2,
            "linecolor": "rgb(36,36,36)",
            "showbackground": true,
            "showgrid": false,
            "showline": true,
            "ticks": "outside",
            "zeroline": false,
            "zerolinecolor": "rgb(36,36,36)"
           },
           "zaxis": {
            "backgroundcolor": "white",
            "gridcolor": "rgb(232,232,232)",
            "gridwidth": 2,
            "linecolor": "rgb(36,36,36)",
            "showbackground": true,
            "showgrid": false,
            "showline": true,
            "ticks": "outside",
            "zeroline": false,
            "zerolinecolor": "rgb(36,36,36)"
           }
          },
          "shapedefaults": {
           "fillcolor": "black",
           "line": {
            "width": 0
           },
           "opacity": 0.3
          },
          "ternary": {
           "aaxis": {
            "gridcolor": "rgb(232,232,232)",
            "linecolor": "rgb(36,36,36)",
            "showgrid": false,
            "showline": true,
            "ticks": "outside"
           },
           "baxis": {
            "gridcolor": "rgb(232,232,232)",
            "linecolor": "rgb(36,36,36)",
            "showgrid": false,
            "showline": true,
            "ticks": "outside"
           },
           "bgcolor": "white",
           "caxis": {
            "gridcolor": "rgb(232,232,232)",
            "linecolor": "rgb(36,36,36)",
            "showgrid": false,
            "showline": true,
            "ticks": "outside"
           }
          },
          "title": {
           "x": 0.05
          },
          "xaxis": {
           "automargin": true,
           "gridcolor": "rgb(232,232,232)",
           "linecolor": "rgb(36,36,36)",
           "showgrid": false,
           "showline": true,
           "ticks": "outside",
           "title": {
            "standoff": 15
           },
           "zeroline": false,
           "zerolinecolor": "rgb(36,36,36)"
          },
          "yaxis": {
           "automargin": true,
           "gridcolor": "rgb(232,232,232)",
           "linecolor": "rgb(36,36,36)",
           "showgrid": false,
           "showline": true,
           "ticks": "outside",
           "title": {
            "standoff": 15
           },
           "zeroline": false,
           "zerolinecolor": "rgb(36,36,36)"
          }
         }
        },
        "title": {
         "font": {
          "color": "Black",
          "size": 22
         },
         "text": "<b>Intertopic Distance Map</b>",
         "x": 0.5,
         "xanchor": "center",
         "y": 0.95,
         "yanchor": "top"
        },
        "width": 650,
        "xaxis": {
         "anchor": "y",
         "domain": [
          0,
          1
         ],
         "range": [
          -22.190542030334473,
          27.047879886627197
         ],
         "title": {
          "text": ""
         },
         "visible": false
        },
        "yaxis": {
         "anchor": "x",
         "domain": [
          0,
          1
         ],
         "range": [
          -7.497494387626648,
          19.65380725860596
         ],
         "title": {
          "text": ""
         },
         "visible": false
        }
       }
      }
     },
     "metadata": {},
     "output_type": "display_data"
    }
   ],
   "source": [
    "model.visualize_topics()"
   ]
  },
  {
   "cell_type": "code",
   "execution_count": 23,
   "metadata": {},
   "outputs": [
    {
     "data": {
      "text/plain": [
       "{-1: [('application', 0.011034201934287792),\n",
       "  ('education', 0.010459146221417494),\n",
       "  ('analysis', 0.010271445716716582),\n",
       "  ('learning', 0.009975534450141061),\n",
       "  ('model', 0.009708085426733633),\n",
       "  ('management', 0.009644853787589069),\n",
       "  ('human', 0.00949954594097289),\n",
       "  ('study', 0.009354442982631356),\n",
       "  ('social', 0.00933614388022512),\n",
       "  ('challenge', 0.009203793546310738)],\n",
       " 0: [('network', 0.03570702084875225),\n",
       "  ('image', 0.0348651429535614),\n",
       "  ('learning', 0.033572038920714996),\n",
       "  ('neural', 0.03270845346624325),\n",
       "  ('deep', 0.03154968470284931),\n",
       "  ('machine', 0.030722349503557962),\n",
       "  ('3d', 0.02614387252739465),\n",
       "  ('model', 0.02504699113492533),\n",
       "  ('segmentation', 0.025021043372345224),\n",
       "  ('diffusion', 0.023767156843086047)],\n",
       " 1: [('alloy', 0.10985582763269966),\n",
       "  ('aluminum', 0.09514180028034441),\n",
       "  ('corrosion', 0.07755053261241762),\n",
       "  ('aluminium', 0.05516508555328614),\n",
       "  ('friction', 0.04069045877806956),\n",
       "  ('coating', 0.04069045877806956),\n",
       "  ('fatigue', 0.03931113263164384),\n",
       "  ('al', 0.037714989060756356),\n",
       "  ('property', 0.03620208739434403),\n",
       "  ('aa', 0.03496356621234891)],\n",
       " 2: [('political', 0.07437593244695014),\n",
       "  ('history', 0.05278027200899539),\n",
       "  ('crisis', 0.051026173986142856),\n",
       "  ('politics', 0.041491461106071346),\n",
       "  ('set', 0.0363213181480728),\n",
       "  ('essay', 0.0363213181480728),\n",
       "  ('theory', 0.034283057907865414),\n",
       "  ('economy', 0.034094903765028384),\n",
       "  ('city', 0.034017449324095235),\n",
       "  ('philosophy', 0.033123282300767276)],\n",
       " 3: [('heart', 0.10444207799738255),\n",
       "  ('cardiovascular', 0.0749736453242563),\n",
       "  ('guideline', 0.06891096088802466),\n",
       "  ('management', 0.0677793094921493),\n",
       "  ('developed', 0.06026894559132355),\n",
       "  ('force', 0.055964020906229005),\n",
       "  ('esc', 0.05519734197230602),\n",
       "  ('american', 0.05037643886521633),\n",
       "  ('task', 0.050257418567024835),\n",
       "  ('disease', 0.045998513370915026)],\n",
       " 4: [('psychology', 0.11017869656557187),\n",
       "  ('psychological', 0.09927144839238061),\n",
       "  ('emotion', 0.057993157148430154),\n",
       "  ('emotional', 0.05551631938879344),\n",
       "  ('cognitive', 0.05342845832554907),\n",
       "  ('psychotherapy', 0.04882696804195136),\n",
       "  ('mental', 0.046394525718744126),\n",
       "  ('internal', 0.044413055511034756),\n",
       "  ('personality', 0.03897933221029519),\n",
       "  ('seen', 0.03897933221029519)],\n",
       " 5: [('climate', 0.12348844365975262),\n",
       "  ('change', 0.08788689643662752),\n",
       "  ('energy', 0.06915352844946146),\n",
       "  ('report', 0.052594224062041006),\n",
       "  ('carbon', 0.0499110293704807),\n",
       "  ('renewable', 0.043300974433989774),\n",
       "  ('green', 0.039408143311443725),\n",
       "  ('global', 0.03839100958414761),\n",
       "  ('synthesis', 0.03309030243091298),\n",
       "  ('sixth', 0.03297642244624327)],\n",
       " 6: [('monkeypox', 0.16428177011933473),\n",
       "  ('virus', 0.11680009080169207),\n",
       "  ('outbreak', 0.0688609575705167),\n",
       "  ('may', 0.06356396083432311),\n",
       "  ('transmission', 0.045105585480776846),\n",
       "  ('june', 0.04434792085962926),\n",
       "  ('lineage', 0.03686064712311014),\n",
       "  ('clade', 0.03572838612441955),\n",
       "  ('taxonomy', 0.03572838612441955),\n",
       "  ('ib', 0.034862647793267046)],\n",
       " 7: [('diabetes', 0.18644639493137538),\n",
       "  ('standard', 0.08506245921923046),\n",
       "  ('care', 0.08395926392439994),\n",
       "  ('kidney', 0.07653175657584724),\n",
       "  ('obesity', 0.06802822806741976),\n",
       "  ('type', 0.060476912967415065),\n",
       "  ('chronic', 0.058382116201090246),\n",
       "  ('mellitus', 0.05825190614128472),\n",
       "  ('clinical', 0.05625222620139638),\n",
       "  ('management', 0.052254038176874386)],\n",
       " 8: [('information', 0.094760830270907),\n",
       "  ('system', 0.0906109874888466),\n",
       "  ('web', 0.07335188076711867),\n",
       "  ('service', 0.06919686737886194),\n",
       "  ('lampung', 0.058838436370152306),\n",
       "  ('case', 0.05876105192455373),\n",
       "  ('study', 0.04667172773267929),\n",
       "  ('website', 0.043800815839258225),\n",
       "  ('regency', 0.039251772692857866),\n",
       "  ('application', 0.03759681438414008)],\n",
       " 9: [('cancer', 0.15467473478452026),\n",
       "  ('cell', 0.13926551398555115),\n",
       "  ('therapy', 0.07485074959524081),\n",
       "  ('immunotherapy', 0.06359780892007351),\n",
       "  ('death', 0.050565718472268144),\n",
       "  ('immunity', 0.04896481497176903),\n",
       "  ('mechanism', 0.04867269633339727),\n",
       "  ('tumor', 0.04763182077492316),\n",
       "  ('molecular', 0.04249331242484417),\n",
       "  ('chemotherapy', 0.04195101842844872)],\n",
       " 10: [('curriculum', 0.1477286291005794),\n",
       "  ('school', 0.10449044401327592),\n",
       "  ('teacher', 0.09857198185168246),\n",
       "  ('skill', 0.0898404572374756),\n",
       "  ('education', 0.0780369157286922),\n",
       "  ('independent', 0.06744906951881675),\n",
       "  ('classroom', 0.0645683778915445),\n",
       "  ('academic', 0.06417175516962544),\n",
       "  ('student', 0.06185673451735188),\n",
       "  ('mastering', 0.05666874803263799)],\n",
       " 11: [('genome', 0.1567880767174554),\n",
       "  ('database', 0.15413335547537838),\n",
       "  ('gene', 0.07940462444011757),\n",
       "  ('ontology', 0.05582474338539785),\n",
       "  ('knowledgebase', 0.05582474338539785),\n",
       "  ('center', 0.05582474338539785),\n",
       "  ('sequencing', 0.05372528309402435),\n",
       "  ('resource', 0.053672519238980976),\n",
       "  ('update', 0.05243171321281686),\n",
       "  ('browser', 0.04899485506988492)],\n",
       " 12: [('innovative', 0.08425251983758471),\n",
       "  ('enterprise', 0.08425251983758471),\n",
       "  ('business', 0.08324174630207488),\n",
       "  ('employee', 0.07243545771866992),\n",
       "  ('innovation', 0.06643614020507907),\n",
       "  ('management', 0.060557974476300166),\n",
       "  ('entrepreneurship', 0.054691931240801774),\n",
       "  ('operation', 0.054691931240801774),\n",
       "  ('organization', 0.05065012588871287),\n",
       "  ('leadership', 0.04882214625053888)],\n",
       " 13: [('health', 0.13665236608939793),\n",
       "  ('care', 0.10255024379337421),\n",
       "  ('standard', 0.07898656927499972),\n",
       "  ('evaluation', 0.04800523459884013),\n",
       "  ('reporting', 0.04500445159026264),\n",
       "  ('cheer', 0.04382148527989708),\n",
       "  ('outcome', 0.041540856743133),\n",
       "  ('primary', 0.041540856743133),\n",
       "  ('facilitating', 0.04116932243288756),\n",
       "  ('medical', 0.03904871554519447)],\n",
       " 14: [('language', 0.23017451452064996),\n",
       "  ('large', 0.19420509990861073),\n",
       "  ('model', 0.18234782516611078),\n",
       "  ('speech', 0.03995799654061922),\n",
       "  ('rtl', 0.037543716719857206),\n",
       "  ('scaling', 0.037543716719857206),\n",
       "  ('sampling', 0.0345846035787423),\n",
       "  ('repair', 0.030872827776076053),\n",
       "  ('code', 0.02955427590991651),\n",
       "  ('collaboration', 0.02955427590991651)],\n",
       " 15: [('chatgpt', 0.22451846751361204),\n",
       "  ('chatbots', 0.06115763451019372),\n",
       "  ('writing', 0.05165111651892459),\n",
       "  ('medical', 0.04969836523933842),\n",
       "  ('artificial', 0.04756625863299843),\n",
       "  ('intelligence', 0.04716824191634001),\n",
       "  ('future', 0.04179675750738134),\n",
       "  ('academic', 0.037894309179217545),\n",
       "  ('research', 0.03745838653988955),\n",
       "  ('worker', 0.03718186629809449)],\n",
       " 16: [('catalyst', 0.12423674183859591),\n",
       "  ('oxygen', 0.09893973397669803),\n",
       "  ('reaction', 0.08282449455906395),\n",
       "  ('production', 0.06961113274251404),\n",
       "  ('catalytic', 0.06499542689700222),\n",
       "  ('evolution', 0.06406337188895021),\n",
       "  ('electrocatalysts', 0.06221952823140318),\n",
       "  ('oxidation', 0.056081398653500654),\n",
       "  ('splitting', 0.05472248430707862),\n",
       "  ('water', 0.04659955221323751)],\n",
       " 17: [('black', 0.12964020316753888),\n",
       "  ('hole', 0.12681561140664072),\n",
       "  ('gravity', 0.09210048530404173),\n",
       "  ('galaxy', 0.08899213376865163),\n",
       "  ('jwst', 0.07014032710788251),\n",
       "  ('cosmological', 0.07014032710788251),\n",
       "  ('desi', 0.07014032710788251),\n",
       "  ('cosmic', 0.05599412007986848),\n",
       "  ('baryon', 0.05599412007986848),\n",
       "  ('oscillation', 0.05599412007986848)],\n",
       " 18: [('consumer', 0.15526535798640612),\n",
       "  ('marketing', 0.1273919606789412),\n",
       "  ('decision', 0.10432267486879099),\n",
       "  ('customer', 0.08899213376865163),\n",
       "  ('theory', 0.08693203969494442),\n",
       "  ('purchasing', 0.08416839252945903),\n",
       "  ('online', 0.07304887940794326),\n",
       "  ('purchase', 0.06719294409584219),\n",
       "  ('interactive', 0.059981493964947764),\n",
       "  ('trust', 0.04862805213238648)],\n",
       " 19: [('hydrogel', 0.08874539786243307),\n",
       "  ('recent', 0.07873409424059698),\n",
       "  ('chemical', 0.06835581798143665),\n",
       "  ('molecular', 0.0675616942201296),\n",
       "  ('biomaterials', 0.06422572923145384),\n",
       "  ('degradable', 0.06422572923145384),\n",
       "  ('bio', 0.06422572923145384),\n",
       "  ('emerging', 0.06164024754381094),\n",
       "  ('biochemistry', 0.05916359857495539),\n",
       "  ('organic', 0.05788779122893617)],\n",
       " 20: [('resistance', 0.10671009064091334),\n",
       "  ('antimicrobial', 0.09473192774130007),\n",
       "  ('bacterial', 0.08621536659156669),\n",
       "  ('infection', 0.07104762081158864),\n",
       "  ('gonorrhoeae', 0.05759395208215044),\n",
       "  ('neisseria', 0.05759395208215044),\n",
       "  ('streptococcus', 0.05759395208215044),\n",
       "  ('invasive', 0.04921691661733035),\n",
       "  ('emergence', 0.04576738308102084),\n",
       "  ('increase', 0.04436153085325888)],\n",
       " 21: [('intelligence', 0.26249805019093453),\n",
       "  ('artificial', 0.2545317985226016),\n",
       "  ('education', 0.07397661935194552),\n",
       "  ('medicine', 0.057066994608710744),\n",
       "  ('generative', 0.05092445128663259),\n",
       "  ('act', 0.047751330829532514),\n",
       "  ('era', 0.04766010527000604),\n",
       "  ('ten', 0.042626442411638),\n",
       "  ('ai', 0.03823005002730708),\n",
       "  ('scientific', 0.032444197029922295)],\n",
       " 22: [('sport', 0.17148917783703624),\n",
       "  ('fitness', 0.09918513801973726),\n",
       "  ('exercise', 0.08244885176920298),\n",
       "  ('training', 0.08194239506275247),\n",
       "  ('extracurricular', 0.07236163210321467),\n",
       "  ('physical', 0.06798216319687074),\n",
       "  ('muscle', 0.05236867152718544),\n",
       "  ('running', 0.05236867152718544),\n",
       "  ('sukoharjo', 0.05236867152718544),\n",
       "  ('dumbbell', 0.05236867152718544)],\n",
       " 23: [('electronic', 0.0796232605058493),\n",
       "  ('transistor', 0.07753032011058714),\n",
       "  ('nanoclusters', 0.07753032011058714),\n",
       "  ('bimetallic', 0.056109290921984405),\n",
       "  ('interfacial', 0.056109290921984405),\n",
       "  ('nanogenerators', 0.056109290921984405),\n",
       "  ('sers', 0.056109290921984405),\n",
       "  ('triboelectric', 0.056109290921984405),\n",
       "  ('absorption', 0.056109290921984405),\n",
       "  ('graphene', 0.056109290921984405)],\n",
       " 24: [('battery', 0.30490412313589427),\n",
       "  ('lithium', 0.10865787592049868),\n",
       "  ('electrolyte', 0.094352911854974),\n",
       "  ('metal', 0.08303559036970673),\n",
       "  ('rechargeable', 0.07927257449509471),\n",
       "  ('storage', 0.07447484170443705),\n",
       "  ('anode', 0.07447484170443705),\n",
       "  ('aqueous', 0.06774238523171874),\n",
       "  ('flexible', 0.061059410444092285),\n",
       "  ('janus', 0.057370173864051466)],\n",
       " 25: [('pharmacology', 0.11663068270962064),\n",
       "  ('therapeutic', 0.09968209986943335),\n",
       "  ('discovery', 0.08373711507809678),\n",
       "  ('target', 0.0806912722439005),\n",
       "  ('drug', 0.0745993707013931),\n",
       "  ('drugbank', 0.07091590935973027),\n",
       "  ('pharmacological', 0.07091590935973027),\n",
       "  ('ethnomedicinal', 0.07091590935973027),\n",
       "  ('concise', 0.07091590935973027),\n",
       "  ('pharmaceutical', 0.06532647342651324)],\n",
       " 26: [('mathematics', 0.1956618545002355),\n",
       "  ('learning', 0.16529905781581045),\n",
       "  ('student', 0.1024090883964137),\n",
       "  ('outcome', 0.0711497652728129),\n",
       "  ('independence', 0.054318568871282766),\n",
       "  ('differentiates', 0.054318568871282766),\n",
       "  ('differentiated', 0.047008942636134025),\n",
       "  ('strategy', 0.04585110525348665),\n",
       "  ('literacy', 0.04466706997389727),\n",
       "  ('mathematical', 0.04466706997389727)],\n",
       " 27: [('cancer', 0.27850265636415045),\n",
       "  ('statistic', 0.21399523050008412),\n",
       "  ('incidence', 0.10306106471150372),\n",
       "  ('breast', 0.09026822570484545),\n",
       "  ('lung', 0.06612342534649152),\n",
       "  ('screening', 0.06612342534649152),\n",
       "  ('estimate', 0.06612342534649152),\n",
       "  ('trend', 0.05244534931852337),\n",
       "  ('factor', 0.05145865082008793),\n",
       "  ('actionability', 0.04953895513474677)],\n",
       " 28: [('microbiome', 0.16405638872443448),\n",
       "  ('microbiota', 0.1578865462355001),\n",
       "  ('gut', 0.10937092581628967),\n",
       "  ('microbial', 0.08568784852135394),\n",
       "  ('soil', 0.08202819436221724),\n",
       "  ('macrofungal', 0.06946864590340926),\n",
       "  ('fungi', 0.06946864590340926),\n",
       "  ('wound', 0.06399328009127826),\n",
       "  ('fatty', 0.06399328009127826),\n",
       "  ('acid', 0.0626133252068085)],\n",
       " 29: [('alzheimer', 0.24791977482316713),\n",
       "  ('neurodegenerative', 0.12447438331821403),\n",
       "  ('disease', 0.12286926841636946),\n",
       "  ('drug', 0.09456258257923068),\n",
       "  ('neurodegeneration', 0.07191472498451522),\n",
       "  ('astrocyte', 0.07191472498451522),\n",
       "  ('neuroinflammation', 0.06624656460153455),\n",
       "  ('progression', 0.06624656460153455),\n",
       "  ('biological', 0.05913668419079357),\n",
       "  ('pipeline', 0.05913668419079357)],\n",
       " 30: [('orphilus', 0.10211890947801161),\n",
       "  ('insect', 0.09407012173417906),\n",
       "  ('evolution', 0.08868201051484678),\n",
       "  ('ecosystem', 0.08837681215593196),\n",
       "  ('economics', 0.07475339236566737),\n",
       "  ('middle', 0.07245716706032285),\n",
       "  ('specie', 0.06533866239643961),\n",
       "  ('zhantiev', 0.05796057750765372),\n",
       "  ('ecological', 0.05796057750765372),\n",
       "  ('ecology', 0.05796057750765372)],\n",
       " 31: [('higgs', 0.13995681925154477),\n",
       "  ('symmetry', 0.13995681925154477),\n",
       "  ('boson', 0.13995681925154477),\n",
       "  ('13', 0.11196545540123583),\n",
       "  ('decay', 0.11196545540123583),\n",
       "  ('tev', 0.10718350729996388),\n",
       "  ('collision', 0.10315254354052676),\n",
       "  ('measurement', 0.0914161289221888),\n",
       "  ('pp', 0.08837681215593196),\n",
       "  ('channel', 0.08038763047497291)],\n",
       " 32: [('quantum', 0.2513843481444593),\n",
       "  ('physic', 0.1487777070296059),\n",
       "  ('particle', 0.12565127383930694),\n",
       "  ('modulation', 0.09045204012901834),\n",
       "  ('experiment', 0.08074431879896815),\n",
       "  ('electron', 0.07438885351480296),\n",
       "  ('computing', 0.07438885351480296),\n",
       "  ('review', 0.0568222380931167),\n",
       "  ('punch', 0.05573132452659012),\n",
       "  ('beginner', 0.05573132452659012)],\n",
       " 33: [('ba', 0.24109159038188535),\n",
       "  ('antibody', 0.23330504426666557),\n",
       "  ('omicron', 0.19314355744515338),\n",
       "  ('bivalent', 0.13701831342004955),\n",
       "  ('xbb', 0.13287228041015814),\n",
       "  ('vaccine', 0.12491057419768146),\n",
       "  ('bq', 0.10938386248160355),\n",
       "  ('watch', 0.10938386248160355),\n",
       "  ('variant', 0.09985584974694135),\n",
       "  ('escape', 0.09764429250107776)],\n",
       " 34: [('photocatalytic', 0.23360435114271053),\n",
       "  ('co2', 0.1339103451008625),\n",
       "  ('photocatalyst', 0.11023842390724109),\n",
       "  ('covalent', 0.08491074264881585),\n",
       "  ('photodynamic', 0.07978039802969657),\n",
       "  ('photoreduction', 0.07978039802969657),\n",
       "  ('mxene', 0.07978039802969657),\n",
       "  ('heterostructures', 0.07978039802969657),\n",
       "  ('reduction', 0.07490047048704718),\n",
       "  ('tio2', 0.07349228260482739)],\n",
       " 35: [('urology', 0.18051695119592182),\n",
       "  ('urinary', 0.16077526094994582),\n",
       "  ('prostate', 0.15472881531079014),\n",
       "  ('renal', 0.12894067942565843),\n",
       "  ('guideline', 0.1240528554957564),\n",
       "  ('association', 0.11715386441701438),\n",
       "  ('carcinoma', 0.11196545540123583),\n",
       "  ('european', 0.09961953028322798),\n",
       "  ('bladder', 0.09407012173417906),\n",
       "  ('update', 0.09060200043174753)],\n",
       " 36: [('advisory', 0.14297096900537476),\n",
       "  ('immunization', 0.14297096900537476),\n",
       "  ('committee', 0.1368166227787423),\n",
       "  ('vaccine', 0.13207757435656484),\n",
       "  ('recommendation', 0.11632542723981686),\n",
       "  ('state', 0.09433232458188787),\n",
       "  ('infant', 0.09366406651863605),\n",
       "  ('respiratory', 0.07918816072166432),\n",
       "  ('effectiveness', 0.07140837420375913),\n",
       "  ('syncytial', 0.06341344889786481)],\n",
       " 37: [('variant', 0.2430453701387818),\n",
       "  ('omicron', 0.22792927533836285),\n",
       "  ('delta', 0.21560407764667167),\n",
       "  ('december', 0.12164215040156456),\n",
       "  ('ba', 0.09027812818363776),\n",
       "  ('january', 0.08838205926034605),\n",
       "  ('compared', 0.07922084108578006),\n",
       "  ('period', 0.07052206826949751),\n",
       "  ('among', 0.06856080522104947),\n",
       "  ('529', 0.06422572923145384)],\n",
       " 38: [('child', 0.20836375954527037),\n",
       "  ('adolescent', 0.18209280012874),\n",
       "  ('older', 0.10858718735033647),\n",
       "  ('adult', 0.10016847588897995),\n",
       "  ('hospitalization', 0.10004018231301086),\n",
       "  ('care', 0.08989431533974546),\n",
       "  ('infant', 0.08865788365298481),\n",
       "  ('14', 0.08803354265345828),\n",
       "  ('standard', 0.08432916215699574),\n",
       "  ('death', 0.08264879502018999)],\n",
       " 39: [('signaling', 0.14140289944949114),\n",
       "  ('mitochondrial', 0.14140289944949114),\n",
       "  ('mitochondrion', 0.11288414608101487),\n",
       "  ('therapeutic', 0.09569481587465603),\n",
       "  ('pathway', 0.0929563456249734),\n",
       "  ('mechanism', 0.08788898309344878),\n",
       "  ('molecular', 0.08593847504800485),\n",
       "  ('injury', 0.08169512758240928),\n",
       "  ('disease', 0.08142136853724749),\n",
       "  ('stress', 0.07669808177873631)],\n",
       " 40: [('food', 0.22101435642329417),\n",
       "  ('nutrition', 0.16519030309519991),\n",
       "  ('security', 0.16450751413499873),\n",
       "  ('fish', 0.12389272732139996),\n",
       "  ('world', 0.10370109738574741),\n",
       "  ('norwegian', 0.09543823315702019),\n",
       "  ('waste', 0.09543823315702019),\n",
       "  ('fishery', 0.09543823315702019),\n",
       "  ('environmental', 0.08774804428216065),\n",
       "  ('wheat', 0.05416876402584459)],\n",
       " 41: [('audio', 0.2611069083254877),\n",
       "  ('clip', 0.0919990175477582),\n",
       "  ('noise', 0.0919990175477582),\n",
       "  ('supervision', 0.0796187496900288),\n",
       "  ('deep', 0.07057298311114305),\n",
       "  ('representation', 0.06734539852762826),\n",
       "  ('speech', 0.06527672708137193),\n",
       "  ('concept', 0.060252954375174896),\n",
       "  ('natural', 0.05528023306547058),\n",
       "  ('garbage', 0.05221673649338173)],\n",
       " 42: [('teaching', 0.20524984588466885),\n",
       "  ('russian', 0.1947786837830727),\n",
       "  ('language', 0.19087642667566096),\n",
       "  ('english', 0.18562119998988524),\n",
       "  ('foreign', 0.13702437012779473),\n",
       "  ('method', 0.10939152624162371),\n",
       "  ('translation', 0.09542510403514418),\n",
       "  ('almost', 0.06586429262233377),\n",
       "  ('assignment', 0.06586429262233377),\n",
       "  ('cyber', 0.06586429262233377)],\n",
       " 43: [('diagnosis', 0.16473070353999858),\n",
       "  ('classification', 0.14413936559749876),\n",
       "  ('polyangiitis', 0.12827743872842598),\n",
       "  ('alliance', 0.12051383475808904),\n",
       "  ('rheumatology', 0.12051383475808904),\n",
       "  ('update', 0.1098206065839364),\n",
       "  ('criterion', 0.09349376821587489),\n",
       "  ('cutaneous', 0.09283537225273782),\n",
       "  ('myeloma', 0.09283537225273782),\n",
       "  ('granulomatosis', 0.09283537225273782)],\n",
       " 44: [('cook', 0.38569437676088664),\n",
       "  ('centrobolus', 0.3661218151524633),\n",
       "  ('related', 0.2644873219942773),\n",
       "  ('mating', 0.18097864558389412),\n",
       "  ('frequency', 0.1732492036098554),\n",
       "  ('length', 0.15237381406195166),\n",
       "  ('absolute', 0.14478291646711527),\n",
       "  ('abundance', 0.13338690975068115),\n",
       "  ('tarsal', 0.12164239879419705),\n",
       "  ('pad', 0.12164239879419705)],\n",
       " 45: [('chatgpt', 0.14655101207673848),\n",
       "  ('gpt', 0.1410309306578472),\n",
       "  ('education', 0.12783678958187075),\n",
       "  ('chat', 0.1057731979933854),\n",
       "  ('higher', 0.09861577138522822),\n",
       "  ('academia', 0.08957799077018562),\n",
       "  ('benefit', 0.08957799077018562),\n",
       "  ('productivity', 0.08251765064401671),\n",
       "  ('teaching', 0.07921923876250378),\n",
       "  ('challenge', 0.06599604382891447)],\n",
       " 46: [('protein', 0.2964169184469815),\n",
       "  ('molecule', 0.14787176951086295),\n",
       "  ('kinase', 0.14398488020537611),\n",
       "  ('small', 0.14369227765261114),\n",
       "  ('extracellular', 0.12853177278203093),\n",
       "  ('inhibitor', 0.10776920823945835),\n",
       "  ('structure', 0.1065796071474405),\n",
       "  ('alphafold', 0.0959899201369174),\n",
       "  ('vesicle', 0.08568784852135394),\n",
       "  ('rna', 0.08202819436221724)],\n",
       " 47: [('saving', 0.2796303891158858),\n",
       "  ('liquidity', 0.25293401069556287),\n",
       "  ('escaped', 0.2129561738697156),\n",
       "  ('velocity', 0.17000624409791396),\n",
       "  ('minimum', 0.1597171304022867),\n",
       "  ('money', 0.14527885025597512),\n",
       "  ('cycle', 0.14527885025597512),\n",
       "  ('monetary', 0.12303483069639953),\n",
       "  ('financial', 0.11808191999356554),\n",
       "  ('inflation', 0.10117360427822515)],\n",
       " 48: [('coronavirus', 0.14028065421576502),\n",
       "  ('parvovirus', 0.08104675355397746),\n",
       "  ('b19', 0.08104675355397746),\n",
       "  ('french', 0.07465882677315798),\n",
       "  ('increased', 0.07014032710788251),\n",
       "  ('epidemic', 0.06664610440549751),\n",
       "  ('france', 0.0544143624536838),\n",
       "  ('infection', 0.051805556841783375),\n",
       "  ('united', 0.050726244562656286),\n",
       "  ('april', 0.04692169868510412)],\n",
       " 49: [('qualitative', 0.46325741007865945),\n",
       "  ('research', 0.30736124739217485),\n",
       "  ('quantitative', 0.1702177531437707),\n",
       "  ('collection', 0.1194281245350432),\n",
       "  ('data', 0.11327645410407766),\n",
       "  ('methodology', 0.10863193307428771),\n",
       "  ('social', 0.10177459264026345),\n",
       "  ('scientific', 0.08637171371479314),\n",
       "  ('guide', 0.07989370316652865),\n",
       "  ('indigenous', 0.07832510474007259)],\n",
       " 50: [('woman', 0.24985230020800983),\n",
       "  ('gender', 0.1621898650589294),\n",
       "  ('every', 0.15237381406195166),\n",
       "  ('movement', 0.11737805687127771),\n",
       "  ('sex', 0.0889246065004541),\n",
       "  ('national', 0.06677898392598663),\n",
       "  ('league', 0.06662135345707323),\n",
       "  ('feminist', 0.06662135345707323),\n",
       "  ('gay', 0.06662135345707323),\n",
       "  ('consent', 0.06662135345707323)],\n",
       " 51: [('digital', 0.3097395304679251),\n",
       "  ('transformation', 0.167640990594713),\n",
       "  ('news', 0.15781573599273566),\n",
       "  ('hindu', 0.1215701303309662),\n",
       "  ('citizen', 0.11198824015973696),\n",
       "  ('technology', 0.07417065800929828),\n",
       "  ('business', 0.07304887940794326),\n",
       "  ('hat', 0.06900068750911156),\n",
       "  ('elevate', 0.06900068750911156),\n",
       "  ('portal', 0.06900068750911156)],\n",
       " 52: [('law', 0.4314817328066766),\n",
       "  ('criminal', 0.1926771876943615),\n",
       "  ('constitutionality', 0.1926771876943615),\n",
       "  ('justice', 0.17749079572486615),\n",
       "  ('administrative', 0.17749079572486615),\n",
       "  ('principle', 0.17039609847029116),\n",
       "  ('control', 0.129362446588003),\n",
       "  ('three', 0.10935958020312023),\n",
       "  ('nuance', 0.10935958020312023),\n",
       "  ('entity', 0.10935958020312023)],\n",
       " 53: [('allergic', 0.13436698615527842),\n",
       "  ('allergy', 0.13436698615527842),\n",
       "  ('tuberculosis', 0.12377647596602506),\n",
       "  ('infection', 0.11451754670288956),\n",
       "  ('infectious', 0.11049222572490376),\n",
       "  ('aged', 0.1057731979933854),\n",
       "  ('treatment', 0.09975759783781113),\n",
       "  ('america', 0.0953383777109511),\n",
       "  ('doctor', 0.07626391777322858),\n",
       "  ('rhinology', 0.07626391777322858)],\n",
       " 54: [('tree', 0.39490400349496463),\n",
       "  ('sanger', 0.32858634006886756),\n",
       "  ('life', 0.2794204638106403),\n",
       "  ('dna', 0.22602889019222505),\n",
       "  ('hmw', 0.19423475199105927),\n",
       "  ('extraction', 0.1325070832005048),\n",
       "  ('automated', 0.12321987752582533),\n",
       "  ('pacbio', 0.11221858184396881),\n",
       "  ('magattract', 0.11221858184396881),\n",
       "  ('diagenode', 0.11221858184396881)],\n",
       " 55: [('liver', 0.20764831212685378),\n",
       "  ('hepatitis', 0.1730402601057115),\n",
       "  ('unknown', 0.15550757694616085),\n",
       "  ('aetiology', 0.13065294685302647),\n",
       "  ('country', 0.0887709279846485),\n",
       "  ('april', 0.08211297269893221),\n",
       "  ('child', 0.0745993707013931),\n",
       "  ('acute', 0.06708996950029893),\n",
       "  ('failure', 0.061926647552263084),\n",
       "  ('case', 0.05571418256550279)],\n",
       " 56: [('h5n1', 0.309091419511499),\n",
       "  ('avian', 0.28856236085975184),\n",
       "  ('influenza', 0.25755059236414196),\n",
       "  ('pathogenic', 0.24509308972349958),\n",
       "  ('highly', 0.2095576004883506),\n",
       "  ('dairy', 0.14488001992775731),\n",
       "  ('virus', 0.13868301179498335),\n",
       "  ('cat', 0.10324683387409041),\n",
       "  ('cattle', 0.10324683387409041),\n",
       "  ('infection', 0.08917349948175826)]}"
      ]
     },
     "execution_count": 23,
     "metadata": {},
     "output_type": "execute_result"
    }
   ],
   "source": [
    "model.get_topics()"
   ]
  }
 ],
 "metadata": {
  "kernelspec": {
   "display_name": "Python 3",
   "language": "python",
   "name": "python3"
  },
  "language_info": {
   "codemirror_mode": {
    "name": "ipython",
    "version": 3
   },
   "file_extension": ".py",
   "mimetype": "text/x-python",
   "name": "python",
   "nbconvert_exporter": "python",
   "pygments_lexer": "ipython3",
   "version": "3.12.5"
  }
 },
 "nbformat": 4,
 "nbformat_minor": 2
}
